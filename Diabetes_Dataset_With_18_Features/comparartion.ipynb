{
 "cells": [
  {
   "cell_type": "code",
   "execution_count": 1,
   "id": "640c46ba",
   "metadata": {},
   "outputs": [],
   "source": [
    "import numpy as np \n",
    "import pandas as pd\n",
    "from sklearn.preprocessing import MinMaxScaler\n",
    "import seaborn as sns\n",
    "import matplotlib.pyplot as plt\n",
    "from sklearn.model_selection import train_test_split\n",
    "from sklearn.ensemble import RandomForestClassifier\n",
    "from xgboost import XGBClassifier\n",
    "from lightgbm import LGBMClassifier\n",
    "from sklearn.metrics import accuracy_score, classification_report, confusion_matrix, roc_auc_score, roc_curve"
   ]
  },
  {
   "cell_type": "code",
   "execution_count": 2,
   "id": "706432e3",
   "metadata": {},
   "outputs": [],
   "source": [
    "df=pd.read_csv('diabetes.csv')\n"
   ]
  },
  {
   "cell_type": "code",
   "execution_count": 3,
   "id": "957a451d",
   "metadata": {},
   "outputs": [],
   "source": [
    "df=df.drop(columns='family_histroy')"
   ]
  },
  {
   "cell_type": "code",
   "execution_count": 4,
   "id": "261f6607",
   "metadata": {},
   "outputs": [
    {
     "data": {
      "text/plain": [
       "smoking\n",
       "3.000000    2534\n",
       "4.860753     888\n",
       "1.000000     745\n",
       "2.000000     136\n",
       "Name: count, dtype: int64"
      ]
     },
     "execution_count": 4,
     "metadata": {},
     "output_type": "execute_result"
    }
   ],
   "source": [
    "df['smoking'].value_counts()"
   ]
  },
  {
   "cell_type": "code",
   "execution_count": 5,
   "id": "563d45af",
   "metadata": {},
   "outputs": [
    {
     "data": {
      "text/plain": [
       "Age           0\n",
       "Gender        0\n",
       "BMI           0\n",
       "SBP           0\n",
       "DBP           0\n",
       "FPG           0\n",
       "Chol         14\n",
       "Tri          14\n",
       "HDL         411\n",
       "LDL         394\n",
       "ALT           9\n",
       "BUN          96\n",
       "CCR          34\n",
       "FFPG          0\n",
       "smoking     888\n",
       "drinking    888\n",
       "Diabetes      0\n",
       "dtype: int64"
      ]
     },
     "execution_count": 5,
     "metadata": {},
     "output_type": "execute_result"
    }
   ],
   "source": [
    "(df == 4.860753).sum()"
   ]
  },
  {
   "cell_type": "code",
   "execution_count": 6,
   "id": "9d9e6b97",
   "metadata": {},
   "outputs": [],
   "source": [
    "df.replace(4.860753, np.nan, inplace=True)\n",
    "df.dropna(inplace=True)"
   ]
  },
  {
   "cell_type": "code",
   "execution_count": 8,
   "id": "6b087dd2",
   "metadata": {},
   "outputs": [
    {
     "data": {
      "text/plain": [
       "smoking\n",
       "3.0    2429\n",
       "1.0     698\n",
       "2.0     133\n",
       "Name: count, dtype: int64"
      ]
     },
     "execution_count": 8,
     "metadata": {},
     "output_type": "execute_result"
    }
   ],
   "source": [
    "df['smoking'].value_counts()"
   ]
  },
  {
   "cell_type": "code",
   "execution_count": 7,
   "id": "e513210f",
   "metadata": {},
   "outputs": [
    {
     "data": {
      "image/png": "[encoded data removed]",
      "text/plain": [
       "<Figure size 700x700 with 1 Axes>"
      ]
     },
     "metadata": {},
     "output_type": "display_data"
    }
   ],
   "source": [
    "fig, axes = plt.subplots(figsize=(7, 7))\n",
    "df['smoking'].value_counts().plot.pie(autopct='%1.1f%%')\n",
    "axes.set_title('smoking')\n",
    "plt.show()"
   ]
  },
  {
   "cell_type": "code",
   "execution_count": null,
   "id": "574a4180",
   "metadata": {},
   "outputs": [],
   "source": [
    "import matplotlib.pyplot as plt\n",
    "df2p=df2.drop(\"id\",axis=1)\n",
    "summary = df.describe().loc[[\"min\", \"max\"]].T\n",
    "print(summary)\n",
    "summary[\"range\"] = summary[\"max\"] - summary[\"min\"]\n",
    "\n",
    "plt.figure(figsize=(10, 6))\n",
    "plt.barh(summary.index, summary[\"range\"], left=summary[\"min\"])\n",
    "plt.xlabel(\"Value Range\")\n",
    "plt.title(\"Value Range of Each Column\")\n",
    "plt.tight_layout()\n",
    "plt.show()"
   ]
  },
  {
   "cell_type": "code",
   "execution_count": null,
   "id": "c0d07b73",
   "metadata": {},
   "outputs": [],
   "source": [
    "df.plot.box(figsize=(12, 6), vert=False)\n",
    "plt.title(\"Boxplot of Each Column\")\n",
    "plt.tight_layout()\n",
    "plt.show()"
   ]
  },
  {
   "cell_type": "code",
   "execution_count": null,
   "id": "37f59a02",
   "metadata": {},
   "outputs": [],
   "source": [
    "cols_to_exclude = [\"Gender\", \"smoking\", \"drinking\", \"Diabetes\"]\n",
    "pca_data = df.drop(columns=cols_to_exclude)\n",
    "from sklearn.preprocessing import StandardScaler\n",
    "\n",
    "scaler = StandardScaler()\n",
    "scaled_data = scaler.fit_transform(pca_data)\n",
    "from sklearn.decomposition import PCA\n",
    "\n",
    "pca = PCA(n_components=2)\n",
    "pca_result = pca.fit_transform(scaled_data)\n",
    "import matplotlib.pyplot as plt\n",
    "\n",
    "plt.figure(figsize=(8, 6))\n",
    "scatter = plt.scatter(pca_result[:, 0], pca_result[:, 1], \n",
    "                      c=df[\"smoking\"], cmap=\"coolwarm\", alpha=0.7)\n",
    "plt.xlabel(\"PCA Component 1\")\n",
    "plt.ylabel(\"PCA Component 2\")\n",
    "plt.title(\"PCA Projection of Health Data\")\n",
    "plt.colorbar(scatter, label=\"smoking\")\n",
    "plt.tight_layout()\n",
    "plt.show()"
   ]
  }
 ],
 "metadata": {
  "kernelspec": {
   "display_name": "base",
   "language": "python",
   "name": "python3"
  },
  "language_info": {
   "codemirror_mode": {
    "name": "ipython",
    "version": 3
   },
   "file_extension": ".py",
   "mimetype": "text/x-python",
   "name": "python",
   "nbconvert_exporter": "python",
   "pygments_lexer": "ipython3",
   "version": "3.12.7"
  }
 },
 "nbformat": 4,
 "nbformat_minor": 5
}
