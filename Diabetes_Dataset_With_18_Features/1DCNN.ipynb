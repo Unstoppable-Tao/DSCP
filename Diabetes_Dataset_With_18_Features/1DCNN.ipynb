{
 "cells": [
  {
   "cell_type": "code",
   "execution_count": 1,
   "id": "a44a3d80",
   "metadata": {},
   "outputs": [],
   "source": [
    "import pandas as pd\n",
    "import torch\n",
    "import torch.nn as nn\n",
    "import torch.optim as optim\n",
    "from sklearn.model_selection import train_test_split\n",
    "from sklearn.preprocessing import StandardScaler\n",
    "from sklearn.metrics import accuracy_score\n",
    "import numpy as np \n",
    "from sklearn.metrics import classification_report"
   ]
  },
  {
   "cell_type": "code",
   "execution_count": 2,
   "id": "bee15149",
   "metadata": {},
   "outputs": [],
   "source": [
    "df=pd.read_csv('diabetes.csv')\n",
    "df=df.drop(columns='family_histroy')\n",
    "df.replace(4.860753, np.nan, inplace=True)\n",
    "df.dropna(inplace=True)\n",
    "df[\"smoking\"] = df[\"smoking\"].replace({1.0: 0, 2.0: 0, 3.0: 1})\n",
    "df_copy=df\n",
    "df_copy[\"smoking\"] = df[\"smoking\"].astype(int)\n",
    "\n",
    "\n",
    "X = df_copy.drop('smoking', axis=1)\n",
    "y = df_copy['smoking']"
   ]
  },
  {
   "cell_type": "code",
   "execution_count": null,
   "id": "a28c5245",
   "metadata": {},
   "outputs": [],
   "source": [
    "\n",
    "scaler = StandardScaler()\n",
    "X_scaled = scaler.fit_transform(X)\n",
    "\n",
    "\n",
    "X_train, X_test, y_train, y_test = train_test_split(\n",
    "    X_scaled, y, test_size=0.2, random_state=42\n",
    ")\n",
    "\n",
    "\n",
    "X_train_tensor = torch.tensor(X_train, dtype=torch.float32).unsqueeze(1)  # (batch, 1, features)\n",
    "X_test_tensor = torch.tensor(X_test, dtype=torch.float32).unsqueeze(1)\n",
    "y_train_tensor = torch.tensor(y_train.to_numpy(), dtype=torch.long)\n",
    "y_test_tensor = torch.tensor(y_test.to_numpy(), dtype=torch.long)"
   ]
  },
  {
   "cell_type": "code",
   "execution_count": null,
   "id": "2886419f",
   "metadata": {},
   "outputs": [],
   "source": [
    "\n",
    "class Tabular1DCNN(nn.Module):\n",
    "    def __init__(self, in_channels=1, num_classes=2):\n",
    "        super(Tabular1DCNN, self).__init__()\n",
    "        self.conv1 = nn.Conv1d(in_channels, 16, kernel_size=3, padding=1)\n",
    "        self.relu1 = nn.ReLU()\n",
    "        self.conv2 = nn.Conv1d(16, 32, kernel_size=3, padding=1)\n",
    "        self.relu2 = nn.ReLU()\n",
    "        self.pool = nn.AdaptiveAvgPool1d(1)\n",
    "        self.fc = nn.Linear(32, num_classes)\n",
    "\n",
    "    def forward(self, x):\n",
    "        x = self.relu1(self.conv1(x))\n",
    "        x = self.relu2(self.conv2(x))\n",
    "        x = self.pool(x).squeeze(-1)  # shape: (batch_size, channels)\n",
    "        x = self.fc(x)\n",
    "        return x"
   ]
  },
  {
   "cell_type": "code",
   "execution_count": null,
   "id": "f7760610",
   "metadata": {},
   "outputs": [
    {
     "name": "stdout",
     "output_type": "stream",
     "text": [
      "Epoch 1/20 - Loss: 0.7698\n",
      "Epoch 2/20 - Loss: 0.7613\n",
      "Epoch 3/20 - Loss: 0.7531\n",
      "Epoch 4/20 - Loss: 0.7452\n",
      "Epoch 5/20 - Loss: 0.7376\n",
      "Epoch 6/20 - Loss: 0.7302\n",
      "Epoch 7/20 - Loss: 0.7230\n",
      "Epoch 8/20 - Loss: 0.7161\n",
      "Epoch 9/20 - Loss: 0.7093\n",
      "Epoch 10/20 - Loss: 0.7027\n",
      "Epoch 11/20 - Loss: 0.6962\n",
      "Epoch 12/20 - Loss: 0.6899\n",
      "Epoch 13/20 - Loss: 0.6837\n",
      "Epoch 14/20 - Loss: 0.6776\n",
      "Epoch 15/20 - Loss: 0.6716\n",
      "Epoch 16/20 - Loss: 0.6657\n",
      "Epoch 17/20 - Loss: 0.6599\n",
      "Epoch 18/20 - Loss: 0.6541\n",
      "Epoch 19/20 - Loss: 0.6484\n",
      "Epoch 20/20 - Loss: 0.6428\n",
      "              precision    recall  f1-score   support\n",
      "\n",
      "           0       0.00      0.00      0.00       189\n",
      "           1       0.71      1.00      0.83       463\n",
      "\n",
      "    accuracy                           0.71       652\n",
      "   macro avg       0.36      0.50      0.42       652\n",
      "weighted avg       0.50      0.71      0.59       652\n",
      "\n"
     ]
    },
    {
     "name": "stderr",
     "output_type": "stream",
     "text": [
      "/opt/anaconda3/lib/python3.12/site-packages/sklearn/metrics/_classification.py:1531: UndefinedMetricWarning: Precision is ill-defined and being set to 0.0 in labels with no predicted samples. Use `zero_division` parameter to control this behavior.\n",
      "  _warn_prf(average, modifier, f\"{metric.capitalize()} is\", len(result))\n",
      "/opt/anaconda3/lib/python3.12/site-packages/sklearn/metrics/_classification.py:1531: UndefinedMetricWarning: Precision is ill-defined and being set to 0.0 in labels with no predicted samples. Use `zero_division` parameter to control this behavior.\n",
      "  _warn_prf(average, modifier, f\"{metric.capitalize()} is\", len(result))\n",
      "/opt/anaconda3/lib/python3.12/site-packages/sklearn/metrics/_classification.py:1531: UndefinedMetricWarning: Precision is ill-defined and being set to 0.0 in labels with no predicted samples. Use `zero_division` parameter to control this behavior.\n",
      "  _warn_prf(average, modifier, f\"{metric.capitalize()} is\", len(result))\n"
     ]
    }
   ],
   "source": [
    "\n",
    "model = Tabular1DCNN()\n",
    "criterion = nn.CrossEntropyLoss()\n",
    "optimizer = optim.Adam(model.parameters(), lr=0.001)\n",
    "\n",
    "\n",
    "epochs = 20\n",
    "for epoch in range(epochs):\n",
    "    model.train()\n",
    "    optimizer.zero_grad()\n",
    "    outputs = model(X_train_tensor)\n",
    "    loss = criterion(outputs, y_train_tensor)\n",
    "    loss.backward()\n",
    "    optimizer.step()\n",
    "    print(f\"Epoch {epoch+1}/{epochs} - Loss: {loss.item():.4f}\")\n",
    "\n",
    "\n",
    "model.eval()\n",
    "with torch.no_grad():\n",
    "    predictions = model(X_test_tensor)\n",
    "    predicted_classes = torch.argmax(predictions, dim=1)\n",
    "    print(classification_report(y_test_tensor, predicted_classes))"
   ]
  }
 ],
 "metadata": {
  "kernelspec": {
   "display_name": "base",
   "language": "python",
   "name": "python3"
  },
  "language_info": {
   "codemirror_mode": {
    "name": "ipython",
    "version": 3
   },
   "file_extension": ".py",
   "mimetype": "text/x-python",
   "name": "python",
   "nbconvert_exporter": "python",
   "pygments_lexer": "ipython3",
   "version": "3.12.7"
  }
 },
 "nbformat": 4,
 "nbformat_minor": 5
}
