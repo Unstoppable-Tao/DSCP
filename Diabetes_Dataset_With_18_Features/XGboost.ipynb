{
 "cells": [
  {
   "cell_type": "code",
   "execution_count": 1,
   "id": "2aba96ef",
   "metadata": {},
   "outputs": [],
   "source": [
    "import xgboost as xgb\n",
    "from sklearn.datasets import load_iris\n",
    "from sklearn.model_selection import train_test_split\n",
    "from sklearn.metrics import accuracy_score, classification_report\n",
    "import numpy as np \n",
    "import pandas as pd\n",
    "from sklearn.model_selection import cross_val_score, StratifiedKFold\n",
    "from sklearn.preprocessing import MinMaxScaler\n",
    "import optuna\n",
    "from sklearn.preprocessing import StandardScaler"
   ]
  },
  {
   "cell_type": "code",
   "execution_count": 2,
   "id": "b5c1e777",
   "metadata": {},
   "outputs": [],
   "source": [
    "df=pd.read_csv('diabetes.csv')\n",
    "df=df.drop(columns='family_histroy')\n",
    "df.replace(4.860753, np.nan, inplace=True)\n",
    "df.dropna(inplace=True)\n",
    "df[\"smoking\"] = df[\"smoking\"].replace({1.0: 0, 2.0: 0, 3.0: 1})\n",
    "df_copy=df\n",
    "df_copy[\"smoking\"] = df[\"smoking\"].astype(int)\n",
    "X = df_copy.drop('smoking', axis=1)\n",
    "y = df_copy['smoking']"
   ]
  },
  {
   "cell_type": "code",
   "execution_count": 3,
   "id": "fc4fea65",
   "metadata": {},
   "outputs": [
    {
     "name": "stderr",
     "output_type": "stream",
     "text": [
      "[I 2025-08-22 16:21:37,626] A new study created in memory with name: no-name-44a74835-1520-4c3c-b74d-57bfe748a3de\n",
      "[I 2025-08-22 16:21:38,642] Trial 0 finished with value: 0.761963190184049 and parameters: {'n_estimators': 300, 'max_depth': 7, 'learning_rate': 0.021720891163567103}. Best is trial 0 with value: 0.761963190184049.\n",
      "[I 2025-08-22 16:21:39,015] Trial 1 finished with value: 0.7668711656441717 and parameters: {'n_estimators': 180, 'max_depth': 5, 'learning_rate': 0.033453956330989076}. Best is trial 1 with value: 0.7668711656441717.\n",
      "[I 2025-08-22 16:21:39,893] Trial 2 finished with value: 0.7585889570552147 and parameters: {'n_estimators': 240, 'max_depth': 8, 'learning_rate': 0.06816259187683438}. Best is trial 1 with value: 0.7668711656441717.\n",
      "[I 2025-08-22 16:21:40,511] Trial 3 finished with value: 0.7610429447852761 and parameters: {'n_estimators': 220, 'max_depth': 6, 'learning_rate': 0.013175991915539302}. Best is trial 1 with value: 0.7668711656441717.\n",
      "[I 2025-08-22 16:21:41,289] Trial 4 finished with value: 0.748159509202454 and parameters: {'n_estimators': 220, 'max_depth': 10, 'learning_rate': 0.2142368991914312}. Best is trial 1 with value: 0.7668711656441717.\n",
      "[I 2025-08-22 16:21:41,594] Trial 5 finished with value: 0.751840490797546 and parameters: {'n_estimators': 100, 'max_depth': 6, 'learning_rate': 0.23774961355027155}. Best is trial 1 with value: 0.7668711656441717.\n",
      "[I 2025-08-22 16:21:41,872] Trial 6 finished with value: 0.7641104294478527 and parameters: {'n_estimators': 140, 'max_depth': 5, 'learning_rate': 0.034382865671319214}. Best is trial 1 with value: 0.7668711656441717.\n",
      "[I 2025-08-22 16:21:42,224] Trial 7 finished with value: 0.7521472392638037 and parameters: {'n_estimators': 240, 'max_depth': 3, 'learning_rate': 0.20222513195617386}. Best is trial 1 with value: 0.7668711656441717.\n",
      "[I 2025-08-22 16:21:42,910] Trial 8 finished with value: 0.7533742331288343 and parameters: {'n_estimators': 240, 'max_depth': 7, 'learning_rate': 0.18062363371577161}. Best is trial 1 with value: 0.7668711656441717.\n",
      "[I 2025-08-22 16:21:43,309] Trial 9 finished with value: 0.7542944785276073 and parameters: {'n_estimators': 180, 'max_depth': 5, 'learning_rate': 0.20968468539758411}. Best is trial 1 with value: 0.7668711656441717.\n",
      "[I 2025-08-22 16:21:43,566] Trial 10 finished with value: 0.7653374233128835 and parameters: {'n_estimators': 160, 'max_depth': 3, 'learning_rate': 0.07820885068773026}. Best is trial 1 with value: 0.7668711656441717.\n",
      "[I 2025-08-22 16:21:43,798] Trial 11 finished with value: 0.7631901840490797 and parameters: {'n_estimators': 160, 'max_depth': 3, 'learning_rate': 0.07748956463847995}. Best is trial 1 with value: 0.7668711656441717.\n",
      "[I 2025-08-22 16:21:43,996] Trial 12 finished with value: 0.7711656441717791 and parameters: {'n_estimators': 120, 'max_depth': 4, 'learning_rate': 0.0421540417317611}. Best is trial 12 with value: 0.7711656441717791.\n",
      "[I 2025-08-22 16:21:44,251] Trial 13 finished with value: 0.7659509202453988 and parameters: {'n_estimators': 100, 'max_depth': 4, 'learning_rate': 0.04333197815265467}. Best is trial 12 with value: 0.7711656441717791.\n",
      "[I 2025-08-22 16:21:44,481] Trial 14 finished with value: 0.7622699386503068 and parameters: {'n_estimators': 120, 'max_depth': 5, 'learning_rate': 0.02618434173181145}. Best is trial 12 with value: 0.7711656441717791.\n",
      "[I 2025-08-22 16:21:44,846] Trial 15 finished with value: 0.761963190184049 and parameters: {'n_estimators': 180, 'max_depth': 4, 'learning_rate': 0.012481037166693439}. Best is trial 12 with value: 0.7711656441717791.\n",
      "[I 2025-08-22 16:21:45,462] Trial 16 finished with value: 0.7524539877300614 and parameters: {'n_estimators': 140, 'max_depth': 9, 'learning_rate': 0.11691949661594783}. Best is trial 12 with value: 0.7711656441717791.\n",
      "[I 2025-08-22 16:21:45,938] Trial 17 finished with value: 0.7693251533742331 and parameters: {'n_estimators': 280, 'max_depth': 4, 'learning_rate': 0.01914998081724117}. Best is trial 12 with value: 0.7711656441717791.\n",
      "[I 2025-08-22 16:21:46,424] Trial 18 finished with value: 0.7696319018404909 and parameters: {'n_estimators': 300, 'max_depth': 4, 'learning_rate': 0.01841662012037269}. Best is trial 12 with value: 0.7711656441717791.\n",
      "[I 2025-08-22 16:21:46,950] Trial 19 finished with value: 0.7650306748466258 and parameters: {'n_estimators': 280, 'max_depth': 4, 'learning_rate': 0.04953993461550914}. Best is trial 12 with value: 0.7711656441717791.\n"
     ]
    },
    {
     "name": "stdout",
     "output_type": "stream",
     "text": [
      "best_params: {'n_estimators': 120, 'max_depth': 4, 'learning_rate': 0.0421540417317611}\n",
      "best_value: 0.7712\n"
     ]
    }
   ],
   "source": [
    "import optuna\n",
    "from sklearn.model_selection import StratifiedKFold\n",
    "from sklearn.preprocessing import MinMaxScaler\n",
    "from sklearn.metrics import accuracy_score\n",
    "import numpy as np\n",
    "import xgboost as xgb\n",
    "\n",
    "\n",
    "\n",
    "skf = StratifiedKFold(n_splits=5, shuffle=True, random_state=42)\n",
    "\n",
    "def objective(trial):\n",
    "   \n",
    "    n_estimators = trial.suggest_int('n_estimators', 100, 300, step=20)\n",
    "    max_depth = trial.suggest_int('max_depth', 3, 10)\n",
    "    learning_rate = trial.suggest_float('learning_rate', 0.01, 0.3, log=True)\n",
    "\n",
    "    scores = []\n",
    "\n",
    "    for train_idx, val_idx in skf.split(X, y):\n",
    "        X_train, X_val = X.iloc[train_idx], X.iloc[val_idx]\n",
    "        y_train, y_val = y.iloc[train_idx], y.iloc[val_idx]\n",
    "\n",
    "       \n",
    "        #scaler = MinMaxScaler()\n",
    "        scaler =StandardScaler()\n",
    "        X_train_scaled = scaler.fit_transform(X_train)\n",
    "        X_val_scaled = scaler.transform(X_val)\n",
    "\n",
    "       \n",
    "        model = xgb.XGBClassifier(\n",
    "            objective='binary:logistic',\n",
    "            eval_metric='logloss',\n",
    "            n_estimators=n_estimators,\n",
    "            max_depth=max_depth,\n",
    "            learning_rate=learning_rate,\n",
    "            n_jobs=-1,\n",
    "            random_state=42\n",
    "        )\n",
    "\n",
    "        model.fit(X_train_scaled, y_train)\n",
    "        y_pred = model.predict(X_val_scaled)\n",
    "        acc = accuracy_score(y_val, y_pred)\n",
    "        scores.append(acc)\n",
    "\n",
    "    return np.mean(scores)\n",
    "\n",
    "\n",
    "study = optuna.create_study(direction='maximize')\n",
    "study.optimize(objective, n_trials=20)  \n",
    "\n",
    "print(\"best_params:\", study.best_params)\n",
    "print(f\"best_value: {study.best_value:.4f}\")"
   ]
  }
 ],
 "metadata": {
  "kernelspec": {
   "display_name": "base",
   "language": "python",
   "name": "python3"
  },
  "language_info": {
   "codemirror_mode": {
    "name": "ipython",
    "version": 3
   },
   "file_extension": ".py",
   "mimetype": "text/x-python",
   "name": "python",
   "nbconvert_exporter": "python",
   "pygments_lexer": "ipython3",
   "version": "3.12.7"
  }
 },
 "nbformat": 4,
 "nbformat_minor": 5
}
