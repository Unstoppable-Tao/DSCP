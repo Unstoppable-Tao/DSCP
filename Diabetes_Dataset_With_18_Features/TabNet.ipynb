{
 "cells": [
  {
   "cell_type": "code",
   "execution_count": 1,
   "id": "acf0ec1b",
   "metadata": {},
   "outputs": [],
   "source": [
    "from pytorch_tabnet.tab_model import TabNetClassifier\n",
    "from sklearn.metrics import accuracy_score, classification_report\n",
    "from sklearn.model_selection import train_test_split\n",
    "from sklearn.preprocessing import StandardScaler\n",
    "import pandas as pd\n",
    "import numpy as np\n",
    "import torch"
   ]
  },
  {
   "cell_type": "code",
   "execution_count": 2,
   "id": "ae419b72",
   "metadata": {},
   "outputs": [],
   "source": [
    "df=pd.read_csv('diabetes.csv')\n",
    "df=df.drop(columns='family_histroy')\n",
    "df.replace(4.860753, np.nan, inplace=True)\n",
    "df.dropna(inplace=True)\n",
    "df[\"smoking\"] = df[\"smoking\"].replace({1.0: 0, 2.0: 0, 3.0: 1})\n",
    "df_copy=df\n",
    "df_copy[\"smoking\"] = df[\"smoking\"].astype(int)\n",
    "\n",
    "\n",
    "X = df_copy.drop('smoking', axis=1)\n",
    "y = df_copy['smoking']"
   ]
  },
  {
   "cell_type": "code",
   "execution_count": null,
   "id": "68a247bf",
   "metadata": {},
   "outputs": [
    {
     "name": "stderr",
     "output_type": "stream",
     "text": [
      "/opt/anaconda3/lib/python3.12/site-packages/pytorch_tabnet/abstract_model.py:82: UserWarning: Device used : cpu\n",
      "  warnings.warn(f\"Device used : {self.device}\")\n"
     ]
    },
    {
     "name": "stdout",
     "output_type": "stream",
     "text": [
      "epoch 0  | loss: 0.94945 | val_0_accuracy: 0.30982 |  0:00:00s\n",
      "epoch 10 | loss: 0.75377 | val_0_accuracy: 0.49693 |  0:00:00s\n",
      "epoch 20 | loss: 0.66026 | val_0_accuracy: 0.60736 |  0:00:00s\n",
      "epoch 30 | loss: 0.61046 | val_0_accuracy: 0.64571 |  0:00:01s\n",
      "epoch 40 | loss: 0.57055 | val_0_accuracy: 0.67178 |  0:00:01s\n",
      "Stop training because you reached max_epochs = 50 with best_epoch = 49 and best_val_0_accuracy = 0.67945\n",
      "\n",
      " TabNet Test Accuracy: 0.6794\n",
      "              precision    recall  f1-score   support\n",
      "\n",
      "           0       0.35      0.12      0.18       189\n",
      "           1       0.72      0.91      0.80       463\n",
      "\n",
      "    accuracy                           0.68       652\n",
      "   macro avg       0.53      0.51      0.49       652\n",
      "weighted avg       0.61      0.68      0.62       652\n",
      "\n"
     ]
    },
    {
     "name": "stderr",
     "output_type": "stream",
     "text": [
      "/opt/anaconda3/lib/python3.12/site-packages/pytorch_tabnet/callbacks.py:172: UserWarning: Best weights from best epoch are automatically used!\n",
      "  warnings.warn(wrn_msg)\n"
     ]
    }
   ],
   "source": [
    "\n",
    "scaler = StandardScaler()\n",
    "X_scaled = scaler.fit_transform(X)\n",
    "\n",
    "X_train, X_test, y_train, y_test = train_test_split(\n",
    "    X_scaled, y, test_size=0.2, random_state=42\n",
    ")\n",
    "\n",
    "\n",
    "X_train_np = X_train.astype(np.float32)\n",
    "X_test_np = X_test.astype(np.float32)\n",
    "y_train_np = y_train.values.astype(int)\n",
    "y_test_np = y_test.values.astype(int)\n",
    "\n",
    "\n",
    "tabnet_model = TabNetClassifier(\n",
    "    optimizer_fn=torch.optim.Adam,\n",
    "    optimizer_params=dict(lr=0.001),\n",
    "    scheduler_params={\"step_size\":10, \"gamma\":0.9},\n",
    "    scheduler_fn=torch.optim.lr_scheduler.StepLR,\n",
    "    verbose=10,\n",
    ")\n",
    "\n",
    "tabnet_model.fit(\n",
    "    X_train=X_train_np, y_train=y_train_np,\n",
    "    eval_set=[(X_test_np, y_test_np)],\n",
    "    eval_metric=['accuracy'],\n",
    "    max_epochs=50,\n",
    "    patience=10,\n",
    "    batch_size=1024,\n",
    "    virtual_batch_size=128,\n",
    ")\n",
    "\n",
    "\n",
    "y_pred = tabnet_model.predict(X_test_np)\n",
    "acc = accuracy_score(y_test_np, y_pred)\n",
    "print(f\"\\n TabNet Test Accuracy: {acc:.4f}\")\n",
    "print(classification_report(y_test_np, y_pred))"
   ]
  }
 ],
 "metadata": {
  "kernelspec": {
   "display_name": "base",
   "language": "python",
   "name": "python3"
  },
  "language_info": {
   "codemirror_mode": {
    "name": "ipython",
    "version": 3
   },
   "file_extension": ".py",
   "mimetype": "text/x-python",
   "name": "python",
   "nbconvert_exporter": "python",
   "pygments_lexer": "ipython3",
   "version": "3.12.7"
  }
 },
 "nbformat": 4,
 "nbformat_minor": 5
}
