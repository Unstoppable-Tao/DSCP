{
 "cells": [
  {
   "cell_type": "code",
   "execution_count": 1,
   "id": "5dfd31a8",
   "metadata": {},
   "outputs": [],
   "source": [
    "import numpy as np \n",
    "import pandas as pd\n",
    "from sklearn.preprocessing import MinMaxScaler\n",
    "import seaborn as sns\n",
    "import matplotlib.pyplot as plt\n",
    "from sklearn.model_selection import train_test_split\n",
    "from sklearn.ensemble import RandomForestClassifier\n",
    "from xgboost import XGBClassifier\n",
    "from lightgbm import LGBMClassifier\n",
    "from sklearn.metrics import accuracy_score, classification_report, confusion_matrix, roc_auc_score, roc_curve\n",
    "from sklearn.metrics import accuracy_score, precision_score, recall_score, f1_score"
   ]
  },
  {
   "cell_type": "code",
   "execution_count": 2,
   "id": "17dd033a",
   "metadata": {},
   "outputs": [],
   "source": [
    "df=pd.read_csv('../balanced_cleaned_trian_dataset.csv',index_col=0)\n",
    "test_set=pd.read_csv('../testset.csv',index_col=0)"
   ]
  },
  {
   "cell_type": "code",
   "execution_count": 3,
   "id": "35b075a2",
   "metadata": {},
   "outputs": [],
   "source": [
    "grouped = df.groupby(\"smoking\")\n",
    "df_0 = grouped.get_group(0)\n",
    "df_1 = grouped.get_group(1)\n",
    "df_0_sub = df_0.sample(n=150, random_state=42)\n",
    "df_1_sub = df_1.sample(n=150, random_state=42)\n",
    "df_sub = pd.concat([df_0_sub, df_1_sub])\n",
    "df_sub = df_sub.sample(frac=1, random_state=42).reset_index(drop=True)"
   ]
  },
  {
   "cell_type": "code",
   "execution_count": 4,
   "id": "7a79b3e2",
   "metadata": {},
   "outputs": [
    {
     "data": {
      "text/plain": [
       "smoking\n",
       "1    150\n",
       "0    150\n",
       "Name: count, dtype: int64"
      ]
     },
     "execution_count": 4,
     "metadata": {},
     "output_type": "execute_result"
    }
   ],
   "source": [
    "df_sub['smoking'].value_counts()"
   ]
  },
  {
   "cell_type": "code",
   "execution_count": 5,
   "id": "ee1d1d05",
   "metadata": {},
   "outputs": [],
   "source": [
    "train_copy=df_sub.drop('id',axis=1)\n",
    "X = train_copy.drop('smoking', axis=1)\n",
    "y = train_copy['smoking']\n",
    "\n",
    "test_set=test_set.drop('id',axis=1)\n",
    "X_test= test_set.drop('smoking', axis=1)\n",
    "y_test = test_set['smoking']"
   ]
  },
  {
   "cell_type": "code",
   "execution_count": 6,
   "id": "a73d0553",
   "metadata": {},
   "outputs": [
    {
     "name": "stderr",
     "output_type": "stream",
     "text": [
      "[I 2025-08-14 10:56:52,496] A new study created in memory with name: no-name-197772c5-cb12-4d01-a453-58beb81a7702\n",
      "[I 2025-08-14 10:56:52,806] Trial 0 finished with value: 0.24833333333333335 and parameters: {'n_estimators': 50, 'max_depth': 6, 'max_features': 8}. Best is trial 0 with value: 0.24833333333333335.\n",
      "[I 2025-08-14 10:56:53,122] Trial 1 finished with value: 0.3491666666666667 and parameters: {'n_estimators': 70, 'max_depth': 2, 'max_features': 3}. Best is trial 1 with value: 0.3491666666666667.\n",
      "[I 2025-08-14 10:56:53,344] Trial 2 finished with value: 0.22000000000000003 and parameters: {'n_estimators': 20, 'max_depth': 6, 'max_features': 7}. Best is trial 1 with value: 0.3491666666666667.\n",
      "[I 2025-08-14 10:56:53,717] Trial 3 finished with value: 0.3270833333333333 and parameters: {'n_estimators': 80, 'max_depth': 2, 'max_features': 10}. Best is trial 1 with value: 0.3491666666666667.\n",
      "[I 2025-08-14 10:56:54,095] Trial 4 finished with value: 0.3158333333333333 and parameters: {'n_estimators': 90, 'max_depth': 3, 'max_features': 3}. Best is trial 1 with value: 0.3491666666666667.\n",
      "[I 2025-08-14 10:56:54,316] Trial 5 finished with value: 0.3104166666666667 and parameters: {'n_estimators': 30, 'max_depth': 3, 'max_features': 6}. Best is trial 1 with value: 0.3491666666666667.\n",
      "[I 2025-08-14 10:56:54,617] Trial 6 finished with value: 0.31583333333333335 and parameters: {'n_estimators': 50, 'max_depth': 3, 'max_features': 7}. Best is trial 1 with value: 0.3491666666666667.\n",
      "[I 2025-08-14 10:56:54,837] Trial 7 finished with value: 0.3125 and parameters: {'n_estimators': 30, 'max_depth': 3, 'max_features': 5}. Best is trial 1 with value: 0.3491666666666667.\n",
      "[I 2025-08-14 10:56:55,135] Trial 8 finished with value: 0.29625 and parameters: {'n_estimators': 60, 'max_depth': 5, 'max_features': 3}. Best is trial 1 with value: 0.3491666666666667.\n",
      "[I 2025-08-14 10:56:55,431] Trial 9 finished with value: 0.29041666666666666 and parameters: {'n_estimators': 60, 'max_depth': 4, 'max_features': 2}. Best is trial 1 with value: 0.3491666666666667.\n",
      "[I 2025-08-14 10:56:55,809] Trial 10 finished with value: 0.33458333333333334 and parameters: {'n_estimators': 100, 'max_depth': 2, 'max_features': 4}. Best is trial 1 with value: 0.3491666666666667.\n",
      "[I 2025-08-14 10:56:56,189] Trial 11 finished with value: 0.33458333333333334 and parameters: {'n_estimators': 100, 'max_depth': 2, 'max_features': 4}. Best is trial 1 with value: 0.3491666666666667.\n",
      "[I 2025-08-14 10:56:56,562] Trial 12 finished with value: 0.33499999999999996 and parameters: {'n_estimators': 80, 'max_depth': 2, 'max_features': 2}. Best is trial 1 with value: 0.3491666666666667.\n",
      "[I 2025-08-14 10:56:56,938] Trial 13 finished with value: 0.29208333333333336 and parameters: {'n_estimators': 80, 'max_depth': 4, 'max_features': 2}. Best is trial 1 with value: 0.3491666666666667.\n",
      "[I 2025-08-14 10:56:57,302] Trial 14 finished with value: 0.33499999999999996 and parameters: {'n_estimators': 80, 'max_depth': 2, 'max_features': 2}. Best is trial 1 with value: 0.3491666666666667.\n",
      "[I 2025-08-14 10:56:57,607] Trial 15 finished with value: 0.3304166666666667 and parameters: {'n_estimators': 70, 'max_depth': 2, 'max_features': 4}. Best is trial 1 with value: 0.3491666666666667.\n",
      "[I 2025-08-14 10:56:57,932] Trial 16 finished with value: 0.29874999999999996 and parameters: {'n_estimators': 70, 'max_depth': 5, 'max_features': 3}. Best is trial 1 with value: 0.3491666666666667.\n",
      "[I 2025-08-14 10:56:58,314] Trial 17 finished with value: 0.30916666666666665 and parameters: {'n_estimators': 90, 'max_depth': 3, 'max_features': 5}. Best is trial 1 with value: 0.3491666666666667.\n",
      "[I 2025-08-14 10:56:58,619] Trial 18 finished with value: 0.2945833333333333 and parameters: {'n_estimators': 50, 'max_depth': 4, 'max_features': 9}. Best is trial 1 with value: 0.3491666666666667.\n",
      "[I 2025-08-14 10:56:58,923] Trial 19 finished with value: 0.33291666666666664 and parameters: {'n_estimators': 70, 'max_depth': 2, 'max_features': 5}. Best is trial 1 with value: 0.3491666666666667.\n"
     ]
    },
    {
     "name": "stdout",
     "output_type": "stream",
     "text": [
      "best_params: {'n_estimators': 70, 'max_depth': 2, 'max_features': 3}\n",
      "best_value: 0.3492\n"
     ]
    }
   ],
   "source": [
    "import optuna\n",
    "from sklearn.model_selection import StratifiedKFold\n",
    "from sklearn.preprocessing import MinMaxScaler\n",
    "from sklearn.ensemble import RandomForestClassifier\n",
    "from sklearn.metrics import accuracy_score\n",
    "import numpy as np\n",
    "\n",
    "\n",
    "skf = StratifiedKFold(n_splits=5, shuffle=True, random_state=42)\n",
    "\n",
    "def objective(trial):\n",
    "    \n",
    "    n_estimators = trial.suggest_int('n_estimators', 20, 100, step=10)\n",
    "    max_depth = trial.suggest_int('max_depth', 2, 6)\n",
    "    max_features = trial.suggest_int('max_features', 2, 10)\n",
    "    # min_samples_split = trial.suggest_int('min_samples_split', 2, 30)\n",
    "    # min_samples_leaf = trial.suggest_int('min_samples_leaf', 1, 15)\n",
    "\n",
    "    scores = []\n",
    "    F1=[]\n",
    "\n",
    "    for train_idx, val_idx in skf.split(X, y):\n",
    "        X_train, X_val = X.iloc[train_idx], X.iloc[val_idx]\n",
    "        y_train, y_val = y.iloc[train_idx], y.iloc[val_idx]\n",
    "\n",
    "        \n",
    "        # scaler = MinMaxScaler()\n",
    "        # X_train_scaled = scaler.fit_transform(X_train)\n",
    "        # X_val_scaled = scaler.transform(X_val)\n",
    "\n",
    "        \n",
    "        rf = RandomForestClassifier(\n",
    "            n_estimators=n_estimators,\n",
    "            max_depth=max_depth,\n",
    "            max_features=max_features,\n",
    "            random_state=42,\n",
    "            n_jobs=-1,\n",
    "        )\n",
    "\n",
    "\n",
    "        rf.fit(X_train, y_train)\n",
    "        y_pred = rf.predict(X_val)\n",
    "        acc = accuracy_score(y_val, y_pred)\n",
    "        F1c=f1_score(y_val, y_pred, average='macro') \n",
    "        F1.append(F1c)\n",
    "\n",
    "\n",
    "        y_pred_train = rf.predict(X_train)\n",
    "        acc_train = accuracy_score(y_train, y_pred_train)\n",
    "        f1_train = f1_score(y_train, y_pred_train, average='macro')\n",
    "\n",
    "        overfit_penalty = abs(acc_train - acc)\n",
    "\n",
    "        #scores.append(acc)\n",
    "        score = 0.5 * acc - 0.5 * overfit_penalty\n",
    "\n",
    "\n",
    "        scores.append(score)\n",
    "\n",
    "\n",
    "    return np.mean(scores)\n",
    "\n",
    "sampler = optuna.samplers.TPESampler(seed=42)\n",
    "study = optuna.create_study(direction='maximize',sampler=sampler)\n",
    "study.optimize(objective, n_trials=20)  \n",
    "\n",
    "\n",
    "print(\"best_params:\", study.best_params)\n",
    "print(f\"best_value: {study.best_value:.4f}\")"
   ]
  },
  {
   "cell_type": "code",
   "execution_count": 7,
   "id": "a647ef60",
   "metadata": {},
   "outputs": [
    {
     "name": "stdout",
     "output_type": "stream",
     "text": [
      "Fold 1:\n",
      "  Accuracy:  0.7167\n",
      "  Precision: 0.7381\n",
      "  Recall:    0.7167\n",
      "  F1 Score:  0.7101\n",
      "------------------------------\n",
      "Train Accuracy: 0.7750, Val Accuracy: 0.7167\n",
      "Fold 2:\n",
      "  Accuracy:  0.7667\n",
      "  Precision: 0.7871\n",
      "  Recall:    0.7667\n",
      "  F1 Score:  0.7624\n",
      "------------------------------\n",
      "Train Accuracy: 0.7958, Val Accuracy: 0.7667\n",
      "Fold 3:\n",
      "  Accuracy:  0.6833\n",
      "  Precision: 0.7257\n",
      "  Recall:    0.6833\n",
      "  F1 Score:  0.6677\n",
      "------------------------------\n",
      "Train Accuracy: 0.8208, Val Accuracy: 0.6833\n",
      "Fold 4:\n",
      "  Accuracy:  0.7833\n",
      "  Precision: 0.7862\n",
      "  Recall:    0.7833\n",
      "  F1 Score:  0.7828\n",
      "------------------------------\n",
      "Train Accuracy: 0.7833, Val Accuracy: 0.7833\n",
      "Fold 5:\n",
      "  Accuracy:  0.7667\n",
      "  Precision: 0.7715\n",
      "  Recall:    0.7667\n",
      "  F1 Score:  0.7656\n",
      "------------------------------\n",
      "Train Accuracy: 0.7667, Val Accuracy: 0.7667\n"
     ]
    }
   ],
   "source": [
    "skf = StratifiedKFold(n_splits=5, shuffle=True, random_state=42)\n",
    "scores = []\n",
    "for fold, (train_idx, val_idx) in enumerate(skf.split(X, y)):\n",
    "    X_train, X_val = X.iloc[train_idx], X.iloc[val_idx]\n",
    "    y_train, y_val = y.iloc[train_idx], y.iloc[val_idx]\n",
    "\n",
    "    # scaler = MinMaxScaler()\n",
    "    # X_train_scaled = scaler.fit_transform(X_train)\n",
    "    # X_val_scaled = scaler.transform(X_val)\n",
    "\n",
    "    rf = RandomForestClassifier(\n",
    "            n_estimators=70,\n",
    "            max_depth=2,\n",
    "            max_features=3,\n",
    "            random_state=42,\n",
    "            \n",
    "        )\n",
    "    rf.fit(X_train, y_train)\n",
    "    y_pred = rf.predict(X_val)\n",
    "\n",
    "    acc = accuracy_score(y_val, y_pred)\n",
    "    precision = precision_score(y_val, y_pred, average='macro')\n",
    "    recall = recall_score(y_val, y_pred, average='macro')\n",
    "    f1 = f1_score(y_val, y_pred, average='macro')\n",
    "\n",
    "    print(f\"Fold {fold + 1}:\")\n",
    "    print(f\"  Accuracy:  {acc:.4f}\")\n",
    "    print(f\"  Precision: {precision:.4f}\")\n",
    "    print(f\"  Recall:    {recall:.4f}\")\n",
    "    print(f\"  F1 Score:  {f1:.4f}\")\n",
    "    print(\"-\" * 30)\n",
    "\n",
    "    # \n",
    "    # print(f\"Fold {fold + 1} Classification Report:\")\n",
    "    # print(classification_report(y_val, y_pred, digits=2))\n",
    "    # print(\"-\" * 40)\n",
    "    \n",
    "    train_pred = rf.predict(X_train)\n",
    "    train_acc = accuracy_score(y_train, train_pred)\n",
    "    print(f\"Train Accuracy: {train_acc:.4f}, Val Accuracy: {acc:.4f}\")\n",
    "\n",
    "    scores.append(acc)\n",
    "\n",
    "avg_acc = np.mean(scores)"
   ]
  },
  {
   "cell_type": "code",
   "execution_count": 8,
   "id": "8b5335ee",
   "metadata": {},
   "outputs": [
    {
     "name": "stdout",
     "output_type": "stream",
     "text": [
      "Train Accuracy: 0.7867, test Accuracy: 0.7590\n",
      "Test Accuracy:  0.7590\n",
      "Test Precision: 0.7643\n",
      "Test Recall:    0.7590\n",
      "Test F1 Score:  0.7578\n",
      "\n",
      " RF Test set classification report:\n",
      "              precision    recall  f1-score   support\n",
      "\n",
      "           0     0.8019    0.6880    0.7406      1000\n",
      "           1     0.7268    0.8300    0.7750      1000\n",
      "\n",
      "    accuracy                         0.7590      2000\n",
      "   macro avg     0.7643    0.7590    0.7578      2000\n",
      "weighted avg     0.7643    0.7590    0.7578      2000\n",
      "\n"
     ]
    }
   ],
   "source": [
    "rf_final = RandomForestClassifier(\n",
    "           n_estimators=70,\n",
    "            max_depth=2,\n",
    "            max_features=3,\n",
    "            random_state=42,\n",
    ")\n",
    "rf_final.fit(X, y)  \n",
    "\n",
    "y_test_pred = rf_final.predict(X_test)\n",
    "\n",
    "acc_test = accuracy_score(y_test, y_test_pred)\n",
    "precision_test = precision_score(y_test, y_test_pred, average='macro')\n",
    "recall_test = recall_score(y_test, y_test_pred, average='macro')\n",
    "f1_test = f1_score(y_test, y_test_pred, average='macro')\n",
    "\n",
    "train_pred = rf_final.predict(X)  \n",
    "train_acc = accuracy_score(y, train_pred)\n",
    "print(f\"Train Accuracy: {train_acc:.4f}, test Accuracy: {acc_test:.4f}\")\n",
    "\n",
    "print(f\"Test Accuracy:  {acc_test:.4f}\")\n",
    "print(f\"Test Precision: {precision_test:.4f}\")\n",
    "print(f\"Test Recall:    {recall_test:.4f}\")\n",
    "print(f\"Test F1 Score:  {f1_test:.4f}\")\n",
    "print(\"\\n RF Test set classification report:\")\n",
    "print(classification_report(y_test, y_test_pred, digits=4))"
   ]
  }
 ],
 "metadata": {
  "kernelspec": {
   "display_name": "base",
   "language": "python",
   "name": "python3"
  },
  "language_info": {
   "codemirror_mode": {
    "name": "ipython",
    "version": 3
   },
   "file_extension": ".py",
   "mimetype": "text/x-python",
   "name": "python",
   "nbconvert_exporter": "python",
   "pygments_lexer": "ipython3",
   "version": "3.12.7"
  }
 },
 "nbformat": 4,
 "nbformat_minor": 5
}
