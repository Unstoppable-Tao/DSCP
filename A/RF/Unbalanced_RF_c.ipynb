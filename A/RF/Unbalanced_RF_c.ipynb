{
 "cells": [
  {
   "cell_type": "code",
   "execution_count": 1,
   "id": "16dbfa4e",
   "metadata": {},
   "outputs": [],
   "source": [
    "import numpy as np \n",
    "import pandas as pd\n",
    "from sklearn.preprocessing import MinMaxScaler\n",
    "import seaborn as sns\n",
    "import matplotlib.pyplot as plt\n",
    "from sklearn.model_selection import train_test_split\n",
    "from sklearn.ensemble import RandomForestClassifier\n",
    "from xgboost import XGBClassifier\n",
    "from lightgbm import LGBMClassifier\n",
    "from sklearn.metrics import accuracy_score, classification_report, confusion_matrix, roc_auc_score, roc_curve\n",
    "from sklearn.metrics import accuracy_score, precision_score, recall_score, f1_score"
   ]
  },
  {
   "cell_type": "code",
   "execution_count": 2,
   "id": "44537bea",
   "metadata": {},
   "outputs": [],
   "source": [
    "df=pd.read_csv('../Unbalanced_c_Dataset.csv',index_col=0)\n",
    "test_set=pd.read_csv('../testset.csv',index_col=0)"
   ]
  },
  {
   "cell_type": "code",
   "execution_count": 3,
   "id": "775c28e7",
   "metadata": {},
   "outputs": [
    {
     "data": {
      "text/plain": [
       "(15000, 24)"
      ]
     },
     "execution_count": 3,
     "metadata": {},
     "output_type": "execute_result"
    }
   ],
   "source": [
    "df.shape"
   ]
  },
  {
   "cell_type": "code",
   "execution_count": 4,
   "id": "c8451347",
   "metadata": {},
   "outputs": [
    {
     "data": {
      "image/png": "[encoded data removed]",
      "text/plain": [
       "<Figure size 700x700 with 1 Axes>"
      ]
     },
     "metadata": {},
     "output_type": "display_data"
    }
   ],
   "source": [
    "fig, axes = plt.subplots(figsize=(7, 7))\n",
    "df['smoking'].value_counts().plot.pie(autopct='%1.1f%%')\n",
    "axes.set_title('smoking')\n",
    "plt.show()"
   ]
  },
  {
   "cell_type": "code",
   "execution_count": 5,
   "id": "aa3e37cd",
   "metadata": {},
   "outputs": [],
   "source": [
    "train_copy=df.drop('id',axis=1)\n",
    "X = train_copy.drop('smoking', axis=1)\n",
    "y = train_copy['smoking']\n",
    "\n",
    "test_set=test_set.drop('id',axis=1)\n",
    "X_test= test_set.drop('smoking', axis=1)\n",
    "y_test = test_set['smoking']"
   ]
  },
  {
   "cell_type": "code",
   "execution_count": 6,
   "id": "f678a087",
   "metadata": {},
   "outputs": [
    {
     "name": "stderr",
     "output_type": "stream",
     "text": [
      "[I 2025-08-23 17:10:52,680] A new study created in memory with name: no-name-546e291a-4c9a-4ae2-8533-43f7bfac959b\n",
      "[I 2025-08-23 17:10:59,843] Trial 0 finished with value: 0.273625 and parameters: {'n_estimators': 240, 'max_depth': 24, 'max_features': 12}. Best is trial 0 with value: 0.273625.\n",
      "[I 2025-08-23 17:11:03,678] Trial 1 finished with value: 0.36630833333333335 and parameters: {'n_estimators': 340, 'max_depth': 8, 'max_features': 5}. Best is trial 1 with value: 0.36630833333333335.\n",
      "[I 2025-08-23 17:11:06,679] Trial 2 finished with value: 0.275025 and parameters: {'n_estimators': 120, 'max_depth': 23, 'max_features': 10}. Best is trial 1 with value: 0.36630833333333335.\n",
      "[I 2025-08-23 17:11:11,023] Trial 3 finished with value: 0.37550833333333333 and parameters: {'n_estimators': 380, 'max_depth': 5, 'max_features': 15}. Best is trial 3 with value: 0.37550833333333333.\n",
      "[I 2025-08-23 17:11:15,076] Trial 4 finished with value: 0.35988333333333333 and parameters: {'n_estimators': 440, 'max_depth': 9, 'max_features': 5}. Best is trial 3 with value: 0.37550833333333333.\n",
      "[I 2025-08-23 17:11:18,223] Trial 5 finished with value: 0.339375 and parameters: {'n_estimators': 160, 'max_depth': 11, 'max_features': 9}. Best is trial 3 with value: 0.37550833333333333.\n",
      "[I 2025-08-23 17:11:23,778] Trial 6 finished with value: 0.3376166666666667 and parameters: {'n_estimators': 280, 'max_depth': 11, 'max_features': 10}. Best is trial 3 with value: 0.37550833333333333.\n",
      "[I 2025-08-23 17:11:25,868] Trial 7 finished with value: 0.3393083333333333 and parameters: {'n_estimators': 140, 'max_depth': 11, 'max_features': 7}. Best is trial 3 with value: 0.37550833333333333.\n",
      "[I 2025-08-23 17:11:30,158] Trial 8 finished with value: 0.27885 and parameters: {'n_estimators': 280, 'max_depth': 21, 'max_features': 5}. Best is trial 3 with value: 0.37550833333333333.\n",
      "[I 2025-08-23 17:11:33,927] Trial 9 finished with value: 0.29685000000000006 and parameters: {'n_estimators': 300, 'max_depth': 17, 'max_features': 3}. Best is trial 3 with value: 0.37550833333333333.\n",
      "[I 2025-08-23 17:11:40,778] Trial 10 finished with value: 0.37577499999999997 and parameters: {'n_estimators': 500, 'max_depth': 5, 'max_features': 15}. Best is trial 10 with value: 0.37577499999999997.\n",
      "[I 2025-08-23 17:11:47,276] Trial 11 finished with value: 0.3757416666666667 and parameters: {'n_estimators': 480, 'max_depth': 5, 'max_features': 15}. Best is trial 10 with value: 0.37577499999999997.\n",
      "[I 2025-08-23 17:11:53,594] Trial 12 finished with value: 0.37577499999999997 and parameters: {'n_estimators': 500, 'max_depth': 5, 'max_features': 15}. Best is trial 10 with value: 0.37577499999999997.\n",
      "[I 2025-08-23 17:12:10,823] Trial 13 finished with value: 0.29035 and parameters: {'n_estimators': 500, 'max_depth': 17, 'max_features': 13}. Best is trial 10 with value: 0.37577499999999997.\n",
      "[I 2025-08-23 17:12:17,847] Trial 14 finished with value: 0.3703416666666667 and parameters: {'n_estimators': 420, 'max_depth': 7, 'max_features': 13}. Best is trial 10 with value: 0.37577499999999997.\n",
      "[I 2025-08-23 17:12:33,388] Trial 15 finished with value: 0.31074999999999997 and parameters: {'n_estimators': 440, 'max_depth': 14, 'max_features': 15}. Best is trial 10 with value: 0.37577499999999997.\n",
      "[I 2025-08-23 17:12:47,109] Trial 16 finished with value: 0.31130833333333335 and parameters: {'n_estimators': 500, 'max_depth': 14, 'max_features': 12}. Best is trial 10 with value: 0.37577499999999997.\n",
      "[I 2025-08-23 17:12:51,483] Trial 17 finished with value: 0.3765833333333334 and parameters: {'n_estimators': 380, 'max_depth': 5, 'max_features': 13}. Best is trial 17 with value: 0.3765833333333334.\n",
      "[I 2025-08-23 17:12:58,735] Trial 18 finished with value: 0.35503333333333337 and parameters: {'n_estimators': 380, 'max_depth': 9, 'max_features': 13}. Best is trial 17 with value: 0.3765833333333334.\n",
      "[I 2025-08-23 17:13:01,428] Trial 19 finished with value: 0.37074999999999997 and parameters: {'n_estimators': 200, 'max_depth': 7, 'max_features': 11}. Best is trial 17 with value: 0.3765833333333334.\n"
     ]
    },
    {
     "name": "stdout",
     "output_type": "stream",
     "text": [
      "best_params: {'n_estimators': 380, 'max_depth': 5, 'max_features': 13}\n",
      "best_value: 0.3766\n"
     ]
    }
   ],
   "source": [
    "import optuna\n",
    "from sklearn.model_selection import StratifiedKFold\n",
    "from sklearn.preprocessing import MinMaxScaler\n",
    "from sklearn.ensemble import RandomForestClassifier\n",
    "from sklearn.metrics import accuracy_score\n",
    "import numpy as np\n",
    "\n",
    "\n",
    "skf = StratifiedKFold(n_splits=5, shuffle=True, random_state=42)\n",
    "\n",
    "def objective(trial):\n",
    "    \n",
    "    n_estimators = trial.suggest_int('n_estimators', 100, 500, step=20)\n",
    "    max_depth = trial.suggest_int('max_depth', 5, 25)\n",
    "    max_features = trial.suggest_int('max_features', 3, 15)\n",
    "    # min_samples_split = trial.suggest_int('min_samples_split', 10, 100)\n",
    "    # min_samples_leaf = trial.suggest_int('min_samples_leaf', 5, 50)\n",
    "\n",
    "    scores = []\n",
    "    F1=[]\n",
    "\n",
    "    for train_idx, val_idx in skf.split(X, y):\n",
    "        X_train, X_val = X.iloc[train_idx], X.iloc[val_idx]\n",
    "        y_train, y_val = y.iloc[train_idx], y.iloc[val_idx]\n",
    "\n",
    "        \n",
    "        # scaler = MinMaxScaler()\n",
    "        # X_train_scaled = scaler.fit_transform(X_train)\n",
    "        # X_val_scaled = scaler.transform(X_val)\n",
    "\n",
    "        \n",
    "        rf = RandomForestClassifier(\n",
    "            n_estimators=n_estimators,\n",
    "            max_depth=max_depth,\n",
    "            max_features=max_features,\n",
    "            random_state=42,\n",
    "            n_jobs=-1,\n",
    "            # min_samples_split=min_samples_split,\n",
    "            # min_samples_leaf=min_samples_leaf\n",
    "\n",
    "            \n",
    "        )\n",
    "\n",
    "\n",
    "        rf.fit(X_train, y_train)\n",
    "        y_pred = rf.predict(X_val)\n",
    "        acc = accuracy_score(y_val, y_pred)\n",
    "        F1c=f1_score(y_val, y_pred, average='macro') \n",
    "        F1.append(F1c)\n",
    "\n",
    "\n",
    "        y_pred_train = rf.predict(X_train)\n",
    "        acc_train = accuracy_score(y_train, y_pred_train)\n",
    "        f1_train = f1_score(y_train, y_pred_train, average='macro')\n",
    "\n",
    "        overfit_penalty = abs(acc_train - acc)\n",
    "\n",
    "        #scores.append(acc)\n",
    "        score = 0.5 * acc - 0.5 * overfit_penalty\n",
    "\n",
    "\n",
    "        scores.append(score)\n",
    "\n",
    "\n",
    "    return np.mean(scores)\n",
    "\n",
    "sampler = optuna.samplers.TPESampler(seed=42)\n",
    "study = optuna.create_study(direction='maximize',sampler=sampler)\n",
    "study.optimize(objective, n_trials=20)  \n",
    "\n",
    "\n",
    "print(\"best_params:\", study.best_params)\n",
    "print(f\"best_value: {study.best_value:.4f}\")"
   ]
  },
  {
   "cell_type": "code",
   "execution_count": 7,
   "id": "7158de05",
   "metadata": {},
   "outputs": [
    {
     "name": "stdout",
     "output_type": "stream",
     "text": [
      "Train Accuracy: 0.7771, test Accuracy: 0.7700\n",
      "Test Accuracy:  0.7700\n",
      "Test Precision: 0.7848\n",
      "Test Recall:    0.7700\n",
      "Test F1 Score:  0.7670\n",
      "\n",
      " RF Test set classification report:\n",
      "              precision    recall  f1-score   support\n",
      "\n",
      "           0     0.8497    0.6560    0.7404      1000\n",
      "           1     0.7199    0.8840    0.7935      1000\n",
      "\n",
      "    accuracy                         0.7700      2000\n",
      "   macro avg     0.7848    0.7700    0.7670      2000\n",
      "weighted avg     0.7848    0.7700    0.7670      2000\n",
      "\n"
     ]
    }
   ],
   "source": [
    "rf_final = RandomForestClassifier(\n",
    "           n_estimators=380,\n",
    "            max_depth=5,\n",
    "            max_features=13,\n",
    "            random_state=42,\n",
    "            # min_samples_split=43,\n",
    "            # min_samples_leaf=25\n",
    ")\n",
    "rf_final.fit(X, y)  \n",
    "\n",
    "y_test_pred = rf_final.predict(X_test)\n",
    "\n",
    "acc_test = accuracy_score(y_test, y_test_pred)\n",
    "precision_test = precision_score(y_test, y_test_pred, average='macro')\n",
    "recall_test = recall_score(y_test, y_test_pred, average='macro')\n",
    "f1_test = f1_score(y_test, y_test_pred, average='macro')\n",
    "\n",
    "train_pred = rf_final.predict(X)  \n",
    "train_acc = accuracy_score(y, train_pred)\n",
    "print(f\"Train Accuracy: {train_acc:.4f}, test Accuracy: {acc_test:.4f}\")\n",
    "\n",
    "print(f\"Test Accuracy:  {acc_test:.4f}\")\n",
    "print(f\"Test Precision: {precision_test:.4f}\")\n",
    "print(f\"Test Recall:    {recall_test:.4f}\")\n",
    "print(f\"Test F1 Score:  {f1_test:.4f}\")\n",
    "print(\"\\n RF Test set classification report:\")\n",
    "print(classification_report(y_test, y_test_pred, digits=4))"
   ]
  },
  {
   "cell_type": "code",
   "execution_count": 8,
   "id": "d19165b3",
   "metadata": {},
   "outputs": [
    {
     "data": {
      "image/png": "[encoded data removed]",
      "text/plain": [
       "<Figure size 640x480 with 1 Axes>"
      ]
     },
     "metadata": {},
     "output_type": "display_data"
    }
   ],
   "source": [
    "y_test_proba = rf_final.predict_proba(X_test)[:, 1]  \n",
    "\n",
    "\n",
    "fpr, tpr, thresholds = roc_curve(y_test, y_test_proba)\n",
    "auc = roc_auc_score(y_test, y_test_proba)\n",
    "\n",
    "plt.plot(fpr, tpr, label=f\"AUC = {auc:.2f}\")\n",
    "plt.plot([0, 1], [0, 1], linestyle=\"--\", color=\"grey\", label=\"Random Guess\")\n",
    "plt.xlabel(\"False Positive Rate\")\n",
    "plt.ylabel(\"True Positive Rate (Recall)\")\n",
    "plt.title(\"ROC Curve\")\n",
    "plt.legend()\n",
    "plt.show()\n"
   ]
  },
  {
   "cell_type": "code",
   "execution_count": 9,
   "id": "eb431c05",
   "metadata": {},
   "outputs": [
    {
     "name": "stdout",
     "output_type": "stream",
     "text": [
      "Fold 1:\n",
      "  Accuracy:  0.7840\n",
      "  Precision: 0.7979\n",
      "  Recall:    0.7840\n",
      "  F1 Score:  0.7815\n",
      "------------------------------\n",
      "Train Accuracy: 0.7748, Val Accuracy: 0.7840\n",
      "Fold 1 Classification Report:\n",
      "              precision    recall  f1-score   support\n",
      "\n",
      "           0       0.86      0.68      0.76      1500\n",
      "           1       0.73      0.89      0.81      1500\n",
      "\n",
      "    accuracy                           0.78      3000\n",
      "   macro avg       0.80      0.78      0.78      3000\n",
      "weighted avg       0.80      0.78      0.78      3000\n",
      "\n",
      "----------------------------------------\n",
      "Fold 2:\n",
      "  Accuracy:  0.7517\n",
      "  Precision: 0.7688\n",
      "  Recall:    0.7517\n",
      "  F1 Score:  0.7476\n",
      "------------------------------\n",
      "Train Accuracy: 0.7823, Val Accuracy: 0.7517\n",
      "Fold 2 Classification Report:\n",
      "              precision    recall  f1-score   support\n",
      "\n",
      "           0       0.84      0.63      0.72      1500\n",
      "           1       0.70      0.88      0.78      1500\n",
      "\n",
      "    accuracy                           0.75      3000\n",
      "   macro avg       0.77      0.75      0.75      3000\n",
      "weighted avg       0.77      0.75      0.75      3000\n",
      "\n",
      "----------------------------------------\n",
      "Fold 3:\n",
      "  Accuracy:  0.7743\n",
      "  Precision: 0.7886\n",
      "  Recall:    0.7743\n",
      "  F1 Score:  0.7715\n",
      "------------------------------\n",
      "Train Accuracy: 0.7779, Val Accuracy: 0.7743\n",
      "Fold 3 Classification Report:\n",
      "              precision    recall  f1-score   support\n",
      "\n",
      "           0       0.85      0.66      0.75      1500\n",
      "           1       0.72      0.89      0.80      1500\n",
      "\n",
      "    accuracy                           0.77      3000\n",
      "   macro avg       0.79      0.77      0.77      3000\n",
      "weighted avg       0.79      0.77      0.77      3000\n",
      "\n",
      "----------------------------------------\n",
      "Fold 4:\n",
      "  Accuracy:  0.7680\n",
      "  Precision: 0.7806\n",
      "  Recall:    0.7680\n",
      "  F1 Score:  0.7654\n",
      "------------------------------\n",
      "Train Accuracy: 0.7802, Val Accuracy: 0.7680\n",
      "Fold 4 Classification Report:\n",
      "              precision    recall  f1-score   support\n",
      "\n",
      "           0       0.84      0.66      0.74      1500\n",
      "           1       0.72      0.87      0.79      1500\n",
      "\n",
      "    accuracy                           0.77      3000\n",
      "   macro avg       0.78      0.77      0.77      3000\n",
      "weighted avg       0.78      0.77      0.77      3000\n",
      "\n",
      "----------------------------------------\n",
      "Fold 5:\n",
      "  Accuracy:  0.7630\n",
      "  Precision: 0.7837\n",
      "  Recall:    0.7630\n",
      "  F1 Score:  0.7586\n",
      "------------------------------\n",
      "Train Accuracy: 0.7826, Val Accuracy: 0.7630\n",
      "Fold 5 Classification Report:\n",
      "              precision    recall  f1-score   support\n",
      "\n",
      "           0       0.86      0.63      0.73      1500\n",
      "           1       0.71      0.90      0.79      1500\n",
      "\n",
      "    accuracy                           0.76      3000\n",
      "   macro avg       0.78      0.76      0.76      3000\n",
      "weighted avg       0.78      0.76      0.76      3000\n",
      "\n",
      "----------------------------------------\n"
     ]
    }
   ],
   "source": [
    "from sklearn.model_selection import StratifiedKFold\n",
    "skf = StratifiedKFold(n_splits=5, shuffle=True, random_state=42)\n",
    "scores = []\n",
    "for fold, (train_idx, val_idx) in enumerate(skf.split(X, y)):\n",
    "    X_train, X_val = X.iloc[train_idx], X.iloc[val_idx]\n",
    "    y_train, y_val = y.iloc[train_idx], y.iloc[val_idx]\n",
    "\n",
    "    # scaler = MinMaxScaler()\n",
    "    # X_train_scaled = scaler.fit_transform(X_train)\n",
    "    # X_val_scaled = scaler.transform(X_val)\n",
    "\n",
    "    rf = RandomForestClassifier(\n",
    "            n_estimators=380,\n",
    "            max_depth=5,\n",
    "            max_features=13,\n",
    "            random_state=42,\n",
    "            # min_samples_split=43,\n",
    "            # min_samples_leaf=25\n",
    "        )\n",
    "    rf.fit(X_train, y_train)\n",
    "    y_pred = rf.predict(X_val)\n",
    "\n",
    "    acc = accuracy_score(y_val, y_pred)\n",
    "    precision = precision_score(y_val, y_pred, average='macro')\n",
    "    recall = recall_score(y_val, y_pred, average='macro')\n",
    "    f1 = f1_score(y_val, y_pred, average='macro')\n",
    "\n",
    "    print(f\"Fold {fold + 1}:\")\n",
    "    print(f\"  Accuracy:  {acc:.4f}\")\n",
    "    print(f\"  Precision: {precision:.4f}\")\n",
    "    print(f\"  Recall:    {recall:.4f}\")\n",
    "    print(f\"  F1 Score:  {f1:.4f}\")\n",
    "    print(\"-\" * 30)\n",
    "\n",
    "    train_pred = rf.predict(X_train)\n",
    "    train_acc = accuracy_score(y_train, train_pred)\n",
    "    print(f\"Train Accuracy: {train_acc:.4f}, Val Accuracy: {acc:.4f}\")\n",
    "    print(f\"Fold {fold + 1} Classification Report:\")\n",
    "    print(classification_report(y_val, y_pred, digits=2))\n",
    "    print(\"-\" * 40)\n",
    "    \n",
    "    scores.append(acc)\n",
    "\n",
    "    avg_acc = np.mean(scores)"
   ]
  }
 ],
 "metadata": {
  "kernelspec": {
   "display_name": "base",
   "language": "python",
   "name": "python3"
  },
  "language_info": {
   "codemirror_mode": {
    "name": "ipython",
    "version": 3
   },
   "file_extension": ".py",
   "mimetype": "text/x-python",
   "name": "python",
   "nbconvert_exporter": "python",
   "pygments_lexer": "ipython3",
   "version": "3.12.7"
  }
 },
 "nbformat": 4,
 "nbformat_minor": 5
}
