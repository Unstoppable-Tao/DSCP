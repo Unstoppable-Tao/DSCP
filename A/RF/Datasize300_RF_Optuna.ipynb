{
 "cells": [
  {
   "cell_type": "code",
   "execution_count": 1,
   "id": "5dfd31a8",
   "metadata": {},
   "outputs": [],
   "source": [
    "import numpy as np \n",
    "import pandas as pd\n",
    "from sklearn.preprocessing import MinMaxScaler\n",
    "import seaborn as sns\n",
    "import matplotlib.pyplot as plt\n",
    "from sklearn.model_selection import train_test_split\n",
    "from sklearn.ensemble import RandomForestClassifier\n",
    "from xgboost import XGBClassifier\n",
    "from lightgbm import LGBMClassifier\n",
    "from sklearn.metrics import accuracy_score, classification_report, confusion_matrix, roc_auc_score, roc_curve\n",
    "from sklearn.metrics import accuracy_score, precision_score, recall_score, f1_score\n",
    "from optuna.visualization import plot_optimization_history"
   ]
  },
  {
   "cell_type": "code",
   "execution_count": 2,
   "id": "17dd033a",
   "metadata": {},
   "outputs": [],
   "source": [
    "df=pd.read_csv('../balanced_cleaned_trian_dataset.csv',index_col=0)\n",
    "test_set=pd.read_csv('../testset.csv',index_col=0)"
   ]
  },
  {
   "cell_type": "code",
   "execution_count": 3,
   "id": "35b075a2",
   "metadata": {},
   "outputs": [],
   "source": [
    "grouped = df.groupby(\"smoking\")\n",
    "df_0 = grouped.get_group(0)\n",
    "df_1 = grouped.get_group(1)\n",
    "df_0_sub = df_0.sample(n=150, random_state=42)\n",
    "df_1_sub = df_1.sample(n=150, random_state=42)\n",
    "df_sub = pd.concat([df_0_sub, df_1_sub])\n",
    "df_sub = df_sub.sample(frac=1, random_state=42).reset_index(drop=True)"
   ]
  },
  {
   "cell_type": "code",
   "execution_count": 4,
   "id": "7a79b3e2",
   "metadata": {},
   "outputs": [
    {
     "data": {
      "text/plain": [
       "smoking\n",
       "1    150\n",
       "0    150\n",
       "Name: count, dtype: int64"
      ]
     },
     "execution_count": 4,
     "metadata": {},
     "output_type": "execute_result"
    }
   ],
   "source": [
    "df_sub['smoking'].value_counts()"
   ]
  },
  {
   "cell_type": "code",
   "execution_count": 5,
   "id": "ee1d1d05",
   "metadata": {},
   "outputs": [],
   "source": [
    "train_copy=df_sub.drop('id',axis=1)\n",
    "X = train_copy.drop('smoking', axis=1)\n",
    "y = train_copy['smoking']\n",
    "\n",
    "test_set=test_set.drop('id',axis=1)\n",
    "X_test= test_set.drop('smoking', axis=1)\n",
    "y_test = test_set['smoking']"
   ]
  },
  {
   "cell_type": "code",
   "execution_count": 18,
   "id": "a73d0553",
   "metadata": {},
   "outputs": [
    {
     "name": "stderr",
     "output_type": "stream",
     "text": [
      "[I 2025-08-20 19:14:08,764] A new study created in memory with name: no-name-b6697c75-12ad-4df2-929b-98dd5232c6d6\n",
      "[I 2025-08-20 19:14:09,135] Trial 0 finished with value: 0.7333333333333332 and parameters: {'n_estimators': 50, 'max_depth': 6, 'max_features': 8}. Best is trial 0 with value: 0.7333333333333332.\n",
      "[I 2025-08-20 19:14:09,452] Trial 1 finished with value: 0.7433333333333334 and parameters: {'n_estimators': 70, 'max_depth': 2, 'max_features': 3}. Best is trial 1 with value: 0.7433333333333334.\n",
      "[I 2025-08-20 19:14:09,680] Trial 2 finished with value: 0.6966666666666667 and parameters: {'n_estimators': 20, 'max_depth': 6, 'max_features': 7}. Best is trial 1 with value: 0.7433333333333334.\n",
      "[I 2025-08-20 19:14:10,063] Trial 3 finished with value: 0.7166666666666666 and parameters: {'n_estimators': 80, 'max_depth': 2, 'max_features': 10}. Best is trial 1 with value: 0.7433333333333334.\n",
      "[I 2025-08-20 19:14:10,442] Trial 4 finished with value: 0.7266666666666666 and parameters: {'n_estimators': 90, 'max_depth': 3, 'max_features': 3}. Best is trial 1 with value: 0.7433333333333334.\n",
      "[I 2025-08-20 19:14:10,671] Trial 5 finished with value: 0.72 and parameters: {'n_estimators': 30, 'max_depth': 3, 'max_features': 6}. Best is trial 1 with value: 0.7433333333333334.\n",
      "[I 2025-08-20 19:14:10,976] Trial 6 finished with value: 0.7266666666666666 and parameters: {'n_estimators': 50, 'max_depth': 3, 'max_features': 7}. Best is trial 1 with value: 0.7433333333333334.\n",
      "[I 2025-08-20 19:14:11,205] Trial 7 finished with value: 0.7233333333333333 and parameters: {'n_estimators': 30, 'max_depth': 3, 'max_features': 5}. Best is trial 1 with value: 0.7433333333333334.\n",
      "[I 2025-08-20 19:14:11,515] Trial 8 finished with value: 0.75 and parameters: {'n_estimators': 60, 'max_depth': 5, 'max_features': 3}. Best is trial 8 with value: 0.75.\n",
      "[I 2025-08-20 19:14:11,825] Trial 9 finished with value: 0.7233333333333333 and parameters: {'n_estimators': 60, 'max_depth': 4, 'max_features': 2}. Best is trial 8 with value: 0.75.\n",
      "[I 2025-08-20 19:14:12,237] Trial 10 finished with value: 0.7499999999999999 and parameters: {'n_estimators': 100, 'max_depth': 5, 'max_features': 4}. Best is trial 8 with value: 0.75.\n",
      "[I 2025-08-20 19:14:12,625] Trial 11 finished with value: 0.7499999999999999 and parameters: {'n_estimators': 100, 'max_depth': 5, 'max_features': 4}. Best is trial 8 with value: 0.75.\n",
      "[I 2025-08-20 19:14:13,013] Trial 12 finished with value: 0.7466666666666665 and parameters: {'n_estimators': 100, 'max_depth': 5, 'max_features': 2}. Best is trial 8 with value: 0.75.\n",
      "[I 2025-08-20 19:14:13,336] Trial 13 finished with value: 0.7566666666666667 and parameters: {'n_estimators': 70, 'max_depth': 5, 'max_features': 4}. Best is trial 13 with value: 0.7566666666666667.\n",
      "[I 2025-08-20 19:14:13,722] Trial 14 finished with value: 0.7299999999999999 and parameters: {'n_estimators': 70, 'max_depth': 4, 'max_features': 5}. Best is trial 13 with value: 0.7566666666666667.\n",
      "[I 2025-08-20 19:14:14,032] Trial 15 finished with value: 0.7366666666666666 and parameters: {'n_estimators': 50, 'max_depth': 5, 'max_features': 4}. Best is trial 13 with value: 0.7566666666666667.\n",
      "[I 2025-08-20 19:14:14,367] Trial 16 finished with value: 0.73 and parameters: {'n_estimators': 70, 'max_depth': 6, 'max_features': 3}. Best is trial 13 with value: 0.7566666666666667.\n",
      "[I 2025-08-20 19:14:14,746] Trial 17 finished with value: 0.7299999999999999 and parameters: {'n_estimators': 80, 'max_depth': 4, 'max_features': 5}. Best is trial 13 with value: 0.7566666666666667.\n",
      "[I 2025-08-20 19:14:15,054] Trial 18 finished with value: 0.7533333333333333 and parameters: {'n_estimators': 60, 'max_depth': 5, 'max_features': 2}. Best is trial 13 with value: 0.7566666666666667.\n",
      "[I 2025-08-20 19:14:15,363] Trial 19 finished with value: 0.7233333333333333 and parameters: {'n_estimators': 40, 'max_depth': 6, 'max_features': 2}. Best is trial 13 with value: 0.7566666666666667.\n"
     ]
    },
    {
     "name": "stdout",
     "output_type": "stream",
     "text": [
      "best_params: {'n_estimators': 70, 'max_depth': 5, 'max_features': 4}\n",
      "best_value: 0.7567\n"
     ]
    }
   ],
   "source": [
    "import optuna\n",
    "from sklearn.model_selection import StratifiedKFold\n",
    "from sklearn.preprocessing import MinMaxScaler\n",
    "from sklearn.ensemble import RandomForestClassifier\n",
    "from sklearn.metrics import accuracy_score\n",
    "import numpy as np\n",
    "\n",
    "\n",
    "skf = StratifiedKFold(n_splits=5, shuffle=True, random_state=42)\n",
    "\n",
    "def objective(trial):\n",
    "    \n",
    "    n_estimators = trial.suggest_int('n_estimators', 20, 100, step=10)\n",
    "    max_depth = trial.suggest_int('max_depth', 2, 6)\n",
    "    max_features = trial.suggest_int('max_features', 2, 10)\n",
    "    # min_samples_split = trial.suggest_int('min_samples_split', 2, 30)\n",
    "    # min_samples_leaf = trial.suggest_int('min_samples_leaf', 1, 15)\n",
    "\n",
    "    scores = []\n",
    "    F1=[]\n",
    "\n",
    "    for train_idx, val_idx in skf.split(X, y):\n",
    "        X_train, X_val = X.iloc[train_idx], X.iloc[val_idx]\n",
    "        y_train, y_val = y.iloc[train_idx], y.iloc[val_idx]\n",
    "\n",
    "        \n",
    "        # scaler = MinMaxScaler()\n",
    "        # X_train_scaled = scaler.fit_transform(X_train)\n",
    "        # X_val_scaled = scaler.transform(X_val)\n",
    "\n",
    "        \n",
    "        rf = RandomForestClassifier(\n",
    "            n_estimators=n_estimators,\n",
    "            max_depth=max_depth,\n",
    "            max_features=max_features,\n",
    "            random_state=42,\n",
    "            n_jobs=-1,\n",
    "        )\n",
    "\n",
    "\n",
    "        rf.fit(X_train, y_train)\n",
    "        y_pred = rf.predict(X_val)\n",
    "        acc = accuracy_score(y_val, y_pred)\n",
    "        F1c=f1_score(y_val, y_pred, average='macro') \n",
    "        F1.append(F1c)\n",
    "\n",
    "\n",
    "        y_pred_train = rf.predict(X_train)\n",
    "        acc_train = accuracy_score(y_train, y_pred_train)\n",
    "        f1_train = f1_score(y_train, y_pred_train, average='macro')\n",
    "\n",
    "        overfit_penalty = abs(acc_train - acc)\n",
    "\n",
    "        #scores.append(acc)\n",
    "        score = acc\n",
    "\n",
    "\n",
    "        scores.append(score)\n",
    "\n",
    "\n",
    "    return np.mean(scores)\n",
    "\n",
    "sampler = optuna.samplers.TPESampler(seed=42)\n",
    "study = optuna.create_study(direction='maximize',sampler=sampler)\n",
    "study.optimize(objective, n_trials=20)  \n",
    "\n",
    "\n",
    "print(\"best_params:\", study.best_params)\n",
    "print(f\"best_value: {study.best_value:.4f}\")"
   ]
  },
  {
   "cell_type": "code",
   "execution_count": 20,
   "id": "cc457f0e",
   "metadata": {},
   "outputs": [
    {
     "data": {
      "application/vnd.plotly.v1+json": {
       "config": {
        "plotlyServerURL": "https://plot.ly"
       },
       "data": [
        {
         "mode": "markers",
         "name": "Objective Value",
         "type": "scatter",
         "x": [
          0,
          1,
          2,
          3,
          4,
          5,
          6,
          7,
          8,
          9,
          10,
          11,
          12,
          13,
          14,
          15,
          16,
          17,
          18,
          19
         ],
         "y": [
          0.7333333333333332,
          0.7433333333333334,
          0.6966666666666667,
          0.7166666666666666,
          0.7266666666666666,
          0.72,
          0.7266666666666666,
          0.7233333333333333,
          0.75,
          0.7233333333333333,
          0.7499999999999999,
          0.7499999999999999,
          0.7466666666666665,
          0.7566666666666667,
          0.7299999999999999,
          0.7366666666666666,
          0.73,
          0.7299999999999999,
          0.7533333333333333,
          0.7233333333333333
         ]
        },
        {
         "mode": "lines",
         "name": "Best Value",
         "type": "scatter",
         "x": [
          0,
          1,
          2,
          3,
          4,
          5,
          6,
          7,
          8,
          9,
          10,
          11,
          12,
          13,
          14,
          15,
          16,
          17,
          18,
          19
         ],
         "y": [
          0.7333333333333332,
          0.7433333333333334,
          0.7433333333333334,
          0.7433333333333334,
          0.7433333333333334,
          0.7433333333333334,
          0.7433333333333334,
          0.7433333333333334,
          0.75,
          0.75,
          0.75,
          0.75,
          0.75,
          0.7566666666666667,
          0.7566666666666667,
          0.7566666666666667,
          0.7566666666666667,
          0.7566666666666667,
          0.7566666666666667,
          0.7566666666666667
         ]
        },
        {
         "marker": {
          "color": "#cccccc"
         },
         "mode": "markers",
         "name": "Infeasible Trial",
         "showlegend": false,
         "type": "scatter",
         "x": [],
         "y": []
        }
       ],
       "layout": {
        "template": {
         "data": {
          "bar": [
           {
            "error_x": {
             "color": "#2a3f5f"
            },
            "error_y": {
             "color": "#2a3f5f"
            },
            "marker": {
             "line": {
              "color": "#E5ECF6",
              "width": 0.5
             },
             "pattern": {
              "fillmode": "overlay",
              "size": 10,
              "solidity": 0.2
             }
            },
            "type": "bar"
           }
          ],
          "barpolar": [
           {
            "marker": {
             "line": {
              "color": "#E5ECF6",
              "width": 0.5
             },
             "pattern": {
              "fillmode": "overlay",
              "size": 10,
              "solidity": 0.2
             }
            },
            "type": "barpolar"
           }
          ],
          "carpet": [
           {
            "aaxis": {
             "endlinecolor": "#2a3f5f",
             "gridcolor": "white",
             "linecolor": "white",
             "minorgridcolor": "white",
             "startlinecolor": "#2a3f5f"
            },
            "baxis": {
             "endlinecolor": "#2a3f5f",
             "gridcolor": "white",
             "linecolor": "white",
             "minorgridcolor": "white",
             "startlinecolor": "#2a3f5f"
            },
            "type": "carpet"
           }
          ],
          "choropleth": [
           {
            "colorbar": {
             "outlinewidth": 0,
             "ticks": ""
            },
            "type": "choropleth"
           }
          ],
          "contour": [
           {
            "colorbar": {
             "outlinewidth": 0,
             "ticks": ""
            },
            "colorscale": [
             [
              0,
              "#0d0887"
             ],
             [
              0.1111111111111111,
              "#46039f"
             ],
             [
              0.2222222222222222,
              "#7201a8"
             ],
             [
              0.3333333333333333,
              "#9c179e"
             ],
             [
              0.4444444444444444,
              "#bd3786"
             ],
             [
              0.5555555555555556,
              "#d8576b"
             ],
             [
              0.6666666666666666,
              "#ed7953"
             ],
             [
              0.7777777777777778,
              "#fb9f3a"
             ],
             [
              0.8888888888888888,
              "#fdca26"
             ],
             [
              1,
              "#f0f921"
             ]
            ],
            "type": "contour"
           }
          ],
          "contourcarpet": [
           {
            "colorbar": {
             "outlinewidth": 0,
             "ticks": ""
            },
            "type": "contourcarpet"
           }
          ],
          "heatmap": [
           {
            "colorbar": {
             "outlinewidth": 0,
             "ticks": ""
            },
            "colorscale": [
             [
              0,
              "#0d0887"
             ],
             [
              0.1111111111111111,
              "#46039f"
             ],
             [
              0.2222222222222222,
              "#7201a8"
             ],
             [
              0.3333333333333333,
              "#9c179e"
             ],
             [
              0.4444444444444444,
              "#bd3786"
             ],
             [
              0.5555555555555556,
              "#d8576b"
             ],
             [
              0.6666666666666666,
              "#ed7953"
             ],
             [
              0.7777777777777778,
              "#fb9f3a"
             ],
             [
              0.8888888888888888,
              "#fdca26"
             ],
             [
              1,
              "#f0f921"
             ]
            ],
            "type": "heatmap"
           }
          ],
          "heatmapgl": [
           {
            "colorbar": {
             "outlinewidth": 0,
             "ticks": ""
            },
            "colorscale": [
             [
              0,
              "#0d0887"
             ],
             [
              0.1111111111111111,
              "#46039f"
             ],
             [
              0.2222222222222222,
              "#7201a8"
             ],
             [
              0.3333333333333333,
              "#9c179e"
             ],
             [
              0.4444444444444444,
              "#bd3786"
             ],
             [
              0.5555555555555556,
              "#d8576b"
             ],
             [
              0.6666666666666666,
              "#ed7953"
             ],
             [
              0.7777777777777778,
              "#fb9f3a"
             ],
             [
              0.8888888888888888,
              "#fdca26"
             ],
             [
              1,
              "#f0f921"
             ]
            ],
            "type": "heatmapgl"
           }
          ],
          "histogram": [
           {
            "marker": {
             "pattern": {
              "fillmode": "overlay",
              "size": 10,
              "solidity": 0.2
             }
            },
            "type": "histogram"
           }
          ],
          "histogram2d": [
           {
            "colorbar": {
             "outlinewidth": 0,
             "ticks": ""
            },
            "colorscale": [
             [
              0,
              "#0d0887"
             ],
             [
              0.1111111111111111,
              "#46039f"
             ],
             [
              0.2222222222222222,
              "#7201a8"
             ],
             [
              0.3333333333333333,
              "#9c179e"
             ],
             [
              0.4444444444444444,
              "#bd3786"
             ],
             [
              0.5555555555555556,
              "#d8576b"
             ],
             [
              0.6666666666666666,
              "#ed7953"
             ],
             [
              0.7777777777777778,
              "#fb9f3a"
             ],
             [
              0.8888888888888888,
              "#fdca26"
             ],
             [
              1,
              "#f0f921"
             ]
            ],
            "type": "histogram2d"
           }
          ],
          "histogram2dcontour": [
           {
            "colorbar": {
             "outlinewidth": 0,
             "ticks": ""
            },
            "colorscale": [
             [
              0,
              "#0d0887"
             ],
             [
              0.1111111111111111,
              "#46039f"
             ],
             [
              0.2222222222222222,
              "#7201a8"
             ],
             [
              0.3333333333333333,
              "#9c179e"
             ],
             [
              0.4444444444444444,
              "#bd3786"
             ],
             [
              0.5555555555555556,
              "#d8576b"
             ],
             [
              0.6666666666666666,
              "#ed7953"
             ],
             [
              0.7777777777777778,
              "#fb9f3a"
             ],
             [
              0.8888888888888888,
              "#fdca26"
             ],
             [
              1,
              "#f0f921"
             ]
            ],
            "type": "histogram2dcontour"
           }
          ],
          "mesh3d": [
           {
            "colorbar": {
             "outlinewidth": 0,
             "ticks": ""
            },
            "type": "mesh3d"
           }
          ],
          "parcoords": [
           {
            "line": {
             "colorbar": {
              "outlinewidth": 0,
              "ticks": ""
             }
            },
            "type": "parcoords"
           }
          ],
          "pie": [
           {
            "automargin": true,
            "type": "pie"
           }
          ],
          "scatter": [
           {
            "fillpattern": {
             "fillmode": "overlay",
             "size": 10,
             "solidity": 0.2
            },
            "type": "scatter"
           }
          ],
          "scatter3d": [
           {
            "line": {
             "colorbar": {
              "outlinewidth": 0,
              "ticks": ""
             }
            },
            "marker": {
             "colorbar": {
              "outlinewidth": 0,
              "ticks": ""
             }
            },
            "type": "scatter3d"
           }
          ],
          "scattercarpet": [
           {
            "marker": {
             "colorbar": {
              "outlinewidth": 0,
              "ticks": ""
             }
            },
            "type": "scattercarpet"
           }
          ],
          "scattergeo": [
           {
            "marker": {
             "colorbar": {
              "outlinewidth": 0,
              "ticks": ""
             }
            },
            "type": "scattergeo"
           }
          ],
          "scattergl": [
           {
            "marker": {
             "colorbar": {
              "outlinewidth": 0,
              "ticks": ""
             }
            },
            "type": "scattergl"
           }
          ],
          "scattermapbox": [
           {
            "marker": {
             "colorbar": {
              "outlinewidth": 0,
              "ticks": ""
             }
            },
            "type": "scattermapbox"
           }
          ],
          "scatterpolar": [
           {
            "marker": {
             "colorbar": {
              "outlinewidth": 0,
              "ticks": ""
             }
            },
            "type": "scatterpolar"
           }
          ],
          "scatterpolargl": [
           {
            "marker": {
             "colorbar": {
              "outlinewidth": 0,
              "ticks": ""
             }
            },
            "type": "scatterpolargl"
           }
          ],
          "scatterternary": [
           {
            "marker": {
             "colorbar": {
              "outlinewidth": 0,
              "ticks": ""
             }
            },
            "type": "scatterternary"
           }
          ],
          "surface": [
           {
            "colorbar": {
             "outlinewidth": 0,
             "ticks": ""
            },
            "colorscale": [
             [
              0,
              "#0d0887"
             ],
             [
              0.1111111111111111,
              "#46039f"
             ],
             [
              0.2222222222222222,
              "#7201a8"
             ],
             [
              0.3333333333333333,
              "#9c179e"
             ],
             [
              0.4444444444444444,
              "#bd3786"
             ],
             [
              0.5555555555555556,
              "#d8576b"
             ],
             [
              0.6666666666666666,
              "#ed7953"
             ],
             [
              0.7777777777777778,
              "#fb9f3a"
             ],
             [
              0.8888888888888888,
              "#fdca26"
             ],
             [
              1,
              "#f0f921"
             ]
            ],
            "type": "surface"
           }
          ],
          "table": [
           {
            "cells": {
             "fill": {
              "color": "#EBF0F8"
             },
             "line": {
              "color": "white"
             }
            },
            "header": {
             "fill": {
              "color": "#C8D4E3"
             },
             "line": {
              "color": "white"
             }
            },
            "type": "table"
           }
          ]
         },
         "layout": {
          "annotationdefaults": {
           "arrowcolor": "#2a3f5f",
           "arrowhead": 0,
           "arrowwidth": 1
          },
          "autotypenumbers": "strict",
          "coloraxis": {
           "colorbar": {
            "outlinewidth": 0,
            "ticks": ""
           }
          },
          "colorscale": {
           "diverging": [
            [
             0,
             "#8e0152"
            ],
            [
             0.1,
             "#c51b7d"
            ],
            [
             0.2,
             "#de77ae"
            ],
            [
             0.3,
             "#f1b6da"
            ],
            [
             0.4,
             "#fde0ef"
            ],
            [
             0.5,
             "#f7f7f7"
            ],
            [
             0.6,
             "#e6f5d0"
            ],
            [
             0.7,
             "#b8e186"
            ],
            [
             0.8,
             "#7fbc41"
            ],
            [
             0.9,
             "#4d9221"
            ],
            [
             1,
             "#276419"
            ]
           ],
           "sequential": [
            [
             0,
             "#0d0887"
            ],
            [
             0.1111111111111111,
             "#46039f"
            ],
            [
             0.2222222222222222,
             "#7201a8"
            ],
            [
             0.3333333333333333,
             "#9c179e"
            ],
            [
             0.4444444444444444,
             "#bd3786"
            ],
            [
             0.5555555555555556,
             "#d8576b"
            ],
            [
             0.6666666666666666,
             "#ed7953"
            ],
            [
             0.7777777777777778,
             "#fb9f3a"
            ],
            [
             0.8888888888888888,
             "#fdca26"
            ],
            [
             1,
             "#f0f921"
            ]
           ],
           "sequentialminus": [
            [
             0,
             "#0d0887"
            ],
            [
             0.1111111111111111,
             "#46039f"
            ],
            [
             0.2222222222222222,
             "#7201a8"
            ],
            [
             0.3333333333333333,
             "#9c179e"
            ],
            [
             0.4444444444444444,
             "#bd3786"
            ],
            [
             0.5555555555555556,
             "#d8576b"
            ],
            [
             0.6666666666666666,
             "#ed7953"
            ],
            [
             0.7777777777777778,
             "#fb9f3a"
            ],
            [
             0.8888888888888888,
             "#fdca26"
            ],
            [
             1,
             "#f0f921"
            ]
           ]
          },
          "colorway": [
           "#636efa",
           "#EF553B",
           "#00cc96",
           "#ab63fa",
           "#FFA15A",
           "#19d3f3",
           "#FF6692",
           "#B6E880",
           "#FF97FF",
           "#FECB52"
          ],
          "font": {
           "color": "#2a3f5f"
          },
          "geo": {
           "bgcolor": "white",
           "lakecolor": "white",
           "landcolor": "#E5ECF6",
           "showlakes": true,
           "showland": true,
           "subunitcolor": "white"
          },
          "hoverlabel": {
           "align": "left"
          },
          "hovermode": "closest",
          "mapbox": {
           "style": "light"
          },
          "paper_bgcolor": "white",
          "plot_bgcolor": "#E5ECF6",
          "polar": {
           "angularaxis": {
            "gridcolor": "white",
            "linecolor": "white",
            "ticks": ""
           },
           "bgcolor": "#E5ECF6",
           "radialaxis": {
            "gridcolor": "white",
            "linecolor": "white",
            "ticks": ""
           }
          },
          "scene": {
           "xaxis": {
            "backgroundcolor": "#E5ECF6",
            "gridcolor": "white",
            "gridwidth": 2,
            "linecolor": "white",
            "showbackground": true,
            "ticks": "",
            "zerolinecolor": "white"
           },
           "yaxis": {
            "backgroundcolor": "#E5ECF6",
            "gridcolor": "white",
            "gridwidth": 2,
            "linecolor": "white",
            "showbackground": true,
            "ticks": "",
            "zerolinecolor": "white"
           },
           "zaxis": {
            "backgroundcolor": "#E5ECF6",
            "gridcolor": "white",
            "gridwidth": 2,
            "linecolor": "white",
            "showbackground": true,
            "ticks": "",
            "zerolinecolor": "white"
           }
          },
          "shapedefaults": {
           "line": {
            "color": "#2a3f5f"
           }
          },
          "ternary": {
           "aaxis": {
            "gridcolor": "white",
            "linecolor": "white",
            "ticks": ""
           },
           "baxis": {
            "gridcolor": "white",
            "linecolor": "white",
            "ticks": ""
           },
           "bgcolor": "#E5ECF6",
           "caxis": {
            "gridcolor": "white",
            "linecolor": "white",
            "ticks": ""
           }
          },
          "title": {
           "x": 0.05
          },
          "xaxis": {
           "automargin": true,
           "gridcolor": "white",
           "linecolor": "white",
           "ticks": "",
           "title": {
            "standoff": 15
           },
           "zerolinecolor": "white",
           "zerolinewidth": 2
          },
          "yaxis": {
           "automargin": true,
           "gridcolor": "white",
           "linecolor": "white",
           "ticks": "",
           "title": {
            "standoff": 15
           },
           "zerolinecolor": "white",
           "zerolinewidth": 2
          }
         }
        },
        "title": {
         "font": {
          "size": 20
         },
         "text": "Random Forest Optimization Progress",
         "x": 0.5
        },
        "xaxis": {
         "title": {
          "text": "Trial Number"
         }
        },
        "yaxis": {
         "title": {
          "text": "Accuracy"
         }
        }
       }
      }
     },
     "metadata": {},
     "output_type": "display_data"
    }
   ],
   "source": [
    "fig = plot_optimization_history(study)\n",
    "fig.update_layout(\n",
    "    title_text=\"Random Forest Optimization Progress\",  \n",
    "    title_x=0.5,  \n",
    "    title_font_size=20,  \n",
    "    xaxis_title=\"Trial Number\",  \n",
    "    yaxis_title=\"Accuracy\"\n",
    ")\n",
    "fig.show()"
   ]
  },
  {
   "cell_type": "code",
   "execution_count": null,
   "id": "c1d9fc6a",
   "metadata": {},
   "outputs": [],
   "source": []
  }
 ],
 "metadata": {
  "kernelspec": {
   "display_name": "base",
   "language": "python",
   "name": "python3"
  },
  "language_info": {
   "codemirror_mode": {
    "name": "ipython",
    "version": 3
   },
   "file_extension": ".py",
   "mimetype": "text/x-python",
   "name": "python",
   "nbconvert_exporter": "python",
   "pygments_lexer": "ipython3",
   "version": "3.12.7"
  }
 },
 "nbformat": 4,
 "nbformat_minor": 5
}
