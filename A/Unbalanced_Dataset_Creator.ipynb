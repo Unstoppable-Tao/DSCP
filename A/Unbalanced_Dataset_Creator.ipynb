{
 "cells": [
  {
   "cell_type": "code",
   "execution_count": 1,
   "id": "39495171",
   "metadata": {},
   "outputs": [],
   "source": [
    "import numpy as np \n",
    "import pandas as pd\n",
    "from sklearn.preprocessing import MinMaxScaler\n",
    "import seaborn as sns\n",
    "import matplotlib.pyplot as plt\n",
    "from sklearn.model_selection import train_test_split\n",
    "from sklearn.ensemble import RandomForestClassifier\n",
    "from xgboost import XGBClassifier\n",
    "from lightgbm import LGBMClassifier\n",
    "from sklearn.metrics import accuracy_score, classification_report, confusion_matrix, roc_auc_score, roc_curve\n",
    "from sklearn.metrics import accuracy_score, precision_score, recall_score, f1_score\n",
    "from sklearn.manifold import TSNE\n",
    "from sklearn.utils import resample"
   ]
  },
  {
   "cell_type": "code",
   "execution_count": 2,
   "id": "60508c4c",
   "metadata": {},
   "outputs": [],
   "source": [
    "df=pd.read_csv('balanced_cleaned_trian_dataset.csv',index_col=0)"
   ]
  },
  {
   "cell_type": "code",
   "execution_count": 3,
   "id": "461e8efb",
   "metadata": {},
   "outputs": [],
   "source": [
    "# grouped = df.groupby(\"smoking\")\n",
    "# df_0 = grouped.get_group(0)\n",
    "# df_1 = grouped.get_group(1)\n",
    "# df_0_sub = df_0.sample(n=150, random_state=42)\n",
    "# df_1_sub = df_1.sample(n=150, random_state=42)\n",
    "# df_sub = pd.concat([df_0_sub, df_1_sub])\n",
    "# df_sub = df_sub.sample(frac=1, random_state=42).reset_index(drop=True)"
   ]
  },
  {
   "cell_type": "code",
   "execution_count": null,
   "id": "0f11c872",
   "metadata": {},
   "outputs": [],
   "source": [
    "grouped = df.groupby(\"smoking\")\n",
    "df_0 = grouped.get_group(0)\n",
    "df_1 = grouped.get_group(1)\n",
    "\n",
    "\n",
    "df_0_sub = df_0.sample(n=10000, random_state=42)\n",
    "df_1_sub = df_1.sample(n=5000, random_state=42)\n",
    "df_sub = pd.concat([df_0_sub, df_1_sub])\n",
    "\n",
    "df_sub= df_sub.sample(frac=1, random_state=42).reset_index(drop=True)\n",
    "\n",
    "#df_sub.to_csv('Unbalanced_Dataset.csv')\n",
    "\n",
    "\n",
    "\n",
    "\n",
    "\n"
   ]
  }
 ],
 "metadata": {
  "kernelspec": {
   "display_name": "base",
   "language": "python",
   "name": "python3"
  },
  "language_info": {
   "codemirror_mode": {
    "name": "ipython",
    "version": 3
   },
   "file_extension": ".py",
   "mimetype": "text/x-python",
   "name": "python",
   "nbconvert_exporter": "python",
   "pygments_lexer": "ipython3",
   "version": "3.12.7"
  }
 },
 "nbformat": 4,
 "nbformat_minor": 5
}
