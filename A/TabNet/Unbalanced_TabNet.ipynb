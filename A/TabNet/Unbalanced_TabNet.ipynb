{
 "cells": [
  {
   "cell_type": "code",
   "execution_count": 1,
   "id": "0c0dff6a",
   "metadata": {},
   "outputs": [],
   "source": [
    "from pytorch_tabnet.tab_model import TabNetClassifier\n",
    "from sklearn.metrics import accuracy_score, classification_report\n",
    "from sklearn.model_selection import train_test_split\n",
    "from sklearn.preprocessing import StandardScaler\n",
    "import pandas as pd\n",
    "import numpy as np\n",
    "import torch\n",
    "from sklearn.model_selection import StratifiedKFold"
   ]
  },
  {
   "cell_type": "code",
   "execution_count": 2,
   "id": "fbe314a1",
   "metadata": {},
   "outputs": [],
   "source": [
    "train=pd.read_csv('../Unbalanced_Dataset.csv',index_col=0)\n",
    "test_set=pd.read_csv('../testset.csv',index_col=0)\n",
    "\n",
    "train_copy=train.drop('id',axis=1)\n",
    "X = train_copy.drop('smoking', axis=1)\n",
    "y = train_copy['smoking']\n",
    "\n",
    "test_set=test_set.drop('id',axis=1)\n",
    "X_test_new= test_set.drop('smoking', axis=1)\n",
    "y_test_new = test_set['smoking']"
   ]
  },
  {
   "cell_type": "code",
   "execution_count": null,
   "id": "b62d0999",
   "metadata": {},
   "outputs": [
    {
     "name": "stderr",
     "output_type": "stream",
     "text": [
      "[I 2025-08-10 22:29:43,147] A new study created in memory with name: no-name-54e255e4-331d-47bc-bbdc-d7b8ae9d425a\n"
     ]
    },
    {
     "name": "stdout",
     "output_type": "stream",
     "text": [
      "\n",
      "Early stopping occurred at epoch 49 with best_epoch = 34 and best_val_0_accuracy = 0.728\n"
     ]
    },
    {
     "name": "stderr",
     "output_type": "stream",
     "text": [
      "/opt/anaconda3/lib/python3.12/site-packages/pytorch_tabnet/callbacks.py:172: UserWarning: Best weights from best epoch are automatically used!\n",
      "  warnings.warn(wrn_msg)\n"
     ]
    },
    {
     "name": "stdout",
     "output_type": "stream",
     "text": [
      "Stop training because you reached max_epochs = 58 with best_epoch = 48 and best_val_0_accuracy = 0.735\n"
     ]
    },
    {
     "name": "stderr",
     "output_type": "stream",
     "text": [
      "/opt/anaconda3/lib/python3.12/site-packages/pytorch_tabnet/callbacks.py:172: UserWarning: Best weights from best epoch are automatically used!\n",
      "  warnings.warn(wrn_msg)\n"
     ]
    },
    {
     "name": "stdout",
     "output_type": "stream",
     "text": [
      "\n",
      "Early stopping occurred at epoch 44 with best_epoch = 29 and best_val_0_accuracy = 0.725\n"
     ]
    },
    {
     "name": "stderr",
     "output_type": "stream",
     "text": [
      "/opt/anaconda3/lib/python3.12/site-packages/pytorch_tabnet/callbacks.py:172: UserWarning: Best weights from best epoch are automatically used!\n",
      "  warnings.warn(wrn_msg)\n"
     ]
    },
    {
     "name": "stdout",
     "output_type": "stream",
     "text": [
      "Stop training because you reached max_epochs = 58 with best_epoch = 48 and best_val_0_accuracy = 0.72767\n"
     ]
    },
    {
     "name": "stderr",
     "output_type": "stream",
     "text": [
      "/opt/anaconda3/lib/python3.12/site-packages/pytorch_tabnet/callbacks.py:172: UserWarning: Best weights from best epoch are automatically used!\n",
      "  warnings.warn(wrn_msg)\n"
     ]
    },
    {
     "name": "stdout",
     "output_type": "stream",
     "text": [
      "\n",
      "Early stopping occurred at epoch 49 with best_epoch = 34 and best_val_0_accuracy = 0.72667\n"
     ]
    },
    {
     "name": "stderr",
     "output_type": "stream",
     "text": [
      "/opt/anaconda3/lib/python3.12/site-packages/pytorch_tabnet/callbacks.py:172: UserWarning: Best weights from best epoch are automatically used!\n",
      "  warnings.warn(wrn_msg)\n",
      "[I 2025-08-10 22:33:00,390] Trial 0 finished with value: 0.7284666666666666 and parameters: {'n_d': 32, 'n_a': 64, 'n_steps': 9, 'gamma': 1.5986584841970366, 'lambda_sparse': 2.05133826308745e-06, 'lr': 0.0007160849144555758, 'max_epochs': 58}. Best is trial 0 with value: 0.7284666666666666.\n"
     ]
    },
    {
     "name": "stdout",
     "output_type": "stream",
     "text": [
      "\n",
      "Early stopping occurred at epoch 46 with best_epoch = 31 and best_val_0_accuracy = 0.75567\n"
     ]
    },
    {
     "name": "stderr",
     "output_type": "stream",
     "text": [
      "/opt/anaconda3/lib/python3.12/site-packages/pytorch_tabnet/callbacks.py:172: UserWarning: Best weights from best epoch are automatically used!\n",
      "  warnings.warn(wrn_msg)\n"
     ]
    },
    {
     "name": "stdout",
     "output_type": "stream",
     "text": [
      "\n",
      "Early stopping occurred at epoch 52 with best_epoch = 37 and best_val_0_accuracy = 0.759\n"
     ]
    },
    {
     "name": "stderr",
     "output_type": "stream",
     "text": [
      "/opt/anaconda3/lib/python3.12/site-packages/pytorch_tabnet/callbacks.py:172: UserWarning: Best weights from best epoch are automatically used!\n",
      "  warnings.warn(wrn_msg)\n"
     ]
    },
    {
     "name": "stdout",
     "output_type": "stream",
     "text": [
      "\n",
      "Early stopping occurred at epoch 31 with best_epoch = 16 and best_val_0_accuracy = 0.75133\n"
     ]
    },
    {
     "name": "stderr",
     "output_type": "stream",
     "text": [
      "/opt/anaconda3/lib/python3.12/site-packages/pytorch_tabnet/callbacks.py:172: UserWarning: Best weights from best epoch are automatically used!\n",
      "  warnings.warn(wrn_msg)\n"
     ]
    },
    {
     "name": "stdout",
     "output_type": "stream",
     "text": [
      "\n",
      "Early stopping occurred at epoch 44 with best_epoch = 29 and best_val_0_accuracy = 0.763\n"
     ]
    },
    {
     "name": "stderr",
     "output_type": "stream",
     "text": [
      "/opt/anaconda3/lib/python3.12/site-packages/pytorch_tabnet/callbacks.py:172: UserWarning: Best weights from best epoch are automatically used!\n",
      "  warnings.warn(wrn_msg)\n"
     ]
    },
    {
     "name": "stdout",
     "output_type": "stream",
     "text": [
      "\n",
      "Early stopping occurred at epoch 32 with best_epoch = 17 and best_val_0_accuracy = 0.76\n"
     ]
    },
    {
     "name": "stderr",
     "output_type": "stream",
     "text": [
      "/opt/anaconda3/lib/python3.12/site-packages/pytorch_tabnet/callbacks.py:172: UserWarning: Best weights from best epoch are automatically used!\n",
      "  warnings.warn(wrn_msg)\n",
      "[I 2025-08-10 22:35:42,466] Trial 1 finished with value: 0.7577999999999999 and parameters: {'n_d': 64, 'n_a': 48, 'n_steps': 8, 'gamma': 1.0205844942958024, 'lambda_sparse': 8.706020878304853e-05, 'lr': 0.003399481210795565, 'max_epochs': 82}. Best is trial 1 with value: 0.7577999999999999.\n"
     ]
    },
    {
     "name": "stdout",
     "output_type": "stream",
     "text": [
      "\n",
      "Early stopping occurred at epoch 44 with best_epoch = 29 and best_val_0_accuracy = 0.72733\n"
     ]
    },
    {
     "name": "stderr",
     "output_type": "stream",
     "text": [
      "/opt/anaconda3/lib/python3.12/site-packages/pytorch_tabnet/callbacks.py:172: UserWarning: Best weights from best epoch are automatically used!\n",
      "  warnings.warn(wrn_msg)\n"
     ]
    },
    {
     "name": "stdout",
     "output_type": "stream",
     "text": [
      "\n",
      "Early stopping occurred at epoch 86 with best_epoch = 71 and best_val_0_accuracy = 0.73733\n"
     ]
    },
    {
     "name": "stderr",
     "output_type": "stream",
     "text": [
      "/opt/anaconda3/lib/python3.12/site-packages/pytorch_tabnet/callbacks.py:172: UserWarning: Best weights from best epoch are automatically used!\n",
      "  warnings.warn(wrn_msg)\n"
     ]
    },
    {
     "name": "stdout",
     "output_type": "stream",
     "text": [
      "\n",
      "Early stopping occurred at epoch 65 with best_epoch = 50 and best_val_0_accuracy = 0.73333\n"
     ]
    },
    {
     "name": "stderr",
     "output_type": "stream",
     "text": [
      "/opt/anaconda3/lib/python3.12/site-packages/pytorch_tabnet/callbacks.py:172: UserWarning: Best weights from best epoch are automatically used!\n",
      "  warnings.warn(wrn_msg)\n"
     ]
    },
    {
     "name": "stdout",
     "output_type": "stream",
     "text": [
      "\n",
      "Early stopping occurred at epoch 108 with best_epoch = 93 and best_val_0_accuracy = 0.753\n"
     ]
    },
    {
     "name": "stderr",
     "output_type": "stream",
     "text": [
      "/opt/anaconda3/lib/python3.12/site-packages/pytorch_tabnet/callbacks.py:172: UserWarning: Best weights from best epoch are automatically used!\n",
      "  warnings.warn(wrn_msg)\n"
     ]
    },
    {
     "name": "stdout",
     "output_type": "stream",
     "text": [
      "\n",
      "Early stopping occurred at epoch 53 with best_epoch = 38 and best_val_0_accuracy = 0.726\n"
     ]
    },
    {
     "name": "stderr",
     "output_type": "stream",
     "text": [
      "/opt/anaconda3/lib/python3.12/site-packages/pytorch_tabnet/callbacks.py:172: UserWarning: Best weights from best epoch are automatically used!\n",
      "  warnings.warn(wrn_msg)\n",
      "[I 2025-08-10 22:38:56,534] Trial 2 finished with value: 0.7354 and parameters: {'n_d': 24, 'n_a': 24, 'n_steps': 6, 'gamma': 1.524756431632238, 'lambda_sparse': 7.30953983591291e-06, 'lr': 0.0009776854331372624, 'max_epochs': 142}. Best is trial 1 with value: 0.7577999999999999.\n"
     ]
    },
    {
     "name": "stdout",
     "output_type": "stream",
     "text": [
      "\n",
      "Early stopping occurred at epoch 84 with best_epoch = 69 and best_val_0_accuracy = 0.74267\n"
     ]
    },
    {
     "name": "stderr",
     "output_type": "stream",
     "text": [
      "/opt/anaconda3/lib/python3.12/site-packages/pytorch_tabnet/callbacks.py:172: UserWarning: Best weights from best epoch are automatically used!\n",
      "  warnings.warn(wrn_msg)\n"
     ]
    },
    {
     "name": "stdout",
     "output_type": "stream",
     "text": [
      "\n",
      "Early stopping occurred at epoch 42 with best_epoch = 27 and best_val_0_accuracy = 0.70967\n"
     ]
    },
    {
     "name": "stderr",
     "output_type": "stream",
     "text": [
      "/opt/anaconda3/lib/python3.12/site-packages/pytorch_tabnet/callbacks.py:172: UserWarning: Best weights from best epoch are automatically used!\n",
      "  warnings.warn(wrn_msg)\n"
     ]
    },
    {
     "name": "stdout",
     "output_type": "stream",
     "text": [
      "\n",
      "Early stopping occurred at epoch 107 with best_epoch = 92 and best_val_0_accuracy = 0.74333\n"
     ]
    },
    {
     "name": "stderr",
     "output_type": "stream",
     "text": [
      "/opt/anaconda3/lib/python3.12/site-packages/pytorch_tabnet/callbacks.py:172: UserWarning: Best weights from best epoch are automatically used!\n",
      "  warnings.warn(wrn_msg)\n"
     ]
    },
    {
     "name": "stdout",
     "output_type": "stream",
     "text": [
      "\n",
      "Early stopping occurred at epoch 60 with best_epoch = 45 and best_val_0_accuracy = 0.72567\n"
     ]
    },
    {
     "name": "stderr",
     "output_type": "stream",
     "text": [
      "/opt/anaconda3/lib/python3.12/site-packages/pytorch_tabnet/callbacks.py:172: UserWarning: Best weights from best epoch are automatically used!\n",
      "  warnings.warn(wrn_msg)\n"
     ]
    },
    {
     "name": "stdout",
     "output_type": "stream",
     "text": [
      "\n",
      "Early stopping occurred at epoch 78 with best_epoch = 63 and best_val_0_accuracy = 0.73\n"
     ]
    },
    {
     "name": "stderr",
     "output_type": "stream",
     "text": [
      "/opt/anaconda3/lib/python3.12/site-packages/pytorch_tabnet/callbacks.py:172: UserWarning: Best weights from best epoch are automatically used!\n",
      "  warnings.warn(wrn_msg)\n",
      "[I 2025-08-10 22:42:19,888] Trial 3 finished with value: 0.7302666666666666 and parameters: {'n_d': 16, 'n_a': 32, 'n_steps': 6, 'gamma': 1.456069984217036, 'lambda_sparse': 3.718364180573207e-05, 'lr': 0.0007918515779559374, 'max_epochs': 127}. Best is trial 1 with value: 0.7577999999999999.\n"
     ]
    },
    {
     "name": "stdout",
     "output_type": "stream",
     "text": [
      "\n",
      "Early stopping occurred at epoch 35 with best_epoch = 20 and best_val_0_accuracy = 0.74933\n"
     ]
    },
    {
     "name": "stderr",
     "output_type": "stream",
     "text": [
      "/opt/anaconda3/lib/python3.12/site-packages/pytorch_tabnet/callbacks.py:172: UserWarning: Best weights from best epoch are automatically used!\n",
      "  warnings.warn(wrn_msg)\n"
     ]
    },
    {
     "name": "stdout",
     "output_type": "stream",
     "text": [
      "\n",
      "Early stopping occurred at epoch 39 with best_epoch = 24 and best_val_0_accuracy = 0.75533\n"
     ]
    },
    {
     "name": "stderr",
     "output_type": "stream",
     "text": [
      "/opt/anaconda3/lib/python3.12/site-packages/pytorch_tabnet/callbacks.py:172: UserWarning: Best weights from best epoch are automatically used!\n",
      "  warnings.warn(wrn_msg)\n"
     ]
    },
    {
     "name": "stdout",
     "output_type": "stream",
     "text": [
      "\n",
      "Early stopping occurred at epoch 62 with best_epoch = 47 and best_val_0_accuracy = 0.75067\n"
     ]
    },
    {
     "name": "stderr",
     "output_type": "stream",
     "text": [
      "/opt/anaconda3/lib/python3.12/site-packages/pytorch_tabnet/callbacks.py:172: UserWarning: Best weights from best epoch are automatically used!\n",
      "  warnings.warn(wrn_msg)\n"
     ]
    },
    {
     "name": "stdout",
     "output_type": "stream",
     "text": [
      "\n",
      "Early stopping occurred at epoch 69 with best_epoch = 54 and best_val_0_accuracy = 0.76167\n"
     ]
    },
    {
     "name": "stderr",
     "output_type": "stream",
     "text": [
      "/opt/anaconda3/lib/python3.12/site-packages/pytorch_tabnet/callbacks.py:172: UserWarning: Best weights from best epoch are automatically used!\n",
      "  warnings.warn(wrn_msg)\n"
     ]
    },
    {
     "name": "stdout",
     "output_type": "stream",
     "text": [
      "\n",
      "Early stopping occurred at epoch 51 with best_epoch = 36 and best_val_0_accuracy = 0.757\n"
     ]
    },
    {
     "name": "stderr",
     "output_type": "stream",
     "text": [
      "/opt/anaconda3/lib/python3.12/site-packages/pytorch_tabnet/callbacks.py:172: UserWarning: Best weights from best epoch are automatically used!\n",
      "  warnings.warn(wrn_msg)\n",
      "[I 2025-08-10 22:45:53,098] Trial 4 finished with value: 0.7548 and parameters: {'n_d': 48, 'n_a': 16, 'n_steps': 8, 'gamma': 1.1705241236872914, 'lambda_sparse': 1.3492834268013243e-06, 'lr': 0.004444833953509465, 'max_epochs': 195}. Best is trial 1 with value: 0.7577999999999999.\n"
     ]
    },
    {
     "name": "stdout",
     "output_type": "stream",
     "text": [
      "best_params: {'n_d': 64, 'n_a': 48, 'n_steps': 8, 'gamma': 1.0205844942958024, 'lambda_sparse': 8.706020878304853e-05, 'lr': 0.003399481210795565, 'max_epochs': 82}\n",
      "best_value: 0.7577999999999999\n"
     ]
    }
   ],
   "source": [
    "import optuna\n",
    "from pytorch_tabnet.tab_model import TabNetClassifier\n",
    "from sklearn.metrics import accuracy_score\n",
    "import numpy as np\n",
    "\n",
    "skf = StratifiedKFold(n_splits=5, shuffle=True, random_state=42)\n",
    "\n",
    "def objective(trial):\n",
    "    \n",
    "    n_d = trial.suggest_int(\"n_d\", 16, 64, step=8)        \n",
    "    n_a = trial.suggest_int(\"n_a\", 16, 64, step=8)        \n",
    "    n_steps = trial.suggest_int(\"n_steps\", 4, 10)         \n",
    "    gamma = trial.suggest_float(\"gamma\", 1.0, 2.0)        \n",
    "    lambda_sparse = trial.suggest_float(\"lambda_sparse\", 1e-6, 1e-4, log=True)  \n",
    "    lr = trial.suggest_float(\"lr\", 5e-4, 5e-3, log=True)  \n",
    "    max_epochs = trial.suggest_int(\"max_epochs\", 50, 200) \n",
    "\n",
    "    scores = []\n",
    "\n",
    "    for fold, (train_idx, val_idx) in enumerate(skf.split(X, y)):\n",
    "        X_train_fold, X_val_fold = X.iloc[train_idx], X.iloc[val_idx]\n",
    "        y_train_fold, y_val_fold = y.iloc[train_idx], y.iloc[val_idx]   \n",
    "\n",
    "        scaler = StandardScaler()\n",
    "        X_train_scaled = scaler.fit_transform(X_train_fold)\n",
    "        X_val_scaled   = scaler.transform(X_val_fold)\n",
    "\n",
    "        \n",
    "        X_train_fold = X_train_scaled.astype(np.float32)\n",
    "        X_val_fold   = X_val_scaled.astype(np.float32)\n",
    "        y_train_fold = y_train_fold.values.astype(np.int64)\n",
    "        y_val_fold   = y_val_fold.values.astype(np.int64)\n",
    "\n",
    "        model = TabNetClassifier(\n",
    "            n_d=n_d,\n",
    "            n_a=n_a,\n",
    "            n_steps=n_steps,\n",
    "            gamma=gamma,\n",
    "            lambda_sparse=lambda_sparse,\n",
    "            optimizer_fn=torch.optim.Adam,\n",
    "            optimizer_params=dict(lr=lr),\n",
    "            verbose=0,\n",
    "            seed=42\n",
    "        )\n",
    "\n",
    "        model.fit(\n",
    "            X_train_fold, y_train_fold,\n",
    "            # eval_set=[(X_val_fold, y_val_fold)],\n",
    "            # eval_metric=['accuracy'],\n",
    "            max_epochs=max_epochs,\n",
    "            # patience=15,\n",
    "            batch_size=1024,\n",
    "            virtual_batch_size=128\n",
    "        )\n",
    "\n",
    "        y_pred_val = model.predict(X_val_fold)\n",
    "        acc = accuracy_score(y_val_fold, y_pred_val)\n",
    "        \n",
    "        scores.append(acc)\n",
    "\n",
    "\n",
    "    return np.mean(scores)\n",
    "\n",
    "\n",
    "sampler = optuna.samplers.TPESampler(seed=42)\n",
    "study = optuna.create_study(direction=\"maximize\", sampler=sampler)\n",
    "study.optimize(objective, n_trials=5)\n",
    "\n",
    "print(\"best_params:\", study.best_params)\n",
    "print(\"best_value:\", study.best_value)\n"
   ]
  },
  {
   "cell_type": "code",
   "execution_count": null,
   "id": "6c619350",
   "metadata": {},
   "outputs": [
    {
     "name": "stderr",
     "output_type": "stream",
     "text": [
      "/opt/anaconda3/lib/python3.12/site-packages/pytorch_tabnet/abstract_model.py:82: UserWarning: Device used : cpu\n",
      "  warnings.warn(f\"Device used : {self.device}\")\n",
      "/opt/anaconda3/lib/python3.12/site-packages/pytorch_tabnet/abstract_model.py:687: UserWarning: No early stopping will be performed, last training weights will be used.\n",
      "  warnings.warn(wrn_msg)\n"
     ]
    },
    {
     "name": "stdout",
     "output_type": "stream",
     "text": [
      "epoch 0  | loss: 1.02547 |  0:00:25s\n",
      "epoch 10 | loss: 0.5296  |  0:04:40s\n",
      "epoch 20 | loss: 0.47922 |  0:08:57s\n",
      "epoch 30 | loss: 0.47235 |  0:13:13s\n",
      "TabNet Train Accuracy: 0.7604\n",
      "\n",
      " TabNet Test Accuracy: 0.7420\n",
      "              precision    recall  f1-score   support\n",
      "\n",
      "           0     0.7093    0.8200    0.7607      1000\n",
      "           1     0.7867    0.6640    0.7202      1000\n",
      "\n",
      "    accuracy                         0.7420      2000\n",
      "   macro avg     0.7480    0.7420    0.7404      2000\n",
      "weighted avg     0.7480    0.7420    0.7404      2000\n",
      "\n"
     ]
    }
   ],
   "source": [
    "\n",
    "X_train_f, X_val_f, y_train_f, y_val_f = train_test_split(\n",
    "    X, y, test_size=0.2, random_state=42\n",
    ")\n",
    "\n",
    "scaler = StandardScaler()\n",
    "X_train_f_scaled = scaler.fit_transform(X_train_f)\n",
    "X_val_f_scaled   = scaler.transform(X_val_f)\n",
    "X_test_new_scaled  = scaler.transform(X_test_new)\n",
    "\n",
    "\n",
    "X_train_scaled_np = X_train_f_scaled.astype(np.float32)\n",
    "y_train_np = y_train_f.values.astype(np.int64)\n",
    "\n",
    "X_val_scaled_np = X_val_f_scaled.astype(np.float32)\n",
    "y_val_np = y_val_f.values.astype(np.int64)\n",
    "\n",
    "X_test_new_scaled_np = X_test_new_scaled.astype(np.float32)\n",
    "y_test_new_np = y_test_new.values.astype(np.int64)\n",
    "\n",
    "\n",
    "\n",
    "tabnet_model = TabNetClassifier(\n",
    "    optimizer_fn=torch.optim.Adam,\n",
    "    optimizer_params=dict(lr=0.003399481210795565),\n",
    "    scheduler_params={\"step_size\":10, \"gamma\":0.9},\n",
    "    scheduler_fn=torch.optim.lr_scheduler.StepLR,\n",
    "    verbose=10,\n",
    "    n_d=64, n_a=48, n_steps=8, gamma=1.0205844942958024,\n",
    "    lambda_sparse=8.706020878304853e-05,\n",
    "    seed=42\n",
    ")\n",
    "\n",
    "\n",
    "\n",
    "tabnet_model.fit(\n",
    "    X_train=X_train_scaled_np, y_train=y_train_np,\n",
    "    batch_size=1024,\n",
    "    virtual_batch_size=128,\n",
    "    max_epochs=33,\n",
    "    num_workers=4\n",
    ")\n",
    "\n",
    "y_train_pred = tabnet_model.predict(X_train_scaled_np)\n",
    "train_acc = accuracy_score(y_train_np, y_train_pred)\n",
    "\n",
    "print(f\"TabNet Train Accuracy: {train_acc:.4f}\")\n",
    "# print(classification_report(y_train_np, y_train_pred, digits=4))\n",
    "\n",
    "\n",
    "y_pred = tabnet_model.predict(X_test_new_scaled_np)\n",
    "acc = accuracy_score(y_test_new_np, y_pred)\n",
    "\n",
    "print(f\"\\n TabNet Test Accuracy: {acc:.4f}\")\n",
    "print(classification_report(y_test_new_np, y_pred, digits=4))"
   ]
  },
  {
   "cell_type": "code",
   "execution_count": 6,
   "id": "85260fc2",
   "metadata": {},
   "outputs": [
    {
     "name": "stdout",
     "output_type": "stream",
     "text": [
      "Successfully saved model at tabnet_model(1.5w2).zip\n"
     ]
    },
    {
     "data": {
      "text/plain": [
       "'tabnet_model(1.5w2).zip'"
      ]
     },
     "execution_count": 6,
     "metadata": {},
     "output_type": "execute_result"
    }
   ],
   "source": [
    "tabnet_model.save_model(\"tabnet_model(1.5w2)\")\n"
   ]
  },
  {
   "cell_type": "code",
   "execution_count": 7,
   "id": "977ded2a",
   "metadata": {},
   "outputs": [],
   "source": [
    "loaded_model = TabNetClassifier()\n",
    "\n",
    "\n",
    "loaded_model.load_model(\"tabnet_model(1.5w2).zip\")"
   ]
  },
  {
   "cell_type": "code",
   "execution_count": 8,
   "id": "bb707feb",
   "metadata": {},
   "outputs": [],
   "source": [
    "scaler = StandardScaler()\n",
    "\n",
    "X_train_f, X_val_f, y_train_f, y_val_f = train_test_split(\n",
    "    X, y, test_size=0.2, random_state=42\n",
    ")\n",
    "X_train_f_scaled = scaler.fit_transform(X_train_f)\n",
    "X_val_f_scaled   = scaler.transform(X_val_f)\n",
    "X_test_new_scaled  = scaler.fit_transform(X_test_new)\n",
    "\n",
    "\n",
    "X_train_scaled_np = X_train_f_scaled.astype(np.float32)\n",
    "y_train_np = y_train_f.values.astype(np.int64)\n",
    "\n",
    "X_val_scaled_np = X_val_f_scaled.astype(np.float32)\n",
    "y_val_np = y_val_f.values.astype(np.int64)\n",
    "\n",
    "X_test_new_scaled_np = X_test_new_scaled.astype(np.float32)\n",
    "y_test_new_np = y_test_new.values.astype(np.int64)\n",
    "\n",
    "y_score_tab = loaded_model.predict_proba(X_test_new_scaled_np)[:, 1]\n",
    "\n",
    "\n",
    "\n",
    "df_scores = pd.read_csv(\"../roc_scores_rf.csv\")   \n",
    "\n",
    "\n",
    "\n",
    "\n",
    "df_scores[\"tab\"] = y_score_tab\n",
    "\n",
    "\n",
    "df_scores.to_csv(\"../roc_scores_rf.csv\", index=False)\n",
    "\n",
    "\n"
   ]
  },
  {
   "cell_type": "code",
   "execution_count": null,
   "id": "c6b0b020",
   "metadata": {},
   "outputs": [],
   "source": [
    "skf = StratifiedKFold(n_splits=5, shuffle=True, random_state=42)\n",
    "scores = []\n",
    "\n",
    "for fold, (train_idx, val_idx) in enumerate(skf.split(X, y)):\n",
    "    X_train_fold, X_val_fold = X.iloc[train_idx], X.iloc[val_idx]\n",
    "    y_train_fold, y_val_fold = y.iloc[train_idx], y.iloc[val_idx]   \n",
    "\n",
    "    scaler = StandardScaler()\n",
    "    X_train_scaled = scaler.fit_transform(X_train_fold)\n",
    "    X_val_scaled   = scaler.transform(X_val_fold)\n",
    "\n",
    "    \n",
    "    X_train_fold = X_train_scaled.astype(np.float32)\n",
    "    X_val_fold   = X_val_scaled.astype(np.float32)\n",
    "    y_train_fold = y_train_fold.values.astype(np.int64)\n",
    "    y_val_fold   = y_val_fold.values.astype(np.int64)\n",
    "\n",
    "    model = TabNetClassifier(\n",
    "        optimizer_fn=torch.optim.Adam,\n",
    "        optimizer_params=dict(lr=0.003399481210795565),\n",
    "        scheduler_params={\"step_size\":10, \"gamma\":0.9},\n",
    "        scheduler_fn=torch.optim.lr_scheduler.StepLR,\n",
    "        verbose=10,\n",
    "        n_d=64, n_a=48, n_steps=8, gamma=1.0205844942958024,\n",
    "        lambda_sparse=8.706020878304853e-05,\n",
    "        seed=42\n",
    "    )\n",
    "\n",
    "    model.fit(\n",
    "        X_train=X_train_fold, y_train=y_train_fold,\n",
    "        batch_size=1024,\n",
    "        virtual_batch_size=128,\n",
    "        max_epochs=33,\n",
    "        num_workers=4\n",
    "    )\n",
    "\n",
    "    y_pred_val = model.predict(X_val_fold)\n",
    "    acc = accuracy_score(y_val_fold, y_pred_val)\n",
    "\n",
    "    y_train_pred = tabnet_model.predict(X_train_fold)\n",
    "    train_acc = accuracy_score(y_train_fold, y_train_pred)\n",
    "\n",
    "    \n",
    "    print(f\"TabNet Train Accuracy: {train_acc:.4f}\")\n",
    "\n",
    "\n",
    "    print(f\"\\n TabNet Test Accuracy: {acc:.4f}\")\n",
    "    \n",
    "\n",
    "\n",
    "   \n",
    "\n",
    "\n"
   ]
  }
 ],
 "metadata": {
  "kernelspec": {
   "display_name": "base",
   "language": "python",
   "name": "python3"
  },
  "language_info": {
   "codemirror_mode": {
    "name": "ipython",
    "version": 3
   },
   "file_extension": ".py",
   "mimetype": "text/x-python",
   "name": "python",
   "nbconvert_exporter": "python",
   "pygments_lexer": "ipython3",
   "version": "3.12.7"
  }
 },
 "nbformat": 4,
 "nbformat_minor": 5
}
