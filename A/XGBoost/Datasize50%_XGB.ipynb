{
 "cells": [
  {
   "cell_type": "code",
   "execution_count": 12,
   "id": "7486ed65",
   "metadata": {},
   "outputs": [],
   "source": [
    "import xgboost as xgb\n",
    "from sklearn.datasets import load_iris\n",
    "from sklearn.model_selection import train_test_split\n",
    "from sklearn.metrics import accuracy_score, classification_report\n",
    "import numpy as np \n",
    "import pandas as pd\n",
    "from sklearn.model_selection import cross_val_score, StratifiedKFold\n",
    "from sklearn.preprocessing import MinMaxScaler\n",
    "import optuna\n",
    "from sklearn.metrics import accuracy_score, precision_score, recall_score, f1_score"
   ]
  },
  {
   "cell_type": "code",
   "execution_count": null,
   "id": "6439270c",
   "metadata": {},
   "outputs": [],
   "source": [
    "df=pd.read_csv('../balanced_cleaned_trian_dataset.csv',index_col=0)\n",
    "test_set=pd.read_csv('../testset.csv',index_col=0)\n"
   ]
  },
  {
   "cell_type": "code",
   "execution_count": null,
   "id": "5ddf0daf",
   "metadata": {},
   "outputs": [],
   "source": [
    "grouped = df.groupby(\"smoking\")\n",
    "df_0 = grouped.get_group(0)\n",
    "df_1 = grouped.get_group(1)\n",
    "df_0_half = df_0.sample(frac=0.5, random_state=42)\n",
    "df_1_half = df_1.sample(frac=0.5, random_state=42)\n",
    "df_half = pd.concat([df_0_half, df_1_half])\n",
    "\n",
    "df_half = df_half.sample(frac=1, random_state=42).reset_index(drop=True)\n"
   ]
  },
  {
   "cell_type": "code",
   "execution_count": 15,
   "id": "564eb9c4",
   "metadata": {},
   "outputs": [
    {
     "data": {
      "text/plain": [
       "smoking\n",
       "0    33845\n",
       "1    33845\n",
       "Name: count, dtype: int64"
      ]
     },
     "execution_count": 15,
     "metadata": {},
     "output_type": "execute_result"
    }
   ],
   "source": [
    "df_half['smoking'].value_counts()"
   ]
  },
  {
   "cell_type": "code",
   "execution_count": 16,
   "id": "655276d9",
   "metadata": {},
   "outputs": [],
   "source": [
    "\n",
    "train_copy=train.drop('id',axis=1)\n",
    "X = train_copy.drop('smoking', axis=1)\n",
    "y = train_copy['smoking']\n",
    "\n",
    "test_set=test_set.drop('id',axis=1)\n",
    "X_test= test_set.drop('smoking', axis=1)\n",
    "y_test = test_set['smoking']\n"
   ]
  },
  {
   "cell_type": "code",
   "execution_count": null,
   "id": "40a8e53c",
   "metadata": {},
   "outputs": [
    {
     "name": "stderr",
     "output_type": "stream",
     "text": [
      "[I 2025-07-29 21:31:27,448] A new study created in memory with name: no-name-a7f13d44-41e2-4e73-a720-82599d0b70c4\n",
      "[I 2025-07-29 21:31:33,959] Trial 0 finished with value: 0.3482309055990545 and parameters: {'n_estimators': 160, 'max_depth': 10, 'learning_rate': 0.012475943657312591}. Best is trial 0 with value: 0.3482309055990545.\n",
      "[I 2025-07-29 21:31:37,671] Trial 1 finished with value: 0.3645017727877088 and parameters: {'n_estimators': 120, 'max_depth': 9, 'learning_rate': 0.012084361179543377}. Best is trial 1 with value: 0.3645017727877088.\n",
      "[I 2025-07-29 21:31:39,744] Trial 2 finished with value: 0.3533018171074015 and parameters: {'n_estimators': 200, 'max_depth': 5, 'learning_rate': 0.2743396987416097}. Best is trial 1 with value: 0.3645017727877088.\n",
      "[I 2025-07-29 21:31:41,011] Trial 3 finished with value: 0.3806655340522972 and parameters: {'n_estimators': 140, 'max_depth': 3, 'learning_rate': 0.016809674773986334}. Best is trial 3 with value: 0.3806655340522972.\n",
      "[I 2025-07-29 21:31:44,786] Trial 4 finished with value: 0.3679531688580292 and parameters: {'n_estimators': 300, 'max_depth': 6, 'learning_rate': 0.060820970046734875}. Best is trial 3 with value: 0.3806655340522972.\n",
      "[I 2025-07-29 21:31:50,008] Trial 5 finished with value: 0.3021568917122174 and parameters: {'n_estimators': 280, 'max_depth': 8, 'learning_rate': 0.10535002678274277}. Best is trial 3 with value: 0.3806655340522972.\n",
      "[I 2025-07-29 21:31:53,471] Trial 6 finished with value: 0.3730222337125129 and parameters: {'n_estimators': 180, 'max_depth': 7, 'learning_rate': 0.03335500989821849}. Best is trial 3 with value: 0.3806655340522972.\n",
      "[I 2025-07-29 21:31:56,182] Trial 7 finished with value: 0.3861851824494017 and parameters: {'n_estimators': 280, 'max_depth': 4, 'learning_rate': 0.062191587927445016}. Best is trial 7 with value: 0.3861851824494017.\n",
      "[I 2025-07-29 21:32:00,639] Trial 8 finished with value: 0.31348426650908556 and parameters: {'n_estimators': 280, 'max_depth': 7, 'learning_rate': 0.14406800812115342}. Best is trial 7 with value: 0.3861851824494017.\n",
      "[I 2025-07-29 21:32:04,339] Trial 9 finished with value: 0.3121066627271384 and parameters: {'n_estimators': 180, 'max_depth': 8, 'learning_rate': 0.1333642771127713}. Best is trial 7 with value: 0.3861851824494017.\n",
      "[I 2025-07-29 21:32:06,392] Trial 10 finished with value: 0.38701248338011524 and parameters: {'n_estimators': 240, 'max_depth': 3, 'learning_rate': 0.033643401821238386}. Best is trial 10 with value: 0.38701248338011524.\n",
      "[I 2025-07-29 21:32:08,412] Trial 11 finished with value: 0.3874796868075048 and parameters: {'n_estimators': 240, 'max_depth': 3, 'learning_rate': 0.0346422034024611}. Best is trial 11 with value: 0.3874796868075048.\n",
      "[I 2025-07-29 21:32:10,410] Trial 12 finished with value: 0.3864769537597873 and parameters: {'n_estimators': 240, 'max_depth': 3, 'learning_rate': 0.027888472984624886}. Best is trial 11 with value: 0.3874796868075048.\n",
      "[I 2025-07-29 21:32:13,218] Trial 13 finished with value: 0.3851141232087457 and parameters: {'n_estimators': 240, 'max_depth': 5, 'learning_rate': 0.030164796386697137}. Best is trial 11 with value: 0.3874796868075048.\n",
      "[I 2025-07-29 21:32:15,512] Trial 14 finished with value: 0.38831252769980795 and parameters: {'n_estimators': 240, 'max_depth': 4, 'learning_rate': 0.040958312489590074}. Best is trial 14 with value: 0.38831252769980795.\n",
      "[I 2025-07-29 21:32:17,694] Trial 15 finished with value: 0.3845268872802482 and parameters: {'n_estimators': 220, 'max_depth': 4, 'learning_rate': 0.019241532627718536}. Best is trial 14 with value: 0.38831252769980795.\n",
      "[I 2025-07-29 21:32:20,271] Trial 16 finished with value: 0.38388240508199145 and parameters: {'n_estimators': 220, 'max_depth': 5, 'learning_rate': 0.04620424506782978}. Best is trial 14 with value: 0.38831252769980795.\n",
      "[I 2025-07-29 21:32:22,603] Trial 17 finished with value: 0.38459706012704975 and parameters: {'n_estimators': 260, 'max_depth': 4, 'learning_rate': 0.0846706113693956}. Best is trial 14 with value: 0.38831252769980795.\n",
      "[I 2025-07-29 21:32:25,557] Trial 18 finished with value: 0.3821206972964987 and parameters: {'n_estimators': 200, 'max_depth': 6, 'learning_rate': 0.020947393770794794}. Best is trial 14 with value: 0.38831252769980795.\n",
      "[I 2025-07-29 21:32:28,141] Trial 19 finished with value: 0.38668008568473927 and parameters: {'n_estimators': 260, 'max_depth': 4, 'learning_rate': 0.053617285922907966}. Best is trial 14 with value: 0.38831252769980795.\n"
     ]
    },
    {
     "name": "stdout",
     "output_type": "stream",
     "text": [
      "最佳参数组合: {'n_estimators': 240, 'max_depth': 4, 'learning_rate': 0.040958312489590074}\n",
      "对应平均准确率: 0.3883\n"
     ]
    }
   ],
   "source": [
    "import optuna\n",
    "from sklearn.model_selection import StratifiedKFold\n",
    "from sklearn.preprocessing import MinMaxScaler\n",
    "from sklearn.metrics import accuracy_score\n",
    "import numpy as np\n",
    "import xgboost as xgb\n",
    "\n",
    "\n",
    "skf = StratifiedKFold(n_splits=5, shuffle=True, random_state=42)\n",
    "\n",
    "def objective(trial):\n",
    "    \n",
    "    n_estimators = trial.suggest_int('n_estimators', 100, 300, step=20)\n",
    "    max_depth = trial.suggest_int('max_depth', 3, 10)\n",
    "    learning_rate = trial.suggest_float('learning_rate', 0.01, 0.3, log=True)\n",
    "\n",
    "    scores = []\n",
    "    F1=[]\n",
    "\n",
    "    for train_idx, val_idx in skf.split(X, y):\n",
    "        X_train, X_val = X.iloc[train_idx], X.iloc[val_idx]\n",
    "        y_train, y_val = y.iloc[train_idx], y.iloc[val_idx]\n",
    "\n",
    "        #\n",
    "        # scaler = MinMaxScaler()\n",
    "        # X_train_scaled = scaler.fit_transform(X_train)\n",
    "        # X_val_scaled = scaler.transform(X_val)\n",
    "\n",
    "        \n",
    "        model = xgb.XGBClassifier(\n",
    "            objective='binary:logistic',\n",
    "            eval_metric='logloss',\n",
    "            n_estimators=n_estimators,\n",
    "            max_depth=max_depth,\n",
    "            learning_rate=learning_rate,\n",
    "            n_jobs=-1,\n",
    "            random_state=42\n",
    "        )\n",
    "\n",
    "        model.fit(X_train, y_train)\n",
    "        y_pred = model.predict(X_val)\n",
    "\n",
    "        acc = accuracy_score(y_val, y_pred)\n",
    "        \n",
    "        F1c=f1_score(y_val, y_pred, average='macro') \n",
    "        F1.append(F1c)\n",
    "        \n",
    "\n",
    "        y_pred_train = model.predict(X_train)\n",
    "        acc_train = accuracy_score(y_train, y_pred_train)\n",
    "        f1_train = f1_score(y_train, y_pred_train, average='macro')\n",
    "        \n",
    "\n",
    "        overfit_penalty = abs(acc_train - acc)\n",
    "        score = 0.5 * acc - 1 * overfit_penalty\n",
    "        \n",
    "        \n",
    "        \n",
    "        scores.append(score)\n",
    "\n",
    "    return np.mean(scores)\n",
    "\n",
    "\n",
    "sampler = optuna.samplers.TPESampler(seed=42)\n",
    "study = optuna.create_study(direction='maximize',sampler=sampler)\n",
    "study.optimize(objective, n_trials=20)  \n",
    "\n",
    "\n",
    "print(\"best_params:\", study.best_params)\n",
    "print(f\"best_value: {study.best_value:.4f}\")"
   ]
  },
  {
   "cell_type": "code",
   "execution_count": null,
   "id": "fbaf3a8f",
   "metadata": {},
   "outputs": [],
   "source": [
    "cv = StratifiedKFold(n_splits=5, shuffle=True, random_state=42)\n",
    "\n",
    "scores = []\n",
    "\n",
    "for fold, (train_idx, val_idx) in enumerate(cv.split(X, y)):\n",
    "    \n",
    "    X_train, X_val = X.iloc[train_idx], X.iloc[val_idx]\n",
    "    y_train, y_val = y.iloc[train_idx], y.iloc[val_idx]\n",
    "\n",
    "   \n",
    "    scaler = MinMaxScaler()\n",
    "    X_train_scaled = scaler.fit_transform(X_train)\n",
    "    X_val_scaled = scaler.transform(X_val)\n",
    "\n",
    "  \n",
    "    model = xgb.XGBClassifier(\n",
    "        objective='binary:logistic',\n",
    "        max_depth=10,\n",
    "        learning_rate=0.1,\n",
    "        n_estimators=100,\n",
    "        eval_metric='logloss',\n",
    "        random_state=42\n",
    "    )\n",
    "\n",
    "    model.fit(X_train_scaled, y_train)\n",
    "\n",
    "\n",
    "    y_pred = model.predict(X_val_scaled)\n",
    "    acc = accuracy_score(y_val, y_pred)\n",
    "    print(f\"Fold {fold+1} Accuracy: {acc:.4f}\")\n",
    "    scores.append(acc)\n",
    "\n",
    "\n",
    "avg_acc = np.mean(scores)\n",
    "print(f\"\\navg_acc: {avg_acc:.4f}\")"
   ]
  },
  {
   "cell_type": "code",
   "execution_count": null,
   "id": "14f3346d",
   "metadata": {},
   "outputs": [
    {
     "name": "stdout",
     "output_type": "stream",
     "text": [
      "Train Accuracy: 0.7881, test Accuracy: 0.7945\n",
      "测试集 Accuracy:  0.7945\n",
      "测试集 Precision: 0.8036\n",
      "测试集 Recall:    0.7945\n",
      "测试集 F1 Score:  0.7930\n",
      "\n",
      "测试集分类报告:\n",
      "              precision    recall  f1-score   support\n",
      "\n",
      "           0       0.86      0.71      0.78      1000\n",
      "           1       0.75      0.88      0.81      1000\n",
      "\n",
      "    accuracy                           0.79      2000\n",
      "   macro avg       0.80      0.79      0.79      2000\n",
      "weighted avg       0.80      0.79      0.79      2000\n",
      "\n"
     ]
    }
   ],
   "source": [
    "model = xgb.XGBClassifier(\n",
    "        objective='binary:logistic',\n",
    "        max_depth=4,\n",
    "        learning_rate=0.040958312489590074,\n",
    "        n_estimators=240,\n",
    "        eval_metric='logloss',\n",
    "        random_state=42\n",
    "    )\n",
    "model.fit(X, y)  \n",
    "\n",
    "y_test_pred = model.predict(X_test)\n",
    "\n",
    "acc_test = accuracy_score(y_test, y_test_pred)\n",
    "precision_test = precision_score(y_test, y_test_pred, average='macro')\n",
    "recall_test = recall_score(y_test, y_test_pred, average='macro')\n",
    "f1_test = f1_score(y_test, y_test_pred, average='macro')\n",
    "\n",
    "train_pred = model.predict(X)  # 用整个训练集来预测\n",
    "train_acc = accuracy_score(y, train_pred)\n",
    "print(f\"Train Accuracy: {train_acc:.4f}, test Accuracy: {acc_test:.4f}\")\n",
    "\n",
    "print(f\"testAccuracy:  {acc_test:.4f}\")\n",
    "print(f\"test Precision: {precision_test:.4f}\")\n",
    "print(f\"test Recall:    {recall_test:.4f}\")\n",
    "print(f\"test F1 Score:  {f1_test:.4f}\")\n",
    "print(\"\\ntest report\")\n",
    "print(classification_report(y_test, y_test_pred, digits=2))"
   ]
  }
 ],
 "metadata": {
  "kernelspec": {
   "display_name": "base",
   "language": "python",
   "name": "python3"
  },
  "language_info": {
   "codemirror_mode": {
    "name": "ipython",
    "version": 3
   },
   "file_extension": ".py",
   "mimetype": "text/x-python",
   "name": "python",
   "nbconvert_exporter": "python",
   "pygments_lexer": "ipython3",
   "version": "3.12.7"
  }
 },
 "nbformat": 4,
 "nbformat_minor": 5
}
