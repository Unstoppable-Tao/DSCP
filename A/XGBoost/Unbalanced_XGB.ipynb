{
 "cells": [
  {
   "cell_type": "code",
   "execution_count": 1,
   "id": "45a61f36",
   "metadata": {},
   "outputs": [],
   "source": [
    "import xgboost as xgb\n",
    "from sklearn.model_selection import train_test_split\n",
    "from sklearn.metrics import accuracy_score, classification_report\n",
    "import numpy as np \n",
    "import pandas as pd\n",
    "from sklearn.model_selection import cross_val_score, StratifiedKFold\n",
    "from sklearn.preprocessing import MinMaxScaler\n",
    "import optuna\n",
    "from sklearn.metrics import accuracy_score, precision_score, recall_score, f1_score"
   ]
  },
  {
   "cell_type": "code",
   "execution_count": 2,
   "id": "03bcc48a",
   "metadata": {},
   "outputs": [],
   "source": [
    "train=pd.read_csv('../Unbalanced_Dataset.csv',index_col=0)\n",
    "test_set=pd.read_csv('../testset.csv',index_col=0)\n",
    "\n",
    "train_copy=train.drop('id',axis=1)\n",
    "X = train_copy.drop('smoking', axis=1)\n",
    "y = train_copy['smoking']\n",
    "\n",
    "test_set=test_set.drop('id',axis=1)\n",
    "X_test= test_set.drop('smoking', axis=1)\n",
    "y_test = test_set['smoking']"
   ]
  },
  {
   "cell_type": "code",
   "execution_count": 3,
   "id": "f6650726",
   "metadata": {},
   "outputs": [
    {
     "name": "stderr",
     "output_type": "stream",
     "text": [
      "[I 2025-08-14 11:07:37,966] A new study created in memory with name: no-name-b51908c1-6d79-4b65-ade1-f46b6a900f7f\n",
      "[I 2025-08-14 11:07:39,262] Trial 0 finished with value: 0.263 and parameters: {'n_estimators': 180, 'max_depth': 10, 'learning_rate': 0.1205712628744377}. Best is trial 0 with value: 0.263.\n",
      "[I 2025-08-14 11:07:39,769] Trial 1 finished with value: 0.3746916666666667 and parameters: {'n_estimators': 220, 'max_depth': 4, 'learning_rate': 0.01699897838270077}. Best is trial 1 with value: 0.3746916666666667.\n",
      "[I 2025-08-14 11:07:40,490] Trial 2 finished with value: 0.28865833333333335 and parameters: {'n_estimators': 100, 'max_depth': 9, 'learning_rate': 0.07725378389307355}. Best is trial 1 with value: 0.3746916666666667.\n",
      "[I 2025-08-14 11:07:40,888] Trial 3 finished with value: 0.33958333333333335 and parameters: {'n_estimators': 240, 'max_depth': 3, 'learning_rate': 0.27081608642499677}. Best is trial 1 with value: 0.3746916666666667.\n",
      "[I 2025-08-14 11:07:41,507] Trial 4 finished with value: 0.3721583333333333 and parameters: {'n_estimators': 280, 'max_depth': 4, 'learning_rate': 0.01855998084649058}. Best is trial 1 with value: 0.3746916666666667.\n",
      "[I 2025-08-14 11:07:41,912] Trial 5 finished with value: 0.35630833333333334 and parameters: {'n_estimators': 140, 'max_depth': 5, 'learning_rate': 0.05958389350068958}. Best is trial 1 with value: 0.3746916666666667.\n",
      "[I 2025-08-14 11:07:42,398] Trial 6 finished with value: 0.34356666666666663 and parameters: {'n_estimators': 180, 'max_depth': 5, 'learning_rate': 0.08012737503998542}. Best is trial 1 with value: 0.3746916666666667.\n",
      "[I 2025-08-14 11:07:42,778] Trial 7 finished with value: 0.3659 and parameters: {'n_estimators': 120, 'max_depth': 5, 'learning_rate': 0.03476649150592621}. Best is trial 1 with value: 0.3746916666666667.\n",
      "[I 2025-08-14 11:07:44,244] Trial 8 finished with value: 0.30856666666666666 and parameters: {'n_estimators': 200, 'max_depth': 9, 'learning_rate': 0.019721610970574007}. Best is trial 1 with value: 0.3746916666666667.\n",
      "[I 2025-08-14 11:07:45,226] Trial 9 finished with value: 0.35067499999999996 and parameters: {'n_estimators': 200, 'max_depth': 7, 'learning_rate': 0.011711509955524094}. Best is trial 1 with value: 0.3746916666666667.\n",
      "[I 2025-08-14 11:07:46,603] Trial 10 finished with value: 0.3465250000000001 and parameters: {'n_estimators': 300, 'max_depth': 7, 'learning_rate': 0.010260022325256584}. Best is trial 1 with value: 0.3746916666666667.\n",
      "[I 2025-08-14 11:07:47,079] Trial 11 finished with value: 0.3774333333333334 and parameters: {'n_estimators': 260, 'max_depth': 3, 'learning_rate': 0.027392726725380814}. Best is trial 11 with value: 0.3774333333333334.\n",
      "[I 2025-08-14 11:07:47,554] Trial 12 finished with value: 0.3756416666666667 and parameters: {'n_estimators': 260, 'max_depth': 3, 'learning_rate': 0.031227201869348846}. Best is trial 11 with value: 0.3774333333333334.\n",
      "[I 2025-08-14 11:07:48,004] Trial 13 finished with value: 0.3750916666666667 and parameters: {'n_estimators': 260, 'max_depth': 3, 'learning_rate': 0.034235270095095874}. Best is trial 11 with value: 0.3774333333333334.\n",
      "[I 2025-08-14 11:07:48,458] Trial 14 finished with value: 0.375575 and parameters: {'n_estimators': 260, 'max_depth': 3, 'learning_rate': 0.032982534684896515}. Best is trial 11 with value: 0.3774333333333334.\n",
      "[I 2025-08-14 11:07:49,489] Trial 15 finished with value: 0.3430916666666667 and parameters: {'n_estimators': 300, 'max_depth': 6, 'learning_rate': 0.026399645601938707}. Best is trial 11 with value: 0.3774333333333334.\n",
      "[I 2025-08-14 11:07:50,008] Trial 16 finished with value: 0.36465 and parameters: {'n_estimators': 240, 'max_depth': 4, 'learning_rate': 0.04973472532852144}. Best is trial 11 with value: 0.3774333333333334.\n",
      "[I 2025-08-14 11:07:50,852] Trial 17 finished with value: 0.2772833333333333 and parameters: {'n_estimators': 260, 'max_depth': 6, 'learning_rate': 0.14660654354754474}. Best is trial 11 with value: 0.3774333333333334.\n",
      "[I 2025-08-14 11:07:51,332] Trial 18 finished with value: 0.37324999999999997 and parameters: {'n_estimators': 280, 'max_depth': 3, 'learning_rate': 0.04547130677436449}. Best is trial 11 with value: 0.3774333333333334.\n",
      "[I 2025-08-14 11:07:52,601] Trial 19 finished with value: 0.3211166666666667 and parameters: {'n_estimators': 220, 'max_depth': 8, 'learning_rate': 0.023903778496601528}. Best is trial 11 with value: 0.3774333333333334.\n"
     ]
    },
    {
     "name": "stdout",
     "output_type": "stream",
     "text": [
      "best_params: {'n_estimators': 260, 'max_depth': 3, 'learning_rate': 0.027392726725380814}\n",
      "best_value: 0.3774\n"
     ]
    }
   ],
   "source": [
    "import optuna\n",
    "from sklearn.model_selection import StratifiedKFold\n",
    "from sklearn.preprocessing import MinMaxScaler\n",
    "from sklearn.metrics import accuracy_score\n",
    "import numpy as np\n",
    "import xgboost as xgb\n",
    "\n",
    "\n",
    "skf = StratifiedKFold(n_splits=5, shuffle=True, random_state=42)\n",
    "\n",
    "def objective(trial):\n",
    "    \n",
    "    n_estimators = trial.suggest_int('n_estimators', 100, 300, step=20)\n",
    "    max_depth = trial.suggest_int('max_depth', 3, 10)\n",
    "    learning_rate = trial.suggest_float('learning_rate', 0.01, 0.3, log=True)\n",
    "\n",
    "    scores = []\n",
    "    F1=[]\n",
    "\n",
    "    for train_idx, val_idx in skf.split(X, y):\n",
    "        X_train, X_val = X.iloc[train_idx], X.iloc[val_idx]\n",
    "        y_train, y_val = y.iloc[train_idx], y.iloc[val_idx]\n",
    "\n",
    "        \n",
    "        # scaler = MinMaxScaler()\n",
    "        # X_train_scaled = scaler.fit_transform(X_train)\n",
    "        # X_val_scaled = scaler.transform(X_val)\n",
    "\n",
    "        \n",
    "        model = xgb.XGBClassifier(\n",
    "            objective='binary:logistic',\n",
    "            eval_metric='logloss',\n",
    "            n_estimators=n_estimators,\n",
    "            max_depth=max_depth,\n",
    "            learning_rate=learning_rate,\n",
    "            n_jobs=-1,\n",
    "            random_state=42\n",
    "        )\n",
    "\n",
    "        model.fit(X_train, y_train)\n",
    "        y_pred = model.predict(X_val)\n",
    "\n",
    "        acc = accuracy_score(y_val, y_pred)\n",
    "        \n",
    "        F1c=f1_score(y_val, y_pred, average='macro') \n",
    "        F1.append(F1c)\n",
    "        \n",
    "\n",
    "        y_pred_train = model.predict(X_train)\n",
    "        acc_train = accuracy_score(y_train, y_pred_train)\n",
    "        f1_train = f1_score(y_train, y_pred_train, average='macro')\n",
    "        \n",
    "\n",
    "        overfit_penalty = abs(acc_train - acc)\n",
    "        score = 0.5 * acc - 0.5 * overfit_penalty\n",
    "        \n",
    "        \n",
    "        \n",
    "        scores.append(score)\n",
    "\n",
    "    return np.mean(scores)\n",
    "\n",
    "\n",
    "sampler = optuna.samplers.TPESampler(seed=42)\n",
    "study = optuna.create_study(direction='maximize',sampler=sampler)\n",
    "study.optimize(objective, n_trials=20)  \n",
    "\n",
    "\n",
    "print(\"best_params:\", study.best_params)\n",
    "print(f\"best_value: {study.best_value:.4f}\")"
   ]
  },
  {
   "cell_type": "code",
   "execution_count": 4,
   "id": "d2775a48",
   "metadata": {},
   "outputs": [
    {
     "name": "stdout",
     "output_type": "stream",
     "text": [
      "Train Accuracy: 0.7793, test Accuracy: 0.7595\n",
      "Test set Accuracy:  0.7595\n",
      "Test set Precision: 0.7662\n",
      "Test set Recall:    0.7595\n",
      "Test set F1 Score:  0.7580\n",
      "\n",
      "Test set classification_report:\n",
      "              precision    recall  f1-score   support\n",
      "\n",
      "           0     0.7239    0.8390    0.7772      1000\n",
      "           1     0.8086    0.6800    0.7387      1000\n",
      "\n",
      "    accuracy                         0.7595      2000\n",
      "   macro avg     0.7662    0.7595    0.7580      2000\n",
      "weighted avg     0.7662    0.7595    0.7580      2000\n",
      "\n"
     ]
    }
   ],
   "source": [
    "model = xgb.XGBClassifier(\n",
    "        objective='binary:logistic',\n",
    "        max_depth=3,\n",
    "        learning_rate=0.027392726725380814,\n",
    "        n_estimators=260,\n",
    "        eval_metric='logloss',\n",
    "        random_state=42\n",
    "    )\n",
    "model.fit(X, y)  \n",
    "\n",
    "y_test_pred = model.predict(X_test)\n",
    "\n",
    "acc_test = accuracy_score(y_test, y_test_pred)\n",
    "precision_test = precision_score(y_test, y_test_pred, average='macro')\n",
    "recall_test = recall_score(y_test, y_test_pred, average='macro')\n",
    "f1_test = f1_score(y_test, y_test_pred, average='macro')\n",
    "\n",
    "train_pred = model.predict(X)  \n",
    "train_acc = accuracy_score(y, train_pred)\n",
    "print(f\"Train Accuracy: {train_acc:.4f}, test Accuracy: {acc_test:.4f}\")\n",
    "\n",
    "print(f\"Test set Accuracy:  {acc_test:.4f}\")\n",
    "print(f\"Test set Precision: {precision_test:.4f}\")\n",
    "print(f\"Test set Recall:    {recall_test:.4f}\")\n",
    "print(f\"Test set F1 Score:  {f1_test:.4f}\")\n",
    "print(\"\\nTest set classification_report:\")\n",
    "print(classification_report(y_test, y_test_pred, digits=4))"
   ]
  },
  {
   "cell_type": "code",
   "execution_count": 5,
   "id": "ca09f250",
   "metadata": {},
   "outputs": [],
   "source": [
    "y_score_xgb = model.predict_proba(X_test)[:, 1]\n",
    "df_scores = pd.read_csv(\"../roc_scores_rf.csv\")\n",
    "\n",
    "\n",
    "df_scores[\"xgb\"] = y_score_xgb\n",
    "\n",
    "\n",
    "df_scores.to_csv(\"../roc_scores_rf.csv\", index=False)\n",
    "\n"
   ]
  },
  {
   "cell_type": "code",
   "execution_count": 6,
   "id": "e839d722",
   "metadata": {},
   "outputs": [
    {
     "data": {
      "text/plain": [
       "['XGB_model.pkl']"
      ]
     },
     "execution_count": 6,
     "metadata": {},
     "output_type": "execute_result"
    }
   ],
   "source": [
    "import joblib\n",
    "joblib.dump(model, \"XGB_model.pkl\")"
   ]
  },
  {
   "cell_type": "code",
   "execution_count": 7,
   "id": "d9d185e0",
   "metadata": {},
   "outputs": [
    {
     "name": "stdout",
     "output_type": "stream",
     "text": [
      "Fold 1 train Accuracy: 0.7826\n",
      "Fold 1 Accuracy: 0.7593\n",
      "Fold 2 train Accuracy: 0.7805\n",
      "Fold 2 Accuracy: 0.7700\n",
      "Fold 3 train Accuracy: 0.7806\n",
      "Fold 3 Accuracy: 0.7607\n",
      "Fold 4 train Accuracy: 0.7807\n",
      "Fold 4 Accuracy: 0.7710\n",
      "Fold 5 train Accuracy: 0.7820\n",
      "Fold 5 Accuracy: 0.7793\n",
      "\n",
      " avg_acc: 0.7681\n"
     ]
    }
   ],
   "source": [
    "cv = StratifiedKFold(n_splits=5, shuffle=True, random_state=42)\n",
    "\n",
    "scores = []\n",
    "\n",
    "for fold, (train_idx, val_idx) in enumerate(cv.split(X, y)):\n",
    "   \n",
    "    X_train, X_val = X.iloc[train_idx], X.iloc[val_idx]\n",
    "    y_train, y_val = y.iloc[train_idx], y.iloc[val_idx]\n",
    "\n",
    "    \n",
    "    # scaler = MinMaxScaler()\n",
    "    # X_train_scaled = scaler.fit_transform(X_train)\n",
    "    # X_val_scaled = scaler.transform(X_val)\n",
    "\n",
    "    \n",
    "    model = xgb.XGBClassifier(\n",
    "        objective='binary:logistic',\n",
    "        max_depth=3,\n",
    "        learning_rate=0.027392726725380814,\n",
    "        n_estimators=260,\n",
    "        eval_metric='logloss',\n",
    "        random_state=42\n",
    "    )\n",
    "\n",
    "    \n",
    "    model.fit(X_train, y_train)\n",
    "\n",
    "    y_train_pred=model.predict(X_train)\n",
    "    y_train_acc=accuracy_score(y_train, y_train_pred)\n",
    "\n",
    "\n",
    "\n",
    "    y_pred = model.predict(X_val)\n",
    "    acc = accuracy_score(y_val, y_pred)\n",
    "    print(f\"Fold {fold+1} train Accuracy: {y_train_acc:.4f}\")\n",
    "    print(f\"Fold {fold+1} Accuracy: {acc:.4f}\")\n",
    "\n",
    "    \n",
    "    scores.append(acc)\n",
    "\n",
    "\n",
    "avg_acc = np.mean(scores)\n",
    "print(f\"\\n avg_acc: {avg_acc:.4f}\")"
   ]
  }
 ],
 "metadata": {
  "kernelspec": {
   "display_name": "base",
   "language": "python",
   "name": "python3"
  },
  "language_info": {
   "codemirror_mode": {
    "name": "ipython",
    "version": 3
   },
   "file_extension": ".py",
   "mimetype": "text/x-python",
   "name": "python",
   "nbconvert_exporter": "python",
   "pygments_lexer": "ipython3",
   "version": "3.12.7"
  }
 },
 "nbformat": 4,
 "nbformat_minor": 5
}
