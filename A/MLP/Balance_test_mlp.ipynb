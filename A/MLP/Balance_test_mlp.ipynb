{
 "cells": [
  {
   "cell_type": "code",
   "execution_count": 1,
   "id": "48bd1cb7",
   "metadata": {},
   "outputs": [],
   "source": [
    "import pandas as pd\n",
    "import torch\n",
    "import torch.nn as nn\n",
    "import torch.optim as optim\n",
    "from sklearn.model_selection import train_test_split\n",
    "from sklearn.preprocessing import StandardScaler\n",
    "from sklearn.metrics import accuracy_score\n",
    "from sklearn.metrics import accuracy_score, precision_score, recall_score, f1_score, classification_report\n",
    "import optuna\n",
    "from sklearn.model_selection import StratifiedKFold\n",
    "import random\n",
    "import numpy as np\n",
    "from sklearn.utils import resample\n",
    "import matplotlib.pyplot as plt\n"
   ]
  },
  {
   "cell_type": "code",
   "execution_count": 2,
   "id": "22742963",
   "metadata": {},
   "outputs": [],
   "source": [
    "train=pd.read_csv('../balanced_cleaned_trian_dataset.csv',index_col=0)\n",
    "test_set=pd.read_csv('../testset.csv',index_col=0)"
   ]
  },
  {
   "cell_type": "code",
   "execution_count": 3,
   "id": "58aa931c",
   "metadata": {},
   "outputs": [
    {
     "data": {
      "image/png": "[encoded data removed]",
      "text/plain": [
       "<Figure size 700x700 with 1 Axes>"
      ]
     },
     "metadata": {},
     "output_type": "display_data"
    }
   ],
   "source": [
    "df_0 = train[train['smoking'] == 0]\n",
    "df_1 = train[train['smoking'] == 1]\n",
    "n_0 = len(df_0)\n",
    "n_1 = int(n_0 *0.3)\n",
    "\n",
    "df_1_resampled = resample(df_1, replace=False, n_samples=n_1, random_state=42)\n",
    "\n",
    "train_resampled = pd.concat([df_1_resampled, df_0]).sample(frac=1, random_state=42).reset_index(drop=True)\n",
    "\n",
    "fig, axes = plt.subplots(figsize=(7, 7))\n",
    "train_resampled['smoking'].value_counts().plot.pie(autopct='%1.1f%%')\n",
    "axes.set_title('smoking')\n",
    "plt.show()\n"
   ]
  },
  {
   "cell_type": "code",
   "execution_count": 4,
   "id": "ab4d324f",
   "metadata": {},
   "outputs": [
    {
     "data": {
      "text/plain": [
       "smoking\n",
       "0    10000\n",
       "1     3000\n",
       "Name: count, dtype: int64"
      ]
     },
     "execution_count": 4,
     "metadata": {},
     "output_type": "execute_result"
    }
   ],
   "source": [
    "train_resampled['smoking'].value_counts()"
   ]
  },
  {
   "cell_type": "code",
   "execution_count": 5,
   "id": "baabf2ac",
   "metadata": {},
   "outputs": [],
   "source": [
    "train_copy=train_resampled.drop('id',axis=1)\n",
    "X = train_copy.drop('smoking', axis=1)\n",
    "y = train_copy['smoking']\n",
    "\n",
    "test_set=test_set.drop('id',axis=1)\n",
    "X_test_new= test_set.drop('smoking', axis=1)\n",
    "y_test_new = test_set['smoking']"
   ]
  },
  {
   "cell_type": "code",
   "execution_count": null,
   "id": "d6b211f1",
   "metadata": {},
   "outputs": [],
   "source": [
    "def set_seed(seed=42):\n",
    "    random.seed(seed)\n",
    "    np.random.seed(seed)\n",
    "    torch.manual_seed(seed)\n",
    "    torch.cuda.manual_seed_all(seed)  \n",
    "    torch.backends.cudnn.deterministic = True\n",
    "    torch.backends.cudnn.benchmark = False\n"
   ]
  },
  {
   "cell_type": "code",
   "execution_count": null,
   "id": "1706d826",
   "metadata": {},
   "outputs": [
    {
     "name": "stderr",
     "output_type": "stream",
     "text": [
      "[I 2025-08-01 14:31:40,136] A new study created in memory with name: no-name-2e44c42b-0605-4dce-8185-a0f97803e15a\n",
      "[I 2025-08-01 14:31:41,122] Trial 0 finished with value: 0.36242307692307685 and parameters: {'hidden1': 54, 'hidden2': 62, 'lr': 0.0029106359131330704, 'epochs': 44}. Best is trial 0 with value: 0.36242307692307685.\n",
      "[I 2025-08-01 14:31:41,484] Trial 1 finished with value: 0.14853846153846156 and parameters: {'hidden1': 28, 'hidden2': 18, 'lr': 0.00013066739238053285, 'epochs': 55}. Best is trial 0 with value: 0.36242307692307685.\n",
      "[I 2025-08-01 14:31:42,356] Trial 2 finished with value: 0.38461538461538464 and parameters: {'hidden1': 81, 'hidden2': 48, 'lr': 0.00010994335574766199, 'epochs': 59}. Best is trial 2 with value: 0.38461538461538464.\n",
      "[I 2025-08-01 14:31:42,809] Trial 3 finished with value: 0.38461538461538464 and parameters: {'hidden1': 109, 'hidden2': 21, 'lr': 0.0002310201887845295, 'epochs': 27}. Best is trial 2 with value: 0.38461538461538464.\n",
      "[I 2025-08-01 14:31:43,142] Trial 4 finished with value: 0.38461538461538464 and parameters: {'hidden1': 46, 'hidden2': 38, 'lr': 0.0007309539835912913, 'epochs': 31}. Best is trial 2 with value: 0.38461538461538464.\n",
      "[I 2025-08-01 14:31:43,589] Trial 5 finished with value: 0.38461538461538464 and parameters: {'hidden1': 82, 'hidden2': 17, 'lr': 0.0003839629299804173, 'epochs': 35}. Best is trial 2 with value: 0.38461538461538464.\n",
      "[I 2025-08-01 14:31:44,106] Trial 6 finished with value: 0.38461538461538464 and parameters: {'hidden1': 64, 'hidden2': 53, 'lr': 0.00025081156860452336, 'epochs': 41}. Best is trial 2 with value: 0.38461538461538464.\n",
      "[I 2025-08-01 14:31:44,385] Trial 7 finished with value: 0.36740384615384614 and parameters: {'hidden1': 80, 'hidden2': 12, 'lr': 0.0016409286730647919, 'epochs': 26}. Best is trial 2 with value: 0.38461538461538464.\n",
      "[I 2025-08-01 14:31:44,909] Trial 8 finished with value: 0.3524999999999999 and parameters: {'hidden1': 17, 'hidden2': 62, 'lr': 0.00853618986286683, 'epochs': 53}. Best is trial 2 with value: 0.38461538461538464.\n",
      "[I 2025-08-01 14:31:45,211] Trial 9 finished with value: 0.380596153846154 and parameters: {'hidden1': 46, 'hidden2': 15, 'lr': 0.0023359635026261607, 'epochs': 38}. Best is trial 2 with value: 0.38461538461538464.\n",
      "[I 2025-08-01 14:31:46,287] Trial 10 finished with value: 0.38461538461538464 and parameters: {'hidden1': 123, 'hidden2': 40, 'lr': 0.00010353677627159794, 'epochs': 59}. Best is trial 2 with value: 0.38461538461538464.\n",
      "[I 2025-08-01 14:31:46,680] Trial 11 finished with value: 0.38461538461538464 and parameters: {'hidden1': 108, 'hidden2': 28, 'lr': 0.00026467321575370407, 'epochs': 21}. Best is trial 2 with value: 0.38461538461538464.\n",
      "[I 2025-08-01 14:31:47,563] Trial 12 finished with value: 0.3745961538461538 and parameters: {'hidden1': 98, 'hidden2': 49, 'lr': 0.0005116648629078316, 'epochs': 48}. Best is trial 2 with value: 0.38461538461538464.\n",
      "[I 2025-08-01 14:31:47,917] Trial 13 finished with value: 0.27273076923076933 and parameters: {'hidden1': 99, 'hidden2': 28, 'lr': 0.00017296520119558696, 'epochs': 20}. Best is trial 2 with value: 0.38461538461538464.\n",
      "[I 2025-08-01 14:31:48,488] Trial 14 finished with value: 0.3440576923076923 and parameters: {'hidden1': 127, 'hidden2': 28, 'lr': 0.00010202470951315249, 'epochs': 28}. Best is trial 2 with value: 0.38461538461538464.\n",
      "[I 2025-08-01 14:31:49,254] Trial 15 finished with value: 0.38461538461538464 and parameters: {'hidden1': 82, 'hidden2': 47, 'lr': 0.00023086274529801932, 'epochs': 47}. Best is trial 2 with value: 0.38461538461538464.\n",
      "[I 2025-08-01 14:31:49,855] Trial 16 finished with value: 0.37417307692307694 and parameters: {'hidden1': 110, 'hidden2': 33, 'lr': 0.001081440662876616, 'epochs': 34}. Best is trial 2 with value: 0.38461538461538464.\n",
      "[I 2025-08-01 14:31:50,292] Trial 17 finished with value: 0.38461538461538464 and parameters: {'hidden1': 93, 'hidden2': 22, 'lr': 0.0004353368857801593, 'epochs': 25}. Best is trial 2 with value: 0.38461538461538464.\n",
      "[I 2025-08-01 14:31:51,114] Trial 18 finished with value: 0.38461538461538464 and parameters: {'hidden1': 69, 'hidden2': 45, 'lr': 0.00017981956157090437, 'epochs': 59}. Best is trial 2 with value: 0.38461538461538464.\n",
      "[I 2025-08-01 14:31:52,172] Trial 19 finished with value: 0.33857692307692316 and parameters: {'hidden1': 115, 'hidden2': 55, 'lr': 0.005355582300698825, 'epochs': 51}. Best is trial 2 with value: 0.38461538461538464.\n"
     ]
    },
    {
     "name": "stdout",
     "output_type": "stream",
     "text": [
      "最佳参数: {'hidden1': 81, 'hidden2': 48, 'lr': 0.00010994335574766199, 'epochs': 59}\n"
     ]
    }
   ],
   "source": [
    "skf = StratifiedKFold(n_splits=5, shuffle=True, random_state=42)\n",
    "\n",
    "def objective(trial):\n",
    "    hidden1 = trial.suggest_int('hidden1', 10, 128)\n",
    "    hidden2 = trial.suggest_int('hidden2', 10, 64)\n",
    "    lr = trial.suggest_float('lr', 1e-4, 1e-2, log=True)\n",
    "    epochs = trial.suggest_int('epochs', 20, 60)\n",
    "\n",
    "    scores = []\n",
    "\n",
    "    for train_idx, val_idx in skf.split(X, y):\n",
    "        \n",
    "        X_train_fold, X_val_fold = X.iloc[train_idx], X.iloc[val_idx]\n",
    "        y_train_fold, y_val_fold = y.iloc[train_idx], y.iloc[val_idx]\n",
    "\n",
    "        \n",
    "        scaler = StandardScaler()\n",
    "        X_train_scaled = scaler.fit_transform(X_train_fold)\n",
    "        X_val_scaled = scaler.transform(X_val_fold)\n",
    "\n",
    "        \n",
    "        X_train_tensor = torch.tensor(X_train_scaled, dtype=torch.float32)\n",
    "        X_val_tensor = torch.tensor(X_val_scaled, dtype=torch.float32)\n",
    "        y_train_tensor = torch.tensor(y_train_fold.values, dtype=torch.float32).view(-1, 1)\n",
    "        y_val_tensor = torch.tensor(y_val_fold.values, dtype=torch.float32).view(-1, 1)\n",
    "\n",
    "       \n",
    "        class MLP(nn.Module):\n",
    "            def __init__(self, input_dim):\n",
    "                super().__init__()\n",
    "                self.model = nn.Sequential(\n",
    "                    nn.Linear(input_dim, hidden1),\n",
    "                    nn.ReLU(),\n",
    "                    nn.Linear(hidden1, hidden2),\n",
    "                    nn.ReLU(),\n",
    "                    nn.Linear(hidden2, 1),\n",
    "                    nn.Sigmoid()\n",
    "                )\n",
    "            def forward(self, x):\n",
    "                return self.model(x)\n",
    "        set_seed(42)\n",
    "        model = MLP(X_train_tensor.shape[1])\n",
    "        criterion = nn.BCELoss()\n",
    "        optimizer = optim.Adam(model.parameters(), lr=lr)\n",
    "\n",
    "        \n",
    "        for epoch in range(epochs):\n",
    "            model.train()\n",
    "            optimizer.zero_grad()\n",
    "            outputs = model(X_train_tensor)\n",
    "            loss = criterion(outputs, y_train_tensor)\n",
    "            loss.backward()\n",
    "            optimizer.step()\n",
    "\n",
    "        \n",
    "        model.eval()\n",
    "        with torch.no_grad():\n",
    "            y_pred = model(X_val_tensor)\n",
    "            y_pred_labels = (y_pred > 0.5).float()\n",
    "            acc = accuracy_score(y_val_tensor, y_pred_labels)\n",
    "            \n",
    "\n",
    "\n",
    "            y_pred_train = model(X_train_tensor)\n",
    "            y_pred_train_labels = (y_pred_train > 0.5).float()\n",
    "            acc_train = accuracy_score(y_train_tensor, y_pred_train_labels)\n",
    "            overfit_penalty = abs(acc_train - acc)\n",
    "\n",
    "\n",
    "            score = 0.5 * acc - 5 * overfit_penalty\n",
    "            scores.append(score)\n",
    "\n",
    "            \n",
    "\n",
    "    return np.mean(scores)\n",
    "\n",
    "\n",
    "sampler = optuna.samplers.TPESampler(seed=42)\n",
    "study = optuna.create_study(direction=\"maximize\", sampler=sampler)\n",
    "study.optimize(objective, n_trials=20)\n",
    "\n",
    "print(\"best_params:\", study.best_params)\n"
   ]
  },
  {
   "cell_type": "code",
   "execution_count": null,
   "id": "3da9dea5",
   "metadata": {},
   "outputs": [
    {
     "name": "stdout",
     "output_type": "stream",
     "text": [
      "Epoch 0, Loss: 0.6602\n",
      "Epoch 10, Loss: 0.6483\n",
      "Epoch 20, Loss: 0.6370\n",
      "Epoch 30, Loss: 0.6261\n",
      "Epoch 40, Loss: 0.6156\n",
      "Epoch 50, Loss: 0.6054\n",
      "\n",
      "train Accuracy: 0.7692\n",
      "\n",
      "Test Accuracy:  0.5000\n"
     ]
    }
   ],
   "source": [
    "scaler = StandardScaler()\n",
    "X_scaled = scaler.fit_transform(X)\n",
    "X_test_new_scaler=scaler.transform(X_test_new)\n",
    "\n",
    "X_tensor = torch.tensor(X_scaled, dtype=torch.float32)\n",
    "y_tensor = torch.tensor(y.values, dtype=torch.float32).view(-1, 1)\n",
    "\n",
    "X_test_new_scaler_tensor=torch.tensor(X_test_new_scaler, dtype=torch.float32)\n",
    "y_test_new_tensor=torch.tensor(y_test_new.values, dtype=torch.float32).view(-1, 1)\n",
    "\n",
    "class MLP(nn.Module):\n",
    "    def __init__(self, input_dim):\n",
    "        super(MLP, self).__init__()\n",
    "        self.model = nn.Sequential(\n",
    "            nn.Linear(input_dim, 81),\n",
    "            nn.ReLU(),\n",
    "            nn.Linear(81, 48),\n",
    "            nn.ReLU(),\n",
    "            nn.Linear(48, 1),\n",
    "            nn.Sigmoid()\n",
    "        )\n",
    "        \n",
    "    def forward(self, x):\n",
    "        return self.model(x)\n",
    "set_seed(42)\n",
    "model = MLP(input_dim=X_tensor.shape[1])\n",
    "\n",
    "criterion = nn.BCELoss()\n",
    "optimizer = optim.Adam(model.parameters(), lr=0.00010994335574766199)\n",
    "\n",
    "\n",
    "epochs = 59\n",
    "for epoch in range(epochs):\n",
    "    model.train()\n",
    "    optimizer.zero_grad()\n",
    "    outputs = model(X_tensor)\n",
    "    loss = criterion(outputs, y_tensor)\n",
    "    loss.backward()\n",
    "    optimizer.step()\n",
    "    \n",
    "    if epoch % 10 == 0:\n",
    "        print(f\"Epoch {epoch}, Loss: {loss.item():.4f}\")\n",
    "\n",
    "model.eval()\n",
    "with torch.no_grad():\n",
    "\n",
    "    y_pred = model(X_test_new_scaler_tensor)\n",
    "    y_pred_labels = (y_pred > 0.5).float()\n",
    "\n",
    "    y_true = y_test_new_tensor.cpu().numpy()\n",
    "    y_pred_labels_np = y_pred_labels.cpu().numpy()\n",
    " \n",
    "    \n",
    "\n",
    "    y_pred_train=model(X_tensor)\n",
    "    y_pred_labels_train = (y_pred_train > 0.5).float()\n",
    "\n",
    "    y_pred_labels_train_np = y_pred_labels_train.cpu().numpy()\n",
    "\n",
    "    train_acc=accuracy_score(y, y_pred_labels_train)\n",
    "    print(f\"\\ntrain Accuracy: {train_acc:.4f}\")\n",
    "    \n",
    "\n",
    "    acc = accuracy_score(y_true, y_pred_labels_np)\n",
    "    print(f\"\\nTest Accuracy:  {acc:.4f}\")"
   ]
  },
  {
   "cell_type": "code",
   "execution_count": 9,
   "id": "7168d520",
   "metadata": {},
   "outputs": [
    {
     "name": "stdout",
     "output_type": "stream",
     "text": [
      "\n",
      "Test Accuracy:  0.5000\n",
      "Test Precision: 0.0000\n",
      "Test Recall:    0.0000\n",
      "Test F1 Score:  0.0000\n",
      "\n",
      "Classification Report:\n",
      "               precision    recall  f1-score   support\n",
      "\n",
      "         0.0     0.5000    1.0000    0.6667      1000\n",
      "         1.0     0.0000    0.0000    0.0000      1000\n",
      "\n",
      "    accuracy                         0.5000      2000\n",
      "   macro avg     0.2500    0.5000    0.3333      2000\n",
      "weighted avg     0.2500    0.5000    0.3333      2000\n",
      "\n",
      "\n",
      "train Accuracy: 0.7692\n"
     ]
    },
    {
     "name": "stderr",
     "output_type": "stream",
     "text": [
      "/opt/anaconda3/lib/python3.12/site-packages/sklearn/metrics/_classification.py:1531: UndefinedMetricWarning: Precision is ill-defined and being set to 0.0 due to no predicted samples. Use `zero_division` parameter to control this behavior.\n",
      "  _warn_prf(average, modifier, f\"{metric.capitalize()} is\", len(result))\n",
      "/opt/anaconda3/lib/python3.12/site-packages/sklearn/metrics/_classification.py:1531: UndefinedMetricWarning: Precision is ill-defined and being set to 0.0 in labels with no predicted samples. Use `zero_division` parameter to control this behavior.\n",
      "  _warn_prf(average, modifier, f\"{metric.capitalize()} is\", len(result))\n",
      "/opt/anaconda3/lib/python3.12/site-packages/sklearn/metrics/_classification.py:1531: UndefinedMetricWarning: Precision is ill-defined and being set to 0.0 in labels with no predicted samples. Use `zero_division` parameter to control this behavior.\n",
      "  _warn_prf(average, modifier, f\"{metric.capitalize()} is\", len(result))\n",
      "/opt/anaconda3/lib/python3.12/site-packages/sklearn/metrics/_classification.py:1531: UndefinedMetricWarning: Precision is ill-defined and being set to 0.0 in labels with no predicted samples. Use `zero_division` parameter to control this behavior.\n",
      "  _warn_prf(average, modifier, f\"{metric.capitalize()} is\", len(result))\n"
     ]
    }
   ],
   "source": [
    "model.eval()\n",
    "with torch.no_grad():\n",
    "\n",
    "    y_pred = model(X_test_new_scaler_tensor)\n",
    "    y_pred_labels = (y_pred > 0.5).float()\n",
    "\n",
    "    y_true = y_test_new_tensor.cpu().numpy()\n",
    "    y_pred_labels_np = y_pred_labels.cpu().numpy()\n",
    "\n",
    "\n",
    "\n",
    "    \n",
    "    acc = accuracy_score(y_true, y_pred_labels_np)\n",
    "    precision = precision_score(y_true, y_pred_labels_np)\n",
    "    recall = recall_score(y_true, y_pred_labels_np)\n",
    "    f1 = f1_score(y_true, y_pred_labels_np)\n",
    "\n",
    "\n",
    "    print(f\"\\nTest Accuracy:  {acc:.4f}\")\n",
    "    print(f\"Test Precision: {precision:.4f}\")\n",
    "    print(f\"Test Recall:    {recall:.4f}\")\n",
    "    print(f\"Test F1 Score:  {f1:.4f}\")\n",
    "    print(\"\\nClassification Report:\\n\", classification_report(y_true, y_pred_labels_np, digits=4))\n",
    "\n",
    "    \n",
    "    y_pred_train=model(X_tensor)\n",
    "    y_pred_labels_train = (y_pred_train > 0.5).float()\n",
    "    train_acc=accuracy_score(y, y_pred_labels_train)\n",
    "    print(f\"\\ntrain Accuracy: {train_acc:.4f}\")"
   ]
  }
 ],
 "metadata": {
  "kernelspec": {
   "display_name": "base",
   "language": "python",
   "name": "python3"
  },
  "language_info": {
   "codemirror_mode": {
    "name": "ipython",
    "version": 3
   },
   "file_extension": ".py",
   "mimetype": "text/x-python",
   "name": "python",
   "nbconvert_exporter": "python",
   "pygments_lexer": "ipython3",
   "version": "3.12.7"
  }
 },
 "nbformat": 4,
 "nbformat_minor": 5
}
