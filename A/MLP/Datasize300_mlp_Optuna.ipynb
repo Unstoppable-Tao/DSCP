{
 "cells": [
  {
   "cell_type": "code",
   "execution_count": 1,
   "id": "c72c3dea",
   "metadata": {},
   "outputs": [],
   "source": [
    "import pandas as pd\n",
    "import torch\n",
    "import torch.nn as nn\n",
    "import torch.optim as optim\n",
    "from sklearn.model_selection import train_test_split\n",
    "from sklearn.preprocessing import StandardScaler\n",
    "from sklearn.metrics import accuracy_score\n",
    "from sklearn.metrics import accuracy_score, precision_score, recall_score, f1_score, classification_report\n",
    "import optuna\n",
    "from sklearn.model_selection import StratifiedKFold\n",
    "import random\n",
    "import numpy as np\n",
    "from optuna.visualization import plot_optimization_history"
   ]
  },
  {
   "cell_type": "code",
   "execution_count": 2,
   "id": "793ac388",
   "metadata": {},
   "outputs": [],
   "source": [
    "df=pd.read_csv('../balanced_cleaned_trian_dataset.csv',index_col=0)\n",
    "test_set=pd.read_csv('../testset.csv',index_col=0)"
   ]
  },
  {
   "cell_type": "code",
   "execution_count": 3,
   "id": "042b13bc",
   "metadata": {},
   "outputs": [],
   "source": [
    "grouped = df.groupby(\"smoking\")\n",
    "df_0 = grouped.get_group(0)\n",
    "df_1 = grouped.get_group(1)\n",
    "df_0_half = df_0.sample(n=150, random_state=42)\n",
    "df_1_half = df_1.sample(n=150, random_state=42)\n",
    "df_half = pd.concat([df_0_half, df_1_half])\n",
    "df_half = df_half.sample(frac=1, random_state=42).reset_index(drop=True)\n"
   ]
  },
  {
   "cell_type": "code",
   "execution_count": 4,
   "id": "1dfb30ff",
   "metadata": {},
   "outputs": [],
   "source": [
    "train_copy=df_half.drop('id',axis=1)\n",
    "X = train_copy.drop('smoking', axis=1)\n",
    "y = train_copy['smoking']\n",
    "\n",
    "test_set=test_set.drop('id',axis=1)\n",
    "X_test_new= test_set.drop('smoking', axis=1)\n",
    "y_test_new = test_set['smoking']"
   ]
  },
  {
   "cell_type": "code",
   "execution_count": 5,
   "id": "34d89d09",
   "metadata": {},
   "outputs": [],
   "source": [
    "def set_seed(seed=42):\n",
    "    random.seed(seed)\n",
    "    np.random.seed(seed)\n",
    "    torch.manual_seed(seed)\n",
    "    torch.cuda.manual_seed_all(seed)  \n",
    "    torch.backends.cudnn.deterministic = True\n",
    "    torch.backends.cudnn.benchmark = False"
   ]
  },
  {
   "cell_type": "code",
   "execution_count": 10,
   "id": "8d9ab7ae",
   "metadata": {},
   "outputs": [
    {
     "name": "stderr",
     "output_type": "stream",
     "text": [
      "[I 2025-08-20 19:01:48,485] A new study created in memory with name: no-name-c913ace5-1c84-4fe9-ad77-9ede516bfa8a\n",
      "[I 2025-08-20 19:01:48,606] Trial 0 finished with value: 0.6933333333333334 and parameters: {'hidden1': 68, 'hidden2': 62, 'lr': 0.0029106359131330704, 'epochs': 44}. Best is trial 0 with value: 0.6933333333333334.\n",
      "[I 2025-08-20 19:01:48,716] Trial 1 finished with value: 0.5633333333333334 and parameters: {'hidden1': 47, 'hidden2': 23, 'lr': 0.00013066739238053285, 'epochs': 55}. Best is trial 0 with value: 0.6933333333333334.\n",
      "[I 2025-08-20 19:01:48,840] Trial 2 finished with value: 0.6333333333333333 and parameters: {'hidden1': 90, 'hidden2': 50, 'lr': 0.00010994335574766199, 'epochs': 59}. Best is trial 0 with value: 0.6933333333333334.\n",
      "[I 2025-08-20 19:01:48,889] Trial 3 finished with value: 0.6599999999999999 and parameters: {'hidden1': 112, 'hidden2': 26, 'lr': 0.0002310201887845295, 'epochs': 27}. Best is trial 0 with value: 0.6933333333333334.\n",
      "[I 2025-08-20 19:01:48,942] Trial 4 finished with value: 0.7033333333333334 and parameters: {'hidden1': 61, 'hidden2': 41, 'lr': 0.0007309539835912913, 'epochs': 31}. Best is trial 4 with value: 0.7033333333333334.\n",
      "[I 2025-08-20 19:01:48,997] Trial 5 finished with value: 0.6666666666666666 and parameters: {'hidden1': 91, 'hidden2': 22, 'lr': 0.0003839629299804173, 'epochs': 35}. Best is trial 4 with value: 0.7033333333333334.\n",
      "[I 2025-08-20 19:01:49,065] Trial 6 finished with value: 0.6633333333333333 and parameters: {'hidden1': 76, 'hidden2': 54, 'lr': 0.00025081156860452336, 'epochs': 41}. Best is trial 4 with value: 0.7033333333333334.\n",
      "[I 2025-08-20 19:01:49,130] Trial 7 finished with value: 0.6900000000000001 and parameters: {'hidden1': 89, 'hidden2': 18, 'lr': 0.0016409286730647919, 'epochs': 26}. Best is trial 4 with value: 0.7033333333333334.\n",
      "[I 2025-08-20 19:01:49,207] Trial 8 finished with value: 0.6833333333333333 and parameters: {'hidden1': 38, 'hidden2': 62, 'lr': 0.00853618986286683, 'epochs': 53}. Best is trial 4 with value: 0.7033333333333334.\n",
      "[I 2025-08-20 19:01:49,263] Trial 9 finished with value: 0.6866666666666668 and parameters: {'hidden1': 61, 'hidden2': 20, 'lr': 0.0023359635026261607, 'epochs': 38}. Best is trial 4 with value: 0.7033333333333334.\n",
      "[I 2025-08-20 19:01:49,311] Trial 10 finished with value: 0.7133333333333333 and parameters: {'hidden1': 123, 'hidden2': 35, 'lr': 0.000724359894840497, 'epochs': 20}. Best is trial 10 with value: 0.7133333333333333.\n",
      "[I 2025-08-20 19:01:49,357] Trial 11 finished with value: 0.7233333333333333 and parameters: {'hidden1': 122, 'hidden2': 36, 'lr': 0.0007006524581917545, 'epochs': 20}. Best is trial 11 with value: 0.7233333333333333.\n",
      "[I 2025-08-20 19:01:49,403] Trial 12 finished with value: 0.7133333333333333 and parameters: {'hidden1': 127, 'hidden2': 34, 'lr': 0.0006766360392628229, 'epochs': 20}. Best is trial 11 with value: 0.7233333333333333.\n",
      "[I 2025-08-20 19:01:49,449] Trial 13 finished with value: 0.6933333333333334 and parameters: {'hidden1': 114, 'hidden2': 37, 'lr': 0.0012353020831301375, 'epochs': 20}. Best is trial 11 with value: 0.7233333333333333.\n",
      "[I 2025-08-20 19:01:49,502] Trial 14 finished with value: 0.6966666666666667 and parameters: {'hidden1': 128, 'hidden2': 44, 'lr': 0.0004884508416860422, 'epochs': 25}. Best is trial 11 with value: 0.7233333333333333.\n",
      "[I 2025-08-20 19:01:49,582] Trial 15 finished with value: 0.7 and parameters: {'hidden1': 108, 'hidden2': 31, 'lr': 0.004122264891504679, 'epochs': 47}. Best is trial 11 with value: 0.7233333333333333.\n",
      "[I 2025-08-20 19:01:49,642] Trial 16 finished with value: 0.7266666666666666 and parameters: {'hidden1': 103, 'hidden2': 29, 'lr': 0.0010533018717800082, 'epochs': 31}. Best is trial 16 with value: 0.7266666666666666.\n",
      "[I 2025-08-20 19:01:49,705] Trial 17 finished with value: 0.71 and parameters: {'hidden1': 101, 'hidden2': 30, 'lr': 0.0013450549446761021, 'epochs': 33}. Best is trial 16 with value: 0.7266666666666666.\n",
      "[I 2025-08-20 19:01:49,764] Trial 18 finished with value: 0.6833333333333333 and parameters: {'hidden1': 103, 'hidden2': 45, 'lr': 0.005524500049271181, 'epochs': 29}. Best is trial 16 with value: 0.7266666666666666.\n",
      "[I 2025-08-20 19:01:49,816] Trial 19 finished with value: 0.7 and parameters: {'hidden1': 117, 'hidden2': 29, 'lr': 0.002029887637688399, 'epochs': 24}. Best is trial 16 with value: 0.7266666666666666.\n"
     ]
    },
    {
     "name": "stdout",
     "output_type": "stream",
     "text": [
      "best_params: {'hidden1': 103, 'hidden2': 29, 'lr': 0.0010533018717800082, 'epochs': 31}\n"
     ]
    }
   ],
   "source": [
    "skf = StratifiedKFold(n_splits=5, shuffle=True, random_state=42)\n",
    "\n",
    "def objective(trial):\n",
    "    hidden1 = trial.suggest_int('hidden1', 32, 128)\n",
    "    hidden2 = trial.suggest_int('hidden2', 16, 64)\n",
    "    lr = trial.suggest_float('lr', 1e-4, 1e-2, log=True)\n",
    "    epochs = trial.suggest_int('epochs', 20, 60)\n",
    "\n",
    "    scores = []\n",
    "\n",
    "    for train_idx, val_idx in skf.split(X, y):\n",
    "        \n",
    "        X_train_fold, X_val_fold = X.iloc[train_idx], X.iloc[val_idx]\n",
    "        y_train_fold, y_val_fold = y.iloc[train_idx], y.iloc[val_idx]\n",
    "\n",
    "        \n",
    "        scaler = StandardScaler()\n",
    "        X_train_scaled = scaler.fit_transform(X_train_fold)\n",
    "        X_val_scaled = scaler.transform(X_val_fold)\n",
    "\n",
    "        \n",
    "        X_train_tensor = torch.tensor(X_train_scaled, dtype=torch.float32)\n",
    "        X_val_tensor = torch.tensor(X_val_scaled, dtype=torch.float32)\n",
    "        y_train_tensor = torch.tensor(y_train_fold.values, dtype=torch.float32).view(-1, 1)\n",
    "        y_val_tensor = torch.tensor(y_val_fold.values, dtype=torch.float32).view(-1, 1)\n",
    "\n",
    "        \n",
    "        class MLP(nn.Module):\n",
    "            def __init__(self, input_dim):\n",
    "                super().__init__()\n",
    "                self.model = nn.Sequential(\n",
    "                    nn.Linear(input_dim, hidden1),\n",
    "                    nn.ReLU(),\n",
    "                    nn.Linear(hidden1, hidden2),\n",
    "                    nn.ReLU(),\n",
    "                    nn.Linear(hidden2, 1),\n",
    "                    nn.Sigmoid()\n",
    "                )\n",
    "            def forward(self, x):\n",
    "                return self.model(x)\n",
    "        set_seed(42)\n",
    "        model = MLP(X_train_tensor.shape[1])\n",
    "        criterion = nn.BCELoss()\n",
    "        optimizer = optim.Adam(model.parameters(), lr=lr)\n",
    "\n",
    "        \n",
    "        for epoch in range(epochs):\n",
    "            model.train()\n",
    "            optimizer.zero_grad()\n",
    "            outputs = model(X_train_tensor)\n",
    "            loss = criterion(outputs, y_train_tensor)\n",
    "            loss.backward()\n",
    "            optimizer.step()\n",
    "\n",
    "        \n",
    "        model.eval()\n",
    "        with torch.no_grad():\n",
    "            y_pred = model(X_val_tensor)\n",
    "            y_pred_labels = (y_pred > 0.5).float()\n",
    "            acc = accuracy_score(y_val_tensor, y_pred_labels)\n",
    "            scores.append(acc)\n",
    "\n",
    "    return np.mean(scores)\n",
    "\n",
    "\n",
    "sampler = optuna.samplers.TPESampler(seed=42)\n",
    "study = optuna.create_study(direction=\"maximize\", sampler=sampler)\n",
    "study.optimize(objective, n_trials=20)\n",
    "\n",
    "print(\"best_params:\", study.best_params)\n"
   ]
  },
  {
   "cell_type": "code",
   "execution_count": 12,
   "id": "548206ca",
   "metadata": {},
   "outputs": [
    {
     "data": {
      "application/vnd.plotly.v1+json": {
       "config": {
        "plotlyServerURL": "https://plot.ly"
       },
       "data": [
        {
         "mode": "markers",
         "name": "Objective Value",
         "type": "scatter",
         "x": [
          0,
          1,
          2,
          3,
          4,
          5,
          6,
          7,
          8,
          9,
          10,
          11,
          12,
          13,
          14,
          15,
          16,
          17,
          18,
          19
         ],
         "y": [
          0.6933333333333334,
          0.5633333333333334,
          0.6333333333333333,
          0.6599999999999999,
          0.7033333333333334,
          0.6666666666666666,
          0.6633333333333333,
          0.6900000000000001,
          0.6833333333333333,
          0.6866666666666668,
          0.7133333333333333,
          0.7233333333333333,
          0.7133333333333333,
          0.6933333333333334,
          0.6966666666666667,
          0.7,
          0.7266666666666666,
          0.71,
          0.6833333333333333,
          0.7
         ]
        },
        {
         "mode": "lines",
         "name": "Best Value",
         "type": "scatter",
         "x": [
          0,
          1,
          2,
          3,
          4,
          5,
          6,
          7,
          8,
          9,
          10,
          11,
          12,
          13,
          14,
          15,
          16,
          17,
          18,
          19
         ],
         "y": [
          0.6933333333333334,
          0.6933333333333334,
          0.6933333333333334,
          0.6933333333333334,
          0.7033333333333334,
          0.7033333333333334,
          0.7033333333333334,
          0.7033333333333334,
          0.7033333333333334,
          0.7033333333333334,
          0.7133333333333333,
          0.7233333333333333,
          0.7233333333333333,
          0.7233333333333333,
          0.7233333333333333,
          0.7233333333333333,
          0.7266666666666666,
          0.7266666666666666,
          0.7266666666666666,
          0.7266666666666666
         ]
        },
        {
         "marker": {
          "color": "#cccccc"
         },
         "mode": "markers",
         "name": "Infeasible Trial",
         "showlegend": false,
         "type": "scatter",
         "x": [],
         "y": []
        }
       ],
       "layout": {
        "template": {
         "data": {
          "bar": [
           {
            "error_x": {
             "color": "#2a3f5f"
            },
            "error_y": {
             "color": "#2a3f5f"
            },
            "marker": {
             "line": {
              "color": "#E5ECF6",
              "width": 0.5
             },
             "pattern": {
              "fillmode": "overlay",
              "size": 10,
              "solidity": 0.2
             }
            },
            "type": "bar"
           }
          ],
          "barpolar": [
           {
            "marker": {
             "line": {
              "color": "#E5ECF6",
              "width": 0.5
             },
             "pattern": {
              "fillmode": "overlay",
              "size": 10,
              "solidity": 0.2
             }
            },
            "type": "barpolar"
           }
          ],
          "carpet": [
           {
            "aaxis": {
             "endlinecolor": "#2a3f5f",
             "gridcolor": "white",
             "linecolor": "white",
             "minorgridcolor": "white",
             "startlinecolor": "#2a3f5f"
            },
            "baxis": {
             "endlinecolor": "#2a3f5f",
             "gridcolor": "white",
             "linecolor": "white",
             "minorgridcolor": "white",
             "startlinecolor": "#2a3f5f"
            },
            "type": "carpet"
           }
          ],
          "choropleth": [
           {
            "colorbar": {
             "outlinewidth": 0,
             "ticks": ""
            },
            "type": "choropleth"
           }
          ],
          "contour": [
           {
            "colorbar": {
             "outlinewidth": 0,
             "ticks": ""
            },
            "colorscale": [
             [
              0,
              "#0d0887"
             ],
             [
              0.1111111111111111,
              "#46039f"
             ],
             [
              0.2222222222222222,
              "#7201a8"
             ],
             [
              0.3333333333333333,
              "#9c179e"
             ],
             [
              0.4444444444444444,
              "#bd3786"
             ],
             [
              0.5555555555555556,
              "#d8576b"
             ],
             [
              0.6666666666666666,
              "#ed7953"
             ],
             [
              0.7777777777777778,
              "#fb9f3a"
             ],
             [
              0.8888888888888888,
              "#fdca26"
             ],
             [
              1,
              "#f0f921"
             ]
            ],
            "type": "contour"
           }
          ],
          "contourcarpet": [
           {
            "colorbar": {
             "outlinewidth": 0,
             "ticks": ""
            },
            "type": "contourcarpet"
           }
          ],
          "heatmap": [
           {
            "colorbar": {
             "outlinewidth": 0,
             "ticks": ""
            },
            "colorscale": [
             [
              0,
              "#0d0887"
             ],
             [
              0.1111111111111111,
              "#46039f"
             ],
             [
              0.2222222222222222,
              "#7201a8"
             ],
             [
              0.3333333333333333,
              "#9c179e"
             ],
             [
              0.4444444444444444,
              "#bd3786"
             ],
             [
              0.5555555555555556,
              "#d8576b"
             ],
             [
              0.6666666666666666,
              "#ed7953"
             ],
             [
              0.7777777777777778,
              "#fb9f3a"
             ],
             [
              0.8888888888888888,
              "#fdca26"
             ],
             [
              1,
              "#f0f921"
             ]
            ],
            "type": "heatmap"
           }
          ],
          "heatmapgl": [
           {
            "colorbar": {
             "outlinewidth": 0,
             "ticks": ""
            },
            "colorscale": [
             [
              0,
              "#0d0887"
             ],
             [
              0.1111111111111111,
              "#46039f"
             ],
             [
              0.2222222222222222,
              "#7201a8"
             ],
             [
              0.3333333333333333,
              "#9c179e"
             ],
             [
              0.4444444444444444,
              "#bd3786"
             ],
             [
              0.5555555555555556,
              "#d8576b"
             ],
             [
              0.6666666666666666,
              "#ed7953"
             ],
             [
              0.7777777777777778,
              "#fb9f3a"
             ],
             [
              0.8888888888888888,
              "#fdca26"
             ],
             [
              1,
              "#f0f921"
             ]
            ],
            "type": "heatmapgl"
           }
          ],
          "histogram": [
           {
            "marker": {
             "pattern": {
              "fillmode": "overlay",
              "size": 10,
              "solidity": 0.2
             }
            },
            "type": "histogram"
           }
          ],
          "histogram2d": [
           {
            "colorbar": {
             "outlinewidth": 0,
             "ticks": ""
            },
            "colorscale": [
             [
              0,
              "#0d0887"
             ],
             [
              0.1111111111111111,
              "#46039f"
             ],
             [
              0.2222222222222222,
              "#7201a8"
             ],
             [
              0.3333333333333333,
              "#9c179e"
             ],
             [
              0.4444444444444444,
              "#bd3786"
             ],
             [
              0.5555555555555556,
              "#d8576b"
             ],
             [
              0.6666666666666666,
              "#ed7953"
             ],
             [
              0.7777777777777778,
              "#fb9f3a"
             ],
             [
              0.8888888888888888,
              "#fdca26"
             ],
             [
              1,
              "#f0f921"
             ]
            ],
            "type": "histogram2d"
           }
          ],
          "histogram2dcontour": [
           {
            "colorbar": {
             "outlinewidth": 0,
             "ticks": ""
            },
            "colorscale": [
             [
              0,
              "#0d0887"
             ],
             [
              0.1111111111111111,
              "#46039f"
             ],
             [
              0.2222222222222222,
              "#7201a8"
             ],
             [
              0.3333333333333333,
              "#9c179e"
             ],
             [
              0.4444444444444444,
              "#bd3786"
             ],
             [
              0.5555555555555556,
              "#d8576b"
             ],
             [
              0.6666666666666666,
              "#ed7953"
             ],
             [
              0.7777777777777778,
              "#fb9f3a"
             ],
             [
              0.8888888888888888,
              "#fdca26"
             ],
             [
              1,
              "#f0f921"
             ]
            ],
            "type": "histogram2dcontour"
           }
          ],
          "mesh3d": [
           {
            "colorbar": {
             "outlinewidth": 0,
             "ticks": ""
            },
            "type": "mesh3d"
           }
          ],
          "parcoords": [
           {
            "line": {
             "colorbar": {
              "outlinewidth": 0,
              "ticks": ""
             }
            },
            "type": "parcoords"
           }
          ],
          "pie": [
           {
            "automargin": true,
            "type": "pie"
           }
          ],
          "scatter": [
           {
            "fillpattern": {
             "fillmode": "overlay",
             "size": 10,
             "solidity": 0.2
            },
            "type": "scatter"
           }
          ],
          "scatter3d": [
           {
            "line": {
             "colorbar": {
              "outlinewidth": 0,
              "ticks": ""
             }
            },
            "marker": {
             "colorbar": {
              "outlinewidth": 0,
              "ticks": ""
             }
            },
            "type": "scatter3d"
           }
          ],
          "scattercarpet": [
           {
            "marker": {
             "colorbar": {
              "outlinewidth": 0,
              "ticks": ""
             }
            },
            "type": "scattercarpet"
           }
          ],
          "scattergeo": [
           {
            "marker": {
             "colorbar": {
              "outlinewidth": 0,
              "ticks": ""
             }
            },
            "type": "scattergeo"
           }
          ],
          "scattergl": [
           {
            "marker": {
             "colorbar": {
              "outlinewidth": 0,
              "ticks": ""
             }
            },
            "type": "scattergl"
           }
          ],
          "scattermapbox": [
           {
            "marker": {
             "colorbar": {
              "outlinewidth": 0,
              "ticks": ""
             }
            },
            "type": "scattermapbox"
           }
          ],
          "scatterpolar": [
           {
            "marker": {
             "colorbar": {
              "outlinewidth": 0,
              "ticks": ""
             }
            },
            "type": "scatterpolar"
           }
          ],
          "scatterpolargl": [
           {
            "marker": {
             "colorbar": {
              "outlinewidth": 0,
              "ticks": ""
             }
            },
            "type": "scatterpolargl"
           }
          ],
          "scatterternary": [
           {
            "marker": {
             "colorbar": {
              "outlinewidth": 0,
              "ticks": ""
             }
            },
            "type": "scatterternary"
           }
          ],
          "surface": [
           {
            "colorbar": {
             "outlinewidth": 0,
             "ticks": ""
            },
            "colorscale": [
             [
              0,
              "#0d0887"
             ],
             [
              0.1111111111111111,
              "#46039f"
             ],
             [
              0.2222222222222222,
              "#7201a8"
             ],
             [
              0.3333333333333333,
              "#9c179e"
             ],
             [
              0.4444444444444444,
              "#bd3786"
             ],
             [
              0.5555555555555556,
              "#d8576b"
             ],
             [
              0.6666666666666666,
              "#ed7953"
             ],
             [
              0.7777777777777778,
              "#fb9f3a"
             ],
             [
              0.8888888888888888,
              "#fdca26"
             ],
             [
              1,
              "#f0f921"
             ]
            ],
            "type": "surface"
           }
          ],
          "table": [
           {
            "cells": {
             "fill": {
              "color": "#EBF0F8"
             },
             "line": {
              "color": "white"
             }
            },
            "header": {
             "fill": {
              "color": "#C8D4E3"
             },
             "line": {
              "color": "white"
             }
            },
            "type": "table"
           }
          ]
         },
         "layout": {
          "annotationdefaults": {
           "arrowcolor": "#2a3f5f",
           "arrowhead": 0,
           "arrowwidth": 1
          },
          "autotypenumbers": "strict",
          "coloraxis": {
           "colorbar": {
            "outlinewidth": 0,
            "ticks": ""
           }
          },
          "colorscale": {
           "diverging": [
            [
             0,
             "#8e0152"
            ],
            [
             0.1,
             "#c51b7d"
            ],
            [
             0.2,
             "#de77ae"
            ],
            [
             0.3,
             "#f1b6da"
            ],
            [
             0.4,
             "#fde0ef"
            ],
            [
             0.5,
             "#f7f7f7"
            ],
            [
             0.6,
             "#e6f5d0"
            ],
            [
             0.7,
             "#b8e186"
            ],
            [
             0.8,
             "#7fbc41"
            ],
            [
             0.9,
             "#4d9221"
            ],
            [
             1,
             "#276419"
            ]
           ],
           "sequential": [
            [
             0,
             "#0d0887"
            ],
            [
             0.1111111111111111,
             "#46039f"
            ],
            [
             0.2222222222222222,
             "#7201a8"
            ],
            [
             0.3333333333333333,
             "#9c179e"
            ],
            [
             0.4444444444444444,
             "#bd3786"
            ],
            [
             0.5555555555555556,
             "#d8576b"
            ],
            [
             0.6666666666666666,
             "#ed7953"
            ],
            [
             0.7777777777777778,
             "#fb9f3a"
            ],
            [
             0.8888888888888888,
             "#fdca26"
            ],
            [
             1,
             "#f0f921"
            ]
           ],
           "sequentialminus": [
            [
             0,
             "#0d0887"
            ],
            [
             0.1111111111111111,
             "#46039f"
            ],
            [
             0.2222222222222222,
             "#7201a8"
            ],
            [
             0.3333333333333333,
             "#9c179e"
            ],
            [
             0.4444444444444444,
             "#bd3786"
            ],
            [
             0.5555555555555556,
             "#d8576b"
            ],
            [
             0.6666666666666666,
             "#ed7953"
            ],
            [
             0.7777777777777778,
             "#fb9f3a"
            ],
            [
             0.8888888888888888,
             "#fdca26"
            ],
            [
             1,
             "#f0f921"
            ]
           ]
          },
          "colorway": [
           "#636efa",
           "#EF553B",
           "#00cc96",
           "#ab63fa",
           "#FFA15A",
           "#19d3f3",
           "#FF6692",
           "#B6E880",
           "#FF97FF",
           "#FECB52"
          ],
          "font": {
           "color": "#2a3f5f"
          },
          "geo": {
           "bgcolor": "white",
           "lakecolor": "white",
           "landcolor": "#E5ECF6",
           "showlakes": true,
           "showland": true,
           "subunitcolor": "white"
          },
          "hoverlabel": {
           "align": "left"
          },
          "hovermode": "closest",
          "mapbox": {
           "style": "light"
          },
          "paper_bgcolor": "white",
          "plot_bgcolor": "#E5ECF6",
          "polar": {
           "angularaxis": {
            "gridcolor": "white",
            "linecolor": "white",
            "ticks": ""
           },
           "bgcolor": "#E5ECF6",
           "radialaxis": {
            "gridcolor": "white",
            "linecolor": "white",
            "ticks": ""
           }
          },
          "scene": {
           "xaxis": {
            "backgroundcolor": "#E5ECF6",
            "gridcolor": "white",
            "gridwidth": 2,
            "linecolor": "white",
            "showbackground": true,
            "ticks": "",
            "zerolinecolor": "white"
           },
           "yaxis": {
            "backgroundcolor": "#E5ECF6",
            "gridcolor": "white",
            "gridwidth": 2,
            "linecolor": "white",
            "showbackground": true,
            "ticks": "",
            "zerolinecolor": "white"
           },
           "zaxis": {
            "backgroundcolor": "#E5ECF6",
            "gridcolor": "white",
            "gridwidth": 2,
            "linecolor": "white",
            "showbackground": true,
            "ticks": "",
            "zerolinecolor": "white"
           }
          },
          "shapedefaults": {
           "line": {
            "color": "#2a3f5f"
           }
          },
          "ternary": {
           "aaxis": {
            "gridcolor": "white",
            "linecolor": "white",
            "ticks": ""
           },
           "baxis": {
            "gridcolor": "white",
            "linecolor": "white",
            "ticks": ""
           },
           "bgcolor": "#E5ECF6",
           "caxis": {
            "gridcolor": "white",
            "linecolor": "white",
            "ticks": ""
           }
          },
          "title": {
           "x": 0.05
          },
          "xaxis": {
           "automargin": true,
           "gridcolor": "white",
           "linecolor": "white",
           "ticks": "",
           "title": {
            "standoff": 15
           },
           "zerolinecolor": "white",
           "zerolinewidth": 2
          },
          "yaxis": {
           "automargin": true,
           "gridcolor": "white",
           "linecolor": "white",
           "ticks": "",
           "title": {
            "standoff": 15
           },
           "zerolinecolor": "white",
           "zerolinewidth": 2
          }
         }
        },
        "title": {
         "font": {
          "size": 20
         },
         "text": "MLP Optimization Progress",
         "x": 0.5
        },
        "xaxis": {
         "title": {
          "text": "Trial Number"
         }
        },
        "yaxis": {
         "title": {
          "text": "Accuracy"
         }
        }
       }
      }
     },
     "metadata": {},
     "output_type": "display_data"
    }
   ],
   "source": [
    "fig = plot_optimization_history(study)\n",
    "fig.update_layout(\n",
    "    title_text=\"MLP Optimization Progress\",  \n",
    "    title_x=0.5,  \n",
    "    title_font_size=20,  \n",
    "    xaxis_title=\"Trial Number\",  \n",
    "    yaxis_title=\"Accuracy\"\n",
    ")\n",
    "fig.show()"
   ]
  }
 ],
 "metadata": {
  "kernelspec": {
   "display_name": "base",
   "language": "python",
   "name": "python3"
  },
  "language_info": {
   "codemirror_mode": {
    "name": "ipython",
    "version": 3
   },
   "file_extension": ".py",
   "mimetype": "text/x-python",
   "name": "python",
   "nbconvert_exporter": "python",
   "pygments_lexer": "ipython3",
   "version": "3.12.7"
  }
 },
 "nbformat": 4,
 "nbformat_minor": 5
}
