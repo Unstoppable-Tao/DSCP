{
 "cells": [
  {
   "cell_type": "code",
   "execution_count": 1,
   "id": "89b98d56",
   "metadata": {},
   "outputs": [],
   "source": [
    "import xgboost as xgb\n",
    "from sklearn.datasets import load_iris\n",
    "from sklearn.model_selection import train_test_split\n",
    "from sklearn.metrics import accuracy_score, classification_report\n",
    "import numpy as np \n",
    "import pandas as pd\n",
    "from sklearn.model_selection import cross_val_score, StratifiedKFold\n",
    "from sklearn.preprocessing import MinMaxScaler\n",
    "import optuna\n",
    "from sklearn.preprocessing import StandardScaler\n",
    "import optuna\n",
    "from sklearn.model_selection import StratifiedKFold\n",
    "from sklearn.preprocessing import MinMaxScaler\n",
    "from sklearn.metrics import accuracy_score\n",
    "import numpy as np\n",
    "import xgboost as xgb\n",
    "from sklearn.metrics import accuracy_score, precision_score, recall_score, f1_score"
   ]
  },
  {
   "cell_type": "code",
   "execution_count": 2,
   "id": "51a9ae68",
   "metadata": {},
   "outputs": [],
   "source": [
    "# #df=pd.read_csv('cleaned2_df.csv',index_col=0)\n",
    "# df=pd.read_csv('cleaned_df.csv',index_col=0)\n"
   ]
  },
  {
   "cell_type": "code",
   "execution_count": 3,
   "id": "250fbac5",
   "metadata": {},
   "outputs": [],
   "source": [
    "# df_sample=df.sample(50000,random_state=42)\n",
    "# X=df_sample.drop('smoking',axis=1)\n",
    "# y=df_sample['smoking']\n"
   ]
  },
  {
   "cell_type": "code",
   "execution_count": 4,
   "id": "9ece774a",
   "metadata": {},
   "outputs": [],
   "source": [
    "df=pd.read_csv('balanced_cleaned_train_dataset.csv')\n"
   ]
  },
  {
   "cell_type": "code",
   "execution_count": 5,
   "id": "9ecbaa1d",
   "metadata": {},
   "outputs": [],
   "source": [
    "test_set=pd.read_csv('testset.csv')\n",
    "\n",
    "X=df.drop('smoking',axis=1)\n",
    "y=df['smoking']\n",
    "\n",
    "\n",
    "X_test= test_set.drop('smoking', axis=1)\n",
    "y_test = test_set['smoking']"
   ]
  },
  {
   "cell_type": "code",
   "execution_count": 6,
   "id": "b4f95e4e",
   "metadata": {},
   "outputs": [],
   "source": [
    "# duplicates = pd.merge(df, test_set, how='inner')\n",
    "# duplicates.head()"
   ]
  },
  {
   "cell_type": "code",
   "execution_count": null,
   "id": "1c7b15e6",
   "metadata": {},
   "outputs": [
    {
     "name": "stderr",
     "output_type": "stream",
     "text": [
      "[I 2025-08-14 11:32:40,928] A new study created in memory with name: no-name-a0de816f-d324-4897-be4e-d67de85378ea\n",
      "[I 2025-08-14 11:32:42,400] Trial 0 finished with value: 0.8205 and parameters: {'n_estimators': 180, 'max_depth': 10, 'learning_rate': 0.1205712628744377}. Best is trial 0 with value: 0.8205.\n",
      "[I 2025-08-14 11:32:42,946] Trial 1 finished with value: 0.8296000000000001 and parameters: {'n_estimators': 220, 'max_depth': 4, 'learning_rate': 0.01699897838270077}. Best is trial 1 with value: 0.8296000000000001.\n",
      "[I 2025-08-14 11:32:43,748] Trial 2 finished with value: 0.8227500000000001 and parameters: {'n_estimators': 100, 'max_depth': 9, 'learning_rate': 0.07725378389307355}. Best is trial 1 with value: 0.8296000000000001.\n",
      "[I 2025-08-14 11:32:44,155] Trial 3 finished with value: 0.8231999999999999 and parameters: {'n_estimators': 240, 'max_depth': 3, 'learning_rate': 0.27081608642499677}. Best is trial 1 with value: 0.8296000000000001.\n",
      "[I 2025-08-14 11:32:44,824] Trial 4 finished with value: 0.8298 and parameters: {'n_estimators': 280, 'max_depth': 4, 'learning_rate': 0.01855998084649058}. Best is trial 4 with value: 0.8298.\n",
      "[I 2025-08-14 11:32:45,327] Trial 5 finished with value: 0.82875 and parameters: {'n_estimators': 140, 'max_depth': 5, 'learning_rate': 0.05958389350068958}. Best is trial 4 with value: 0.8298.\n",
      "[I 2025-08-14 11:32:45,814] Trial 6 finished with value: 0.8271499999999999 and parameters: {'n_estimators': 180, 'max_depth': 5, 'learning_rate': 0.08012737503998542}. Best is trial 4 with value: 0.8298.\n",
      "[I 2025-08-14 11:32:46,200] Trial 7 finished with value: 0.8298 and parameters: {'n_estimators': 120, 'max_depth': 5, 'learning_rate': 0.03476649150592621}. Best is trial 4 with value: 0.8298.\n",
      "[I 2025-08-14 11:32:47,924] Trial 8 finished with value: 0.8238 and parameters: {'n_estimators': 200, 'max_depth': 9, 'learning_rate': 0.019721610970574007}. Best is trial 4 with value: 0.8298.\n",
      "[I 2025-08-14 11:32:48,944] Trial 9 finished with value: 0.8281499999999999 and parameters: {'n_estimators': 200, 'max_depth': 7, 'learning_rate': 0.011711509955524094}. Best is trial 4 with value: 0.8298.\n",
      "[I 2025-08-14 11:32:50,273] Trial 10 finished with value: 0.8265 and parameters: {'n_estimators': 300, 'max_depth': 7, 'learning_rate': 0.028758880048192027}. Best is trial 4 with value: 0.8298.\n",
      "[I 2025-08-14 11:32:51,087] Trial 11 finished with value: 0.82865 and parameters: {'n_estimators': 300, 'max_depth': 5, 'learning_rate': 0.03220579752389847}. Best is trial 4 with value: 0.8298.\n",
      "[I 2025-08-14 11:32:51,560] Trial 12 finished with value: 0.8294 and parameters: {'n_estimators': 260, 'max_depth': 3, 'learning_rate': 0.03369397828966601}. Best is trial 4 with value: 0.8298.\n",
      "[I 2025-08-14 11:32:51,990] Trial 13 finished with value: 0.8269500000000001 and parameters: {'n_estimators': 100, 'max_depth': 6, 'learning_rate': 0.010310087913991555}. Best is trial 4 with value: 0.8298.\n",
      "[I 2025-08-14 11:32:52,344] Trial 14 finished with value: 0.8289 and parameters: {'n_estimators': 140, 'max_depth': 4, 'learning_rate': 0.02060725571982225}. Best is trial 4 with value: 0.8298.\n",
      "[I 2025-08-14 11:32:53,237] Trial 15 finished with value: 0.8271499999999999 and parameters: {'n_estimators': 260, 'max_depth': 6, 'learning_rate': 0.042440989633783135}. Best is trial 4 with value: 0.8298.\n",
      "[I 2025-08-14 11:32:53,552] Trial 16 finished with value: 0.8268000000000001 and parameters: {'n_estimators': 140, 'max_depth': 4, 'learning_rate': 0.1476033359957938}. Best is trial 4 with value: 0.8298.\n",
      "[I 2025-08-14 11:32:54,074] Trial 17 finished with value: 0.8288500000000001 and parameters: {'n_estimators': 280, 'max_depth': 3, 'learning_rate': 0.01503466577201214}. Best is trial 4 with value: 0.8298.\n",
      "[I 2025-08-14 11:32:54,728] Trial 18 finished with value: 0.8290000000000001 and parameters: {'n_estimators': 160, 'max_depth': 6, 'learning_rate': 0.026490721483130225}. Best is trial 4 with value: 0.8298.\n",
      "[I 2025-08-14 11:32:56,081] Trial 19 finished with value: 0.82415 and parameters: {'n_estimators': 240, 'max_depth': 8, 'learning_rate': 0.047246527645281526}. Best is trial 4 with value: 0.8298.\n"
     ]
    },
    {
     "name": "stdout",
     "output_type": "stream",
     "text": [
      "best_params: {'n_estimators': 280, 'max_depth': 4, 'learning_rate': 0.01855998084649058}\n",
      "best_value: 0.8298\n"
     ]
    }
   ],
   "source": [
    "\n",
    "skf = StratifiedKFold(n_splits=5, shuffle=True, random_state=42)\n",
    "\n",
    "def objective(trial):\n",
    "    \n",
    "    n_estimators = trial.suggest_int('n_estimators', 100, 300, step=20)\n",
    "    max_depth = trial.suggest_int('max_depth', 3, 10)\n",
    "    learning_rate = trial.suggest_float('learning_rate', 0.01, 0.3, log=True)\n",
    "\n",
    "    scores = []\n",
    "\n",
    "    for train_idx, val_idx in skf.split(X, y):\n",
    "        X_train, X_val = X.iloc[train_idx], X.iloc[val_idx]\n",
    "        y_train, y_val = y.iloc[train_idx], y.iloc[val_idx]\n",
    "\n",
    "        \n",
    "        #scaler = MinMaxScaler()\n",
    "        # scaler =StandardScaler()\n",
    "        # X_train_scaled = scaler.fit_transform(X_train)\n",
    "        # X_val_scaled = scaler.transform(X_val)\n",
    "\n",
    "        \n",
    "        model = xgb.XGBClassifier(\n",
    "            objective='binary:logistic',\n",
    "            eval_metric='logloss',\n",
    "            n_estimators=n_estimators,\n",
    "            max_depth=max_depth,\n",
    "            learning_rate=learning_rate,\n",
    "            n_jobs=-1,\n",
    "            random_state=42\n",
    "        )\n",
    "\n",
    "        model.fit(X_train, y_train)\n",
    "        y_pred = model.predict(X_val)\n",
    "        acc = accuracy_score(y_val, y_pred)\n",
    "        scores.append(acc)\n",
    "\n",
    "    return np.mean(scores)\n",
    "\n",
    "sampler = optuna.samplers.TPESampler(seed=42)\n",
    "study = optuna.create_study(direction='maximize',sampler=sampler)\n",
    "study.optimize(objective, n_trials=20)  \n",
    "\n",
    "\n",
    "print(\"best_params:\", study.best_params)\n",
    "print(f\"best_value: {study.best_value:.4f}\")"
   ]
  },
  {
   "cell_type": "code",
   "execution_count": 8,
   "id": "6636a770",
   "metadata": {},
   "outputs": [
    {
     "name": "stdout",
     "output_type": "stream",
     "text": [
      "Train Accuracy: 0.8343, test Accuracy: 0.8380\n",
      "Test set Accuracy:  0.8380\n",
      "Test set Precision: 0.8488\n",
      "Test set Recall:    0.8380\n",
      "Test set F1 Score:  0.8367\n",
      "\n",
      "Test set classification_report:\n",
      "              precision    recall  f1-score   support\n",
      "\n",
      "           0     0.9102    0.7500    0.8224      1000\n",
      "           1     0.7874    0.9260    0.8511      1000\n",
      "\n",
      "    accuracy                         0.8380      2000\n",
      "   macro avg     0.8488    0.8380    0.8367      2000\n",
      "weighted avg     0.8488    0.8380    0.8367      2000\n",
      "\n"
     ]
    }
   ],
   "source": [
    "model = xgb.XGBClassifier(\n",
    "        objective='binary:logistic',\n",
    "        max_depth=4,\n",
    "        learning_rate=0.01855998084649058,\n",
    "        n_estimators=280,\n",
    "        eval_metric='logloss',\n",
    "        random_state=42\n",
    "    )\n",
    "model.fit(X, y)  \n",
    "\n",
    "y_test_pred = model.predict(X_test)\n",
    "\n",
    "acc_test = accuracy_score(y_test, y_test_pred)\n",
    "precision_test = precision_score(y_test, y_test_pred, average='macro')\n",
    "recall_test = recall_score(y_test, y_test_pred, average='macro')\n",
    "f1_test = f1_score(y_test, y_test_pred, average='macro')\n",
    "\n",
    "train_pred = model.predict(X)  \n",
    "train_acc = accuracy_score(y, train_pred)\n",
    "print(f\"Train Accuracy: {train_acc:.4f}, test Accuracy: {acc_test:.4f}\")\n",
    "\n",
    "print(f\"Test set Accuracy:  {acc_test:.4f}\")\n",
    "print(f\"Test set Precision: {precision_test:.4f}\")\n",
    "print(f\"Test set Recall:    {recall_test:.4f}\")\n",
    "print(f\"Test set F1 Score:  {f1_test:.4f}\")\n",
    "print(\"\\nTest set classification_report:\")\n",
    "print(classification_report(y_test, y_test_pred, digits=4))"
   ]
  },
  {
   "cell_type": "code",
   "execution_count": null,
   "id": "e11a67cf",
   "metadata": {},
   "outputs": [
    {
     "name": "stdout",
     "output_type": "stream",
     "text": [
      "Train Accuracy: 0.8353, val Accuracy: 0.8270\n",
      "Train Accuracy: 0.8339, val Accuracy: 0.8340\n",
      "Train Accuracy: 0.8348, val Accuracy: 0.8303\n",
      "Train Accuracy: 0.8339, val Accuracy: 0.8310\n",
      "Train Accuracy: 0.8356, val Accuracy: 0.8267\n"
     ]
    }
   ],
   "source": [
    "\n",
    "skf = StratifiedKFold(n_splits=5, shuffle=True, random_state=42)\n",
    "scores = []\n",
    "\n",
    "for train_idx, val_idx in skf.split(X, y):\n",
    "    X_train, X_val = X.iloc[train_idx], X.iloc[val_idx]\n",
    "    y_train, y_val = y.iloc[train_idx], y.iloc[val_idx]\n",
    "\n",
    "    \n",
    "    #scaler = MinMaxScaler()\n",
    "    # scaler =StandardScaler()\n",
    "    # X_train_scaled = scaler.fit_transform(X_train)\n",
    "    # X_val_scaled = scaler.transform(X_val)\n",
    "\n",
    "    \n",
    "    model = xgb.XGBClassifier(\n",
    "        objective='binary:logistic',\n",
    "        max_depth=4,\n",
    "        learning_rate=0.01855998084649058,\n",
    "        n_estimators=280,\n",
    "        eval_metric='logloss',\n",
    "        random_state=42\n",
    "    )\n",
    "\n",
    "    model.fit(X_train, y_train)\n",
    "    y_pred = model.predict(X_val)\n",
    "    acc = accuracy_score(y_val, y_pred)\n",
    "\n",
    "    y_train_pred=model.predict(X_train)\n",
    "    train_acc= accuracy_score(y_train,y_train_pred)\n",
    "\n",
    "    print(f\"Train Accuracy: {train_acc:.4f}, val Accuracy: {acc:.4f}\")\n",
    "\n",
    "\n",
    "\n",
    "\n",
    "\n",
    "\n",
    "\n",
    "    \n",
    "\n"
   ]
  }
 ],
 "metadata": {
  "kernelspec": {
   "display_name": "base",
   "language": "python",
   "name": "python3"
  },
  "language_info": {
   "codemirror_mode": {
    "name": "ipython",
    "version": 3
   },
   "file_extension": ".py",
   "mimetype": "text/x-python",
   "name": "python",
   "nbconvert_exporter": "python",
   "pygments_lexer": "ipython3",
   "version": "3.12.7"
  }
 },
 "nbformat": 4,
 "nbformat_minor": 5
}
