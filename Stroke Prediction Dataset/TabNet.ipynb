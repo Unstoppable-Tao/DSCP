{
 "cells": [
  {
   "cell_type": "code",
   "execution_count": 1,
   "id": "7791441d",
   "metadata": {},
   "outputs": [],
   "source": [
    "from pytorch_tabnet.tab_model import TabNetClassifier\n",
    "from sklearn.metrics import accuracy_score, classification_report\n",
    "from sklearn.model_selection import train_test_split\n",
    "from sklearn.preprocessing import StandardScaler\n",
    "import pandas as pd\n",
    "import numpy as np\n",
    "import torch"
   ]
  },
  {
   "cell_type": "code",
   "execution_count": 2,
   "id": "b08942f5",
   "metadata": {},
   "outputs": [],
   "source": [
    "df=pd.read_csv('cleaned.csv',index_col=0)\n",
    "train_copy=df.drop(columns=['bmi','avg_glucose_level','age'])\n",
    "X = train_copy.drop('smoking_status', axis=1)\n",
    "y = train_copy['smoking_status']\n"
   ]
  },
  {
   "cell_type": "code",
   "execution_count": 3,
   "id": "2af8487c",
   "metadata": {},
   "outputs": [
    {
     "name": "stderr",
     "output_type": "stream",
     "text": [
      "/opt/anaconda3/lib/python3.12/site-packages/pytorch_tabnet/abstract_model.py:82: UserWarning: Device used : cpu\n",
      "  warnings.warn(f\"Device used : {self.device}\")\n"
     ]
    }
   ],
   "source": [
    "scaler = StandardScaler()\n",
    "X_scaled = scaler.fit_transform(X)\n",
    "\n",
    "X_train, X_test, y_train, y_test = train_test_split(\n",
    "    X_scaled, y, test_size=0.2, random_state=42\n",
    ")\n",
    "\n",
    "\n",
    "X_train_np = X_train.astype(np.float32)\n",
    "X_test_np = X_test.astype(np.float32)\n",
    "y_train_np = y_train.values.astype(int)\n",
    "y_test_np = y_test.values.astype(int)\n",
    "\n",
    "\n",
    "tabnet_model = TabNetClassifier(\n",
    "    optimizer_fn=torch.optim.Adam,\n",
    "    optimizer_params=dict(lr=0.001),\n",
    "    scheduler_params={\"step_size\":10, \"gamma\":0.9},\n",
    "    scheduler_fn=torch.optim.lr_scheduler.StepLR,\n",
    "    verbose=10,\n",
    ")"
   ]
  },
  {
   "cell_type": "code",
   "execution_count": 4,
   "id": "0b9b45d5",
   "metadata": {},
   "outputs": [
    {
     "name": "stdout",
     "output_type": "stream",
     "text": [
      "epoch 0  | loss: 0.7569  | val_0_accuracy: 0.54227 |  0:00:00s\n",
      "epoch 10 | loss: 0.68843 | val_0_accuracy: 0.5656  |  0:00:01s\n",
      "epoch 20 | loss: 0.67919 | val_0_accuracy: 0.5656  |  0:00:02s\n",
      "\n",
      "Early stopping occurred at epoch 25 with best_epoch = 15 and best_val_0_accuracy = 0.56997\n",
      "\n",
      " TabNet Test Accuracy: 0.5700\n",
      "              precision    recall  f1-score   support\n",
      "\n",
      "           0       0.58      0.71      0.64       371\n",
      "           1       0.54      0.40      0.46       315\n",
      "\n",
      "    accuracy                           0.57       686\n",
      "   macro avg       0.56      0.56      0.55       686\n",
      "weighted avg       0.57      0.57      0.56       686\n",
      "\n"
     ]
    },
    {
     "name": "stderr",
     "output_type": "stream",
     "text": [
      "/opt/anaconda3/lib/python3.12/site-packages/pytorch_tabnet/callbacks.py:172: UserWarning: Best weights from best epoch are automatically used!\n",
      "  warnings.warn(wrn_msg)\n"
     ]
    }
   ],
   "source": [
    "tabnet_model.fit(\n",
    "    X_train=X_train_np, y_train=y_train_np,\n",
    "    eval_set=[(X_test_np, y_test_np)],\n",
    "    eval_metric=['accuracy'],\n",
    "    max_epochs=50,\n",
    "    patience=10,\n",
    "    batch_size=90,\n",
    "    virtual_batch_size=128,\n",
    ")\n",
    "\n",
    "\n",
    "y_pred = tabnet_model.predict(X_test_np)\n",
    "acc = accuracy_score(y_test_np, y_pred)\n",
    "print(f\"\\n TabNet Test Accuracy: {acc:.4f}\")\n",
    "print(classification_report(y_test_np, y_pred))"
   ]
  }
 ],
 "metadata": {
  "kernelspec": {
   "display_name": "base",
   "language": "python",
   "name": "python3"
  },
  "language_info": {
   "codemirror_mode": {
    "name": "ipython",
    "version": 3
   },
   "file_extension": ".py",
   "mimetype": "text/x-python",
   "name": "python",
   "nbconvert_exporter": "python",
   "pygments_lexer": "ipython3",
   "version": "3.12.7"
  }
 },
 "nbformat": 4,
 "nbformat_minor": 5
}
